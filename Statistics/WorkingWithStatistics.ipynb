{
 "cells": [
  {
   "cell_type": "markdown",
   "id": "f3f19ee5",
   "metadata": {},
   "source": [
    "# Statistics"
   ]
  },
  {
   "cell_type": "code",
   "execution_count": 1,
   "id": "45a025d6",
   "metadata": {},
   "outputs": [],
   "source": [
    "import numpy as np\n",
    "import pandas as pd\n",
    "import matplotlib as plt\n",
    "# import scipy.stats as stats"
   ]
  },
  {
   "cell_type": "code",
   "execution_count": 2,
   "id": "65e9c274",
   "metadata": {},
   "outputs": [],
   "source": [
    "#Setting a random seed for reproducibility\n",
    "np.random.seed(2)"
   ]
  },
  {
   "cell_type": "code",
   "execution_count": 3,
   "id": "93690bfe",
   "metadata": {},
   "outputs": [],
   "source": [
    "#Simulating a dataset for AI Engineering students\n",
    "\n",
    "#1. Traditional learning: classroom based\n",
    "# Creating a 25 hours/week and standard deviation of 5 hours\n",
    "traditional_study_hours = np.random.normal(25, 5, 100)\n",
    "\n",
    "#2. Accelerated learning (project-based and hands-on style)\n",
    "#This will be a 35 hours/week and a standard deviation 8 hours\n",
    "accelerated_study_hours = np.random.normal(35, 8, 100) #this creates a normal distribution with the given datapoints\n",
    "\n",
    "#Generating  corresponding performance scores between 0 - 100\n",
    "#Letting the performance coorelate with study hours but has some randomness\n",
    "\n",
    "traditional_scores = np.random.normal(75, 12, 100)\n",
    "accelerated_scores = np.random.normal(35, 8, 100)\n",
    "\n",
    "# Generating project completion counts\n",
    "traditional_projects = np.random.poisson(8, 100)\n",
    "accelerated_projects = np.random.poisson(12, 100)"
   ]
  },
  {
   "cell_type": "code",
   "execution_count": 4,
   "id": "a7544e5a",
   "metadata": {},
   "outputs": [],
   "source": [
    "#Creating a DataFrame\n",
    "\n",
    "data = pd.DataFrame({\n",
    "    \"Study_Hours_Per_Week\": np.concatenate([traditional_study_hours, accelerated_study_hours]),\n",
    "    'Performance_Score': np.concatenate([traditional_scores, accelerated_scores]),\n",
    "    \"Projects_Completed\": np.concatenate([traditional_projects, accelerated_projects]),\n",
    "    \"Learning_Track\": [\"Traditional\"]*100 + [\"Accelerated\"]*100\n",
    "})"
   ]
  },
  {
   "cell_type": "code",
   "execution_count": 5,
   "id": "20def7d5",
   "metadata": {},
   "outputs": [
    {
     "data": {
      "text/html": [
       "<div>\n",
       "<style scoped>\n",
       "    .dataframe tbody tr th:only-of-type {\n",
       "        vertical-align: middle;\n",
       "    }\n",
       "\n",
       "    .dataframe tbody tr th {\n",
       "        vertical-align: top;\n",
       "    }\n",
       "\n",
       "    .dataframe thead th {\n",
       "        text-align: right;\n",
       "    }\n",
       "</style>\n",
       "<table border=\"1\" class=\"dataframe\">\n",
       "  <thead>\n",
       "    <tr style=\"text-align: right;\">\n",
       "      <th></th>\n",
       "      <th>Study_Hours_Per_Week</th>\n",
       "      <th>Performance_Score</th>\n",
       "      <th>Projects_Completed</th>\n",
       "      <th>Learning_Track</th>\n",
       "    </tr>\n",
       "  </thead>\n",
       "  <tbody>\n",
       "    <tr>\n",
       "      <th>0</th>\n",
       "      <td>22.916211</td>\n",
       "      <td>61.187965</td>\n",
       "      <td>7</td>\n",
       "      <td>Traditional</td>\n",
       "    </tr>\n",
       "    <tr>\n",
       "      <th>1</th>\n",
       "      <td>24.718666</td>\n",
       "      <td>69.881730</td>\n",
       "      <td>12</td>\n",
       "      <td>Traditional</td>\n",
       "    </tr>\n",
       "    <tr>\n",
       "      <th>2</th>\n",
       "      <td>14.319020</td>\n",
       "      <td>73.222234</td>\n",
       "      <td>7</td>\n",
       "      <td>Traditional</td>\n",
       "    </tr>\n",
       "    <tr>\n",
       "      <th>3</th>\n",
       "      <td>33.201354</td>\n",
       "      <td>93.017243</td>\n",
       "      <td>6</td>\n",
       "      <td>Traditional</td>\n",
       "    </tr>\n",
       "    <tr>\n",
       "      <th>4</th>\n",
       "      <td>16.032822</td>\n",
       "      <td>85.435178</td>\n",
       "      <td>8</td>\n",
       "      <td>Traditional</td>\n",
       "    </tr>\n",
       "  </tbody>\n",
       "</table>\n",
       "</div>"
      ],
      "text/plain": [
       "   Study_Hours_Per_Week  Performance_Score  Projects_Completed Learning_Track\n",
       "0             22.916211          61.187965                   7    Traditional\n",
       "1             24.718666          69.881730                  12    Traditional\n",
       "2             14.319020          73.222234                   7    Traditional\n",
       "3             33.201354          93.017243                   6    Traditional\n",
       "4             16.032822          85.435178                   8    Traditional"
      ]
     },
     "execution_count": 5,
     "metadata": {},
     "output_type": "execute_result"
    }
   ],
   "source": [
    "data.head()"
   ]
  },
  {
   "cell_type": "code",
   "execution_count": null,
   "id": "785af027",
   "metadata": {},
   "outputs": [],
   "source": []
  }
 ],
 "metadata": {
  "kernelspec": {
   "display_name": "intro_to_numpy (3.13.7)",
   "language": "python",
   "name": "python3"
  },
  "language_info": {
   "codemirror_mode": {
    "name": "ipython",
    "version": 3
   },
   "file_extension": ".py",
   "mimetype": "text/x-python",
   "name": "python",
   "nbconvert_exporter": "python",
   "pygments_lexer": "ipython3",
   "version": "3.13.7"
  }
 },
 "nbformat": 4,
 "nbformat_minor": 5
}
