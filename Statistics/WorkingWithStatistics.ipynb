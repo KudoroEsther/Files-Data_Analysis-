{
 "cells": [
  {
   "cell_type": "markdown",
   "id": "f3f19ee5",
   "metadata": {},
   "source": [
    "# Statistics"
   ]
  },
  {
   "cell_type": "code",
   "execution_count": 2,
   "id": "45a025d6",
   "metadata": {},
   "outputs": [],
   "source": [
    "import numpy as np\n",
    "import pandas as pd\n",
    "import matplotlib as plt\n",
    "# import scipy.stats as stats"
   ]
  },
  {
   "cell_type": "code",
   "execution_count": 3,
   "id": "65e9c274",
   "metadata": {},
   "outputs": [],
   "source": [
    "#Setting a random seed for reproducibility\n",
    "np.random.seed(2)"
   ]
  },
  {
   "cell_type": "code",
   "execution_count": 4,
   "id": "93690bfe",
   "metadata": {},
   "outputs": [],
   "source": [
    "#Simulating a dataset for AI Engineering students\n",
    "\n",
    "#1. Traditional learning: classroom based\n",
    "# Creating a 25 hours/week and standard deviation of 5 hours\n",
    "traditional_study_hours = np.random.normal(25, 5, 100) #creates 100 datapoints\n",
    "\n",
    "#2. Accelerated learning (project-based and hands-on style)\n",
    "#This will be a 35 hours/week and a standard deviation 8 hours\n",
    "accelerated_study_hours = np.random.normal(35, 8, 100) #this creates a normal distribution with the given datapoints\n",
    "\n",
    "#Generating  corresponding performance scores between 0 - 100\n",
    "#Letting the performance coorelate with study hours but has some randomness\n",
    "\n",
    "traditional_scores = np.random.normal(75, 12, 100)\n",
    "accelerated_scores = np.random.normal(35, 8, 100)\n",
    "\n",
    "# Generating project completion counts\n",
    "traditional_projects = np.random.poisson(8, 100)\n",
    "accelerated_projects = np.random.poisson(12, 100)"
   ]
  },
  {
   "cell_type": "code",
   "execution_count": 5,
   "id": "a7544e5a",
   "metadata": {},
   "outputs": [],
   "source": [
    "#Creating a DataFrame\n",
    "\n",
    "data = pd.DataFrame({\n",
    "    \"Study_Hours_Per_Week\": np.concatenate([traditional_study_hours, accelerated_study_hours]),\n",
    "    'Performance_Score': np.concatenate([traditional_scores, accelerated_scores]),\n",
    "    \"Projects_Completed\": np.concatenate([traditional_projects, accelerated_projects]),\n",
    "    \"Learning_Track\": [\"Traditional\"]*100 + [\"Accelerated\"]*100\n",
    "})"
   ]
  },
  {
   "cell_type": "code",
   "execution_count": 6,
   "id": "20def7d5",
   "metadata": {},
   "outputs": [
    {
     "data": {
      "text/html": [
       "<div>\n",
       "<style scoped>\n",
       "    .dataframe tbody tr th:only-of-type {\n",
       "        vertical-align: middle;\n",
       "    }\n",
       "\n",
       "    .dataframe tbody tr th {\n",
       "        vertical-align: top;\n",
       "    }\n",
       "\n",
       "    .dataframe thead th {\n",
       "        text-align: right;\n",
       "    }\n",
       "</style>\n",
       "<table border=\"1\" class=\"dataframe\">\n",
       "  <thead>\n",
       "    <tr style=\"text-align: right;\">\n",
       "      <th></th>\n",
       "      <th>Study_Hours_Per_Week</th>\n",
       "      <th>Performance_Score</th>\n",
       "      <th>Projects_Completed</th>\n",
       "      <th>Learning_Track</th>\n",
       "    </tr>\n",
       "  </thead>\n",
       "  <tbody>\n",
       "    <tr>\n",
       "      <th>0</th>\n",
       "      <td>22.916211</td>\n",
       "      <td>61.187965</td>\n",
       "      <td>7</td>\n",
       "      <td>Traditional</td>\n",
       "    </tr>\n",
       "    <tr>\n",
       "      <th>1</th>\n",
       "      <td>24.718666</td>\n",
       "      <td>69.881730</td>\n",
       "      <td>12</td>\n",
       "      <td>Traditional</td>\n",
       "    </tr>\n",
       "    <tr>\n",
       "      <th>2</th>\n",
       "      <td>14.319020</td>\n",
       "      <td>73.222234</td>\n",
       "      <td>7</td>\n",
       "      <td>Traditional</td>\n",
       "    </tr>\n",
       "    <tr>\n",
       "      <th>3</th>\n",
       "      <td>33.201354</td>\n",
       "      <td>93.017243</td>\n",
       "      <td>6</td>\n",
       "      <td>Traditional</td>\n",
       "    </tr>\n",
       "    <tr>\n",
       "      <th>4</th>\n",
       "      <td>16.032822</td>\n",
       "      <td>85.435178</td>\n",
       "      <td>8</td>\n",
       "      <td>Traditional</td>\n",
       "    </tr>\n",
       "  </tbody>\n",
       "</table>\n",
       "</div>"
      ],
      "text/plain": [
       "   Study_Hours_Per_Week  Performance_Score  Projects_Completed Learning_Track\n",
       "0             22.916211          61.187965                   7    Traditional\n",
       "1             24.718666          69.881730                  12    Traditional\n",
       "2             14.319020          73.222234                   7    Traditional\n",
       "3             33.201354          93.017243                   6    Traditional\n",
       "4             16.032822          85.435178                   8    Traditional"
      ]
     },
     "execution_count": 6,
     "metadata": {},
     "output_type": "execute_result"
    }
   ],
   "source": [
    "data.head()"
   ]
  },
  {
   "cell_type": "code",
   "execution_count": 7,
   "id": "785af027",
   "metadata": {},
   "outputs": [
    {
     "data": {
      "text/html": [
       "<div>\n",
       "<style scoped>\n",
       "    .dataframe tbody tr th:only-of-type {\n",
       "        vertical-align: middle;\n",
       "    }\n",
       "\n",
       "    .dataframe tbody tr th {\n",
       "        vertical-align: top;\n",
       "    }\n",
       "\n",
       "    .dataframe thead th {\n",
       "        text-align: right;\n",
       "    }\n",
       "</style>\n",
       "<table border=\"1\" class=\"dataframe\">\n",
       "  <thead>\n",
       "    <tr style=\"text-align: right;\">\n",
       "      <th></th>\n",
       "      <th>Study_Hours_Per_Week</th>\n",
       "      <th>Performance_Score</th>\n",
       "      <th>Projects_Completed</th>\n",
       "      <th>Learning_Track</th>\n",
       "    </tr>\n",
       "  </thead>\n",
       "  <tbody>\n",
       "    <tr>\n",
       "      <th>195</th>\n",
       "      <td>49.435813</td>\n",
       "      <td>40.701466</td>\n",
       "      <td>11</td>\n",
       "      <td>Accelerated</td>\n",
       "    </tr>\n",
       "    <tr>\n",
       "      <th>196</th>\n",
       "      <td>36.443278</td>\n",
       "      <td>33.330371</td>\n",
       "      <td>14</td>\n",
       "      <td>Accelerated</td>\n",
       "    </tr>\n",
       "    <tr>\n",
       "      <th>197</th>\n",
       "      <td>39.425314</td>\n",
       "      <td>36.100944</td>\n",
       "      <td>11</td>\n",
       "      <td>Accelerated</td>\n",
       "    </tr>\n",
       "    <tr>\n",
       "      <th>198</th>\n",
       "      <td>43.264233</td>\n",
       "      <td>34.173183</td>\n",
       "      <td>8</td>\n",
       "      <td>Accelerated</td>\n",
       "    </tr>\n",
       "    <tr>\n",
       "      <th>199</th>\n",
       "      <td>32.367981</td>\n",
       "      <td>41.786805</td>\n",
       "      <td>15</td>\n",
       "      <td>Accelerated</td>\n",
       "    </tr>\n",
       "  </tbody>\n",
       "</table>\n",
       "</div>"
      ],
      "text/plain": [
       "     Study_Hours_Per_Week  Performance_Score  Projects_Completed  \\\n",
       "195             49.435813          40.701466                  11   \n",
       "196             36.443278          33.330371                  14   \n",
       "197             39.425314          36.100944                  11   \n",
       "198             43.264233          34.173183                   8   \n",
       "199             32.367981          41.786805                  15   \n",
       "\n",
       "    Learning_Track  \n",
       "195    Accelerated  \n",
       "196    Accelerated  \n",
       "197    Accelerated  \n",
       "198    Accelerated  \n",
       "199    Accelerated  "
      ]
     },
     "execution_count": 7,
     "metadata": {},
     "output_type": "execute_result"
    }
   ],
   "source": [
    "data.tail()"
   ]
  },
  {
   "cell_type": "code",
   "execution_count": 8,
   "id": "e4e91689",
   "metadata": {},
   "outputs": [
    {
     "data": {
      "text/html": [
       "<div>\n",
       "<style scoped>\n",
       "    .dataframe tbody tr th:only-of-type {\n",
       "        vertical-align: middle;\n",
       "    }\n",
       "\n",
       "    .dataframe tbody tr th {\n",
       "        vertical-align: top;\n",
       "    }\n",
       "\n",
       "    .dataframe thead th {\n",
       "        text-align: right;\n",
       "    }\n",
       "</style>\n",
       "<table border=\"1\" class=\"dataframe\">\n",
       "  <thead>\n",
       "    <tr style=\"text-align: right;\">\n",
       "      <th></th>\n",
       "      <th>Study_Hours_Per_Week</th>\n",
       "      <th>Performance_Score</th>\n",
       "      <th>Projects_Completed</th>\n",
       "      <th>Learning_Track</th>\n",
       "    </tr>\n",
       "  </thead>\n",
       "  <tbody>\n",
       "    <tr>\n",
       "      <th>195</th>\n",
       "      <td>49.4</td>\n",
       "      <td>40.7</td>\n",
       "      <td>11</td>\n",
       "      <td>Accelerated</td>\n",
       "    </tr>\n",
       "    <tr>\n",
       "      <th>196</th>\n",
       "      <td>36.4</td>\n",
       "      <td>33.3</td>\n",
       "      <td>14</td>\n",
       "      <td>Accelerated</td>\n",
       "    </tr>\n",
       "    <tr>\n",
       "      <th>197</th>\n",
       "      <td>39.4</td>\n",
       "      <td>36.1</td>\n",
       "      <td>11</td>\n",
       "      <td>Accelerated</td>\n",
       "    </tr>\n",
       "    <tr>\n",
       "      <th>198</th>\n",
       "      <td>43.3</td>\n",
       "      <td>34.2</td>\n",
       "      <td>8</td>\n",
       "      <td>Accelerated</td>\n",
       "    </tr>\n",
       "    <tr>\n",
       "      <th>199</th>\n",
       "      <td>32.4</td>\n",
       "      <td>41.8</td>\n",
       "      <td>15</td>\n",
       "      <td>Accelerated</td>\n",
       "    </tr>\n",
       "  </tbody>\n",
       "</table>\n",
       "</div>"
      ],
      "text/plain": [
       "     Study_Hours_Per_Week  Performance_Score  Projects_Completed  \\\n",
       "195                  49.4               40.7                  11   \n",
       "196                  36.4               33.3                  14   \n",
       "197                  39.4               36.1                  11   \n",
       "198                  43.3               34.2                   8   \n",
       "199                  32.4               41.8                  15   \n",
       "\n",
       "    Learning_Track  \n",
       "195    Accelerated  \n",
       "196    Accelerated  \n",
       "197    Accelerated  \n",
       "198    Accelerated  \n",
       "199    Accelerated  "
      ]
     },
     "execution_count": 8,
     "metadata": {},
     "output_type": "execute_result"
    }
   ],
   "source": [
    "# Cleaning the data to keep it in range or in realistic bounds by clippping it\n",
    "#this clips the study hours to a range of 10 to 60 and keeps it a d.p\n",
    "data[\"Study_Hours_Per_Week\"] = round(np.clip(data[\"Study_Hours_Per_Week\"], 10, 60), 1)\n",
    "\n",
    "data[\"Performance_Score\"] = round(np.clip(data[\"Performance_Score\"], 0, 100), 1)\n",
    "data[\"Projects_Completed\"] = np.clip(data[\"Projects_Completed\"], 1, 25)\n",
    "data.tail()"
   ]
  },
  {
   "cell_type": "code",
   "execution_count": null,
   "id": "43ec4867",
   "metadata": {},
   "outputs": [
    {
     "name": "stdout",
     "output_type": "stream",
     "text": [
      "Total AI Engineering Students: 200\n",
      "Learning Tracks: ['Traditional' 'Accelerated']\n",
      "\n",
      "First 10 students in our dataset:\n",
      "   Study_Hours_Per_Week  Performance_Score  Projects_Completed Learning_Track\n",
      "0                  22.9               61.2                   7    Traditional\n",
      "1                  24.7               69.9                  12    Traditional\n",
      "2                  14.3               73.2                   7    Traditional\n",
      "3                  33.2               93.0                   6    Traditional\n",
      "4                  16.0               85.4                   8    Traditional\n",
      "5                  20.8               62.0                   6    Traditional\n",
      "6                  27.5               83.0                   6    Traditional\n",
      "7                  18.8               83.8                   7    Traditional\n",
      "8                  19.7               62.3                   7    Traditional\n",
      "9                  20.5               73.7                  10    Traditional\n"
     ]
    }
   ],
   "source": [
    "# Taking a snapshot of the data \n",
    "\n",
    "print(f'Total AI Engineering Students: {len(data)}')\n",
    "print(f\"Learning Tracks: {data[\"Learning_Track\"].unique()}\")\n",
    "print(f\"\\nFirst 10 students in our dataset:\")\n",
    "print(data.head(10))"
   ]
  },
  {
   "cell_type": "markdown",
   "id": "1733fcc3",
   "metadata": {},
   "source": [
    "## Descriptive Statistics for the data"
   ]
  },
  {
   "cell_type": "code",
   "execution_count": null,
   "id": "a4b37527",
   "metadata": {},
   "outputs": [],
   "source": [
    "# Getting the description for each learning track by study hours\n",
    "data.groupby(\"Learning_Track\")[\"Study_Hours_Per_Week\"].describe().round(2)"
   ]
  }
 ],
 "metadata": {
  "kernelspec": {
   "display_name": "intro_to_numpy (3.13.7)",
   "language": "python",
   "name": "python3"
  },
  "language_info": {
   "codemirror_mode": {
    "name": "ipython",
    "version": 3
   },
   "file_extension": ".py",
   "mimetype": "text/x-python",
   "name": "python",
   "nbconvert_exporter": "python",
   "pygments_lexer": "ipython3",
   "version": "3.13.7"
  }
 },
 "nbformat": 4,
 "nbformat_minor": 5
}
