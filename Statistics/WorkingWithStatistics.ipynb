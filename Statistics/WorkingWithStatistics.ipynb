{
 "cells": [
  {
   "cell_type": "markdown",
   "id": "f3f19ee5",
   "metadata": {},
   "source": [
    "# Statistics"
   ]
  },
  {
   "cell_type": "code",
   "execution_count": 1,
   "id": "45a025d6",
   "metadata": {},
   "outputs": [],
   "source": [
    "import numpy as np\n",
    "import pandas as pd\n",
    "import matplotlib as plt\n",
    "# import scipy.stats as stats"
   ]
  },
  {
   "cell_type": "code",
   "execution_count": 2,
   "id": "65e9c274",
   "metadata": {},
   "outputs": [],
   "source": [
    "#Setting a random seed for reproducibility\n",
    "np.random.seed(2)"
   ]
  },
  {
   "cell_type": "code",
   "execution_count": null,
   "id": "93690bfe",
   "metadata": {},
   "outputs": [],
   "source": [
    "#Simulating a dataset for AI Engineering students\n",
    "\n",
    "#1. Traditional learning: classroom based\n",
    "# Creating a 25 hours/week and standard deviation of 5 hours\n",
    "traditional_study_hours = np.random.normal(25, 5, 100)\n",
    "\n",
    "#2. Accelerated learning (project-based and hands-on style)\n",
    "#This will be a 35 hours/week and a standard deviation 8 hours\n",
    "accelerated_study_hours = np.random.normal(35, 8, 100) #this creates a normal distribution with the given datapoints\n",
    "\n",
    "#Generating  corresponding performance scores between 0 - 100\n",
    "#Letting the performance coorelate with study hours but has some randomness\n",
    "\n",
    "traditional_scores = np.random.normal(75, 12, 100)\n",
    "accelerated_scores = np"
   ]
  }
 ],
 "metadata": {
  "kernelspec": {
   "display_name": "intro_to_numpy (3.13.7)",
   "language": "python",
   "name": "python3"
  },
  "language_info": {
   "codemirror_mode": {
    "name": "ipython",
    "version": 3
   },
   "file_extension": ".py",
   "mimetype": "text/x-python",
   "name": "python",
   "nbconvert_exporter": "python",
   "pygments_lexer": "ipython3",
   "version": "3.13.7"
  }
 },
 "nbformat": 4,
 "nbformat_minor": 5
}
