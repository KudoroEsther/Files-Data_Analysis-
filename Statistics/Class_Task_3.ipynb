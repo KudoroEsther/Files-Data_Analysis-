{
 "cells": [
  {
   "cell_type": "markdown",
   "id": "1e8c2e0e",
   "metadata": {},
   "source": [
    "# Variance"
   ]
  },
  {
   "cell_type": "code",
   "execution_count": null,
   "id": "58e6d24c",
   "metadata": {
    "vscode": {
     "languageId": "plaintext"
    }
   },
   "outputs": [],
   "source": [
    "Given (4, 8, 6, 5, 2), calculate the variance"
   ]
  },
  {
   "cell_type": "code",
   "execution_count": null,
   "id": "54a584e9",
   "metadata": {
    "vscode": {
     "languageId": "plaintext"
    }
   },
   "outputs": [],
   "source": [
    "σ²= ∑(xᵢ - μ)² / N \n",
    "\n",
    "|xᵢ | xᵢ - μ | (xᵢ - μ)² |\n"
   ]
  }
 ],
 "metadata": {
  "language_info": {
   "name": "python"
  }
 },
 "nbformat": 4,
 "nbformat_minor": 5
}
