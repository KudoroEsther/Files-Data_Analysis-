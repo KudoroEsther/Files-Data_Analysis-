{
 "cells": [
  {
   "cell_type": "markdown",
   "id": "9033c0df",
   "metadata": {},
   "source": [
    "# Creating Series and DataFrame"
   ]
  },
  {
   "cell_type": "markdown",
   "id": "96cdc1c7",
   "metadata": {},
   "source": [
    "### Creating a Series"
   ]
  },
  {
   "cell_type": "code",
   "execution_count": 190,
   "id": "c0f8e8ca",
   "metadata": {},
   "outputs": [],
   "source": [
    "\n",
    "import pandas as pd\n",
    "\n",
    "import warnings\n",
    "warnings.filterwarnings('ignore')\n",
    "#this command allows  you to view the entire content of the csv without using head()\n",
    "pd.set_option(\"display.max_columns\", None)\n",
    "pd.set_option('display.width', 1000)\n"
   ]
  },
  {
   "cell_type": "code",
   "execution_count": 191,
   "id": "de58e883",
   "metadata": {},
   "outputs": [
    {
     "data": {
      "text/plain": [
       "0     1\n",
       "1     2\n",
       "2     3\n",
       "3     4\n",
       "4     5\n",
       "5     6\n",
       "6     7\n",
       "7     8\n",
       "8     9\n",
       "9    10\n",
       "dtype: int64"
      ]
     },
     "execution_count": 191,
     "metadata": {},
     "output_type": "execute_result"
    }
   ],
   "source": [
    "#creating a pandas Series using a python list\n",
    "\n",
    "data = [1,2,3,4,5,6,7,8,9,10]\n",
    "series = pd.Series(data)\n",
    "#.head(n) prints out the first n rows\n",
    "series.head(10)\n",
    "#type() checks if the inputted data is a Series or a DataFrame\n",
    "# type(series)\n",
    "\n"
   ]
  },
  {
   "cell_type": "code",
   "execution_count": 192,
   "id": "3bb4122b",
   "metadata": {},
   "outputs": [
    {
     "data": {
      "text/plain": [
       "a     1\n",
       "b     2\n",
       "c     3\n",
       "d     4\n",
       "e     5\n",
       "f     6\n",
       "g     7\n",
       "h     8\n",
       "i     9\n",
       "j    10\n",
       "dtype: int64"
      ]
     },
     "execution_count": 192,
     "metadata": {},
     "output_type": "execute_result"
    }
   ],
   "source": [
    "#Creating a series using our serial number\n",
    "series2 = pd.Series(data, index=[\"a\", \"b\", \"c\", \"d\",\"e\",\"f\",\"g\",\"h\",\"i\",\"j\"])\n",
    "series2.head(10)"
   ]
  },
  {
   "cell_type": "code",
   "execution_count": 193,
   "id": "893d45fb",
   "metadata": {},
   "outputs": [
    {
     "data": {
      "text/plain": [
       "a    10\n",
       "b    20\n",
       "c    30\n",
       "dtype: int64"
      ]
     },
     "execution_count": 193,
     "metadata": {},
     "output_type": "execute_result"
    }
   ],
   "source": [
    "#Creating a series using python dictionary\n",
    "data2 = {\"a\": 10, \"b\": 20, \"c\": 30}\n",
    "\n",
    "series3 = pd.Series(data2)\n",
    "series3.head()"
   ]
  },
  {
   "cell_type": "markdown",
   "id": "86fc4444",
   "metadata": {},
   "source": [
    "#### Hands on practice"
   ]
  },
  {
   "cell_type": "code",
   "execution_count": 194,
   "id": "66ef8417",
   "metadata": {},
   "outputs": [
    {
     "data": {
      "text/plain": [
       "a        fan\n",
       "b      water\n",
       "c     bottle\n",
       "d      purse\n",
       "e    earbuds\n",
       "dtype: object"
      ]
     },
     "execution_count": 194,
     "metadata": {},
     "output_type": "execute_result"
    }
   ],
   "source": [
    "# Question 1\n",
    "#A list of 6 items with alphabet as the index\n",
    "bucket = [\"fan\", \"water\", \"bottle\", \"purse\", \"earbuds\", \"phone\"]\n",
    "series_bucket = pd.Series(bucket, index=['a', 'b', 'c', 'd', 'e', 'f'])\n",
    "series_bucket.head()"
   ]
  },
  {
   "cell_type": "code",
   "execution_count": 195,
   "id": "bc2a3919",
   "metadata": {},
   "outputs": [
    {
     "data": {
      "text/plain": [
       "Name      Esther\n",
       "Age           23\n",
       "Track     AI_Eng\n",
       "State       Ogun\n",
       "Height       155\n",
       "dtype: object"
      ]
     },
     "execution_count": 195,
     "metadata": {},
     "output_type": "execute_result"
    }
   ],
   "source": [
    "#Question 2\n",
    "biodata = {\"Name\": \"Esther\", \"Age\":23, \"Track\": \"AI_Eng\", \"State\": \"Ogun\", \"Height\": 155}\n",
    "series_biodata = pd.Series(biodata)\n",
    "series_biodata.head()"
   ]
  },
  {
   "cell_type": "markdown",
   "id": "52778650",
   "metadata": {},
   "source": [
    "### Creating a  DataFrame"
   ]
  },
  {
   "cell_type": "code",
   "execution_count": 196,
   "id": "5050e06e",
   "metadata": {},
   "outputs": [
    {
     "data": {
      "text/html": [
       "<div>\n",
       "<style scoped>\n",
       "    .dataframe tbody tr th:only-of-type {\n",
       "        vertical-align: middle;\n",
       "    }\n",
       "\n",
       "    .dataframe tbody tr th {\n",
       "        vertical-align: top;\n",
       "    }\n",
       "\n",
       "    .dataframe thead th {\n",
       "        text-align: right;\n",
       "    }\n",
       "</style>\n",
       "<table border=\"1\" class=\"dataframe\">\n",
       "  <thead>\n",
       "    <tr style=\"text-align: right;\">\n",
       "      <th></th>\n",
       "      <th>Name</th>\n",
       "      <th>Age</th>\n",
       "      <th>Home_Town</th>\n",
       "    </tr>\n",
       "  </thead>\n",
       "  <tbody>\n",
       "    <tr>\n",
       "      <th>0</th>\n",
       "      <td>Chris</td>\n",
       "      <td>26</td>\n",
       "      <td>Benin</td>\n",
       "    </tr>\n",
       "    <tr>\n",
       "      <th>1</th>\n",
       "      <td>Ayo</td>\n",
       "      <td>24</td>\n",
       "      <td>Ibadan</td>\n",
       "    </tr>\n",
       "    <tr>\n",
       "      <th>2</th>\n",
       "      <td>Chisom</td>\n",
       "      <td>22</td>\n",
       "      <td>Enugu</td>\n",
       "    </tr>\n",
       "  </tbody>\n",
       "</table>\n",
       "</div>"
      ],
      "text/plain": [
       "     Name  Age Home_Town\n",
       "0   Chris   26     Benin\n",
       "1     Ayo   24    Ibadan\n",
       "2  Chisom   22     Enugu"
      ]
     },
     "execution_count": 196,
     "metadata": {},
     "output_type": "execute_result"
    }
   ],
   "source": [
    "#Creating a DataFrame\n",
    "data = {\n",
    "    \"Name\": [\"Chris\", \"Ayo\", \"Chisom\"],\n",
    "    \"Age\": [26,24, 22],\n",
    "    \"Home_Town\": [\"Benin\", \"Ibadan\", \"Enugu\"]\n",
    "}\n",
    "df = pd.DataFrame(data)\n",
    "df.head()"
   ]
  },
  {
   "cell_type": "code",
   "execution_count": 197,
   "id": "80b4f945",
   "metadata": {},
   "outputs": [
    {
     "data": {
      "text/html": [
       "<div>\n",
       "<style scoped>\n",
       "    .dataframe tbody tr th:only-of-type {\n",
       "        vertical-align: middle;\n",
       "    }\n",
       "\n",
       "    .dataframe tbody tr th {\n",
       "        vertical-align: top;\n",
       "    }\n",
       "\n",
       "    .dataframe thead th {\n",
       "        text-align: right;\n",
       "    }\n",
       "</style>\n",
       "<table border=\"1\" class=\"dataframe\">\n",
       "  <thead>\n",
       "    <tr style=\"text-align: right;\">\n",
       "      <th></th>\n",
       "      <th>Name</th>\n",
       "      <th>Age</th>\n",
       "      <th>Home_Town</th>\n",
       "    </tr>\n",
       "  </thead>\n",
       "  <tbody>\n",
       "    <tr>\n",
       "      <th>0</th>\n",
       "      <td>Chris</td>\n",
       "      <td>26</td>\n",
       "      <td>Benin</td>\n",
       "    </tr>\n",
       "    <tr>\n",
       "      <th>1</th>\n",
       "      <td>Ayo</td>\n",
       "      <td>24</td>\n",
       "      <td>Ibadan</td>\n",
       "    </tr>\n",
       "    <tr>\n",
       "      <th>2</th>\n",
       "      <td>Chisom</td>\n",
       "      <td>22</td>\n",
       "      <td>Enugu</td>\n",
       "    </tr>\n",
       "  </tbody>\n",
       "</table>\n",
       "</div>"
      ],
      "text/plain": [
       "     Name  Age Home_Town\n",
       "0   Chris   26     Benin\n",
       "1     Ayo   24    Ibadan\n",
       "2  Chisom   22     Enugu"
      ]
     },
     "execution_count": 197,
     "metadata": {},
     "output_type": "execute_result"
    }
   ],
   "source": [
    "#Using a list of dictionaries\n",
    "data2 = [\n",
    "    {\"Name\": \"Chris\", \"Age\": 26, \"Home_Town\":\"Benin\"},\n",
    "    {\"Name\": \"Ayo\", \"Age\": 24, \"Home_Town\": \"Ibadan\"}, \n",
    "    {\"Name\": \"Chisom\", \"Age\": 22, \"Home_Town\": \"Enugu\"}\n",
    "]\n",
    "df2 = pd.DataFrame(data2)\n",
    "df2.head()"
   ]
  },
  {
   "cell_type": "code",
   "execution_count": 198,
   "id": "dacb23ef",
   "metadata": {},
   "outputs": [
    {
     "data": {
      "text/html": [
       "<div>\n",
       "<style scoped>\n",
       "    .dataframe tbody tr th:only-of-type {\n",
       "        vertical-align: middle;\n",
       "    }\n",
       "\n",
       "    .dataframe tbody tr th {\n",
       "        vertical-align: top;\n",
       "    }\n",
       "\n",
       "    .dataframe thead th {\n",
       "        text-align: right;\n",
       "    }\n",
       "</style>\n",
       "<table border=\"1\" class=\"dataframe\">\n",
       "  <thead>\n",
       "    <tr style=\"text-align: right;\">\n",
       "      <th></th>\n",
       "      <th>Name</th>\n",
       "      <th>Age</th>\n",
       "      <th>Home_Town</th>\n",
       "    </tr>\n",
       "  </thead>\n",
       "  <tbody>\n",
       "    <tr>\n",
       "      <th>0</th>\n",
       "      <td>Chris</td>\n",
       "      <td>26</td>\n",
       "      <td>Benin</td>\n",
       "    </tr>\n",
       "    <tr>\n",
       "      <th>1</th>\n",
       "      <td>Ayo</td>\n",
       "      <td>24</td>\n",
       "      <td>Ibadan</td>\n",
       "    </tr>\n",
       "    <tr>\n",
       "      <th>2</th>\n",
       "      <td>Chisom</td>\n",
       "      <td>22</td>\n",
       "      <td>Enugu</td>\n",
       "    </tr>\n",
       "  </tbody>\n",
       "</table>\n",
       "</div>"
      ],
      "text/plain": [
       "     Name  Age Home_Town\n",
       "0   Chris   26     Benin\n",
       "1     Ayo   24    Ibadan\n",
       "2  Chisom   22     Enugu"
      ]
     },
     "execution_count": 198,
     "metadata": {},
     "output_type": "execute_result"
    }
   ],
   "source": [
    "#Using a list of lists\n",
    "data3 = [\n",
    "    [\"Chris\", 26, \"Benin\"],\n",
    "    [\"Ayo\", 24, \"Ibadan\"],\n",
    "    [\"Chisom\", 22, \"Enugu\"]\n",
    "]\n",
    "df3 = pd.DataFrame(data3, columns=[\"Name\", \"Age\", \"Home_Town\"])\n",
    "df3.head()"
   ]
  },
  {
   "cell_type": "code",
   "execution_count": 199,
   "id": "c661dc4b",
   "metadata": {},
   "outputs": [
    {
     "name": "stdout",
     "output_type": "stream",
     "text": [
      "<class 'pandas.core.frame.DataFrame'>\n",
      "<class 'pandas.core.frame.DataFrame'>\n",
      "<class 'pandas.core.frame.DataFrame'>\n"
     ]
    }
   ],
   "source": [
    "print(type(df))\n",
    "print(type(df2))\n",
    "print(type(df3))"
   ]
  },
  {
   "cell_type": "markdown",
   "id": "2b8c228e",
   "metadata": {},
   "source": [
    "#### Hands on practice"
   ]
  },
  {
   "cell_type": "code",
   "execution_count": 200,
   "id": "947aad2a",
   "metadata": {},
   "outputs": [
    {
     "name": "stdout",
     "output_type": "stream",
     "text": [
      "<class 'pandas.core.frame.DataFrame'>\n",
      "RangeIndex: 34 entries, 0 to 33\n",
      "Data columns (total 10 columns):\n",
      " #   Column        Non-Null Count  Dtype \n",
      "---  ------        --------------  ----- \n",
      " 0   Timestamp     34 non-null     object\n",
      " 1   First Name    34 non-null     object\n",
      " 2   Last Name     34 non-null     object\n",
      " 3   Course Track  34 non-null     object\n",
      " 4   City          34 non-null     object\n",
      " 5   Gender        34 non-null     object\n",
      " 6   Seat Number   34 non-null     int64 \n",
      " 7   PC-Make       34 non-null     object\n",
      " 8   PC - OS       34 non-null     object\n",
      " 9   Feedback      34 non-null     object\n",
      "dtypes: int64(1), object(9)\n",
      "memory usage: 2.8+ KB\n"
     ]
    },
    {
     "data": {
      "text/plain": [
       "Index(['Timestamp', 'First Name', 'Last Name', 'Course Track', 'City', 'Gender', 'Seat Number', 'PC-Make', 'PC - OS', 'Feedback'], dtype='object')"
      ]
     },
     "execution_count": 200,
     "metadata": {},
     "output_type": "execute_result"
    }
   ],
   "source": [
    "#Reading the csv file\n",
    "df = pd.read_csv(\"biodata.csv\")\n",
    "df.head()\n",
    "df.tail() #gives the last five rows of the dataset\n",
    "df.info() #gives basic info about the data\n",
    "df.describe() #give the statistical summary of the data\n",
    "df.shape\n",
    "df.columns #checks the columns names\n",
    "\n"
   ]
  },
  {
   "cell_type": "markdown",
   "id": "06b18315",
   "metadata": {},
   "source": [
    "#### Data Cleaning"
   ]
  },
  {
   "cell_type": "code",
   "execution_count": 201,
   "id": "b0dc1b09",
   "metadata": {},
   "outputs": [
    {
     "data": {
      "text/plain": [
       "Timestamp       0\n",
       "First Name      0\n",
       "Last Name       0\n",
       "Course Track    0\n",
       "City            0\n",
       "Gender          0\n",
       "Seat Number     0\n",
       "PC-Make         0\n",
       "PC - OS         0\n",
       "Feedback        0\n",
       "dtype: int64"
      ]
     },
     "execution_count": 201,
     "metadata": {},
     "output_type": "execute_result"
    }
   ],
   "source": [
    "#DATA CLEANING\n",
    "#Handling missing values\n",
    "df.isna().sum()\n",
    "df.isnull().sum()\n",
    "# df.fillna(0, inplace= False) #nothing happens since there are no null cells"
   ]
  },
  {
   "cell_type": "code",
   "execution_count": 212,
   "id": "feffcd40",
   "metadata": {},
   "outputs": [
    {
     "data": {
      "text/plain": [
       "0     False\n",
       "1     False\n",
       "2     False\n",
       "3     False\n",
       "4     False\n",
       "5     False\n",
       "6     False\n",
       "7     False\n",
       "8     False\n",
       "9     False\n",
       "10    False\n",
       "11    False\n",
       "12    False\n",
       "13    False\n",
       "14    False\n",
       "15    False\n",
       "16    False\n",
       "17    False\n",
       "18    False\n",
       "19    False\n",
       "20    False\n",
       "21    False\n",
       "22    False\n",
       "23    False\n",
       "24    False\n",
       "25    False\n",
       "26    False\n",
       "27    False\n",
       "28    False\n",
       "29    False\n",
       "30    False\n",
       "31    False\n",
       "32    False\n",
       "33    False\n",
       "dtype: bool"
      ]
     },
     "execution_count": 212,
     "metadata": {},
     "output_type": "execute_result"
    }
   ],
   "source": [
    "#Finding and Handling duplicates\n",
    "df.duplicated() #checks for duplicated instances\n",
    "# df.drop_duplicates() #drops duplicates"
   ]
  },
  {
   "cell_type": "code",
   "execution_count": null,
   "id": "92394fd2",
   "metadata": {},
   "outputs": [
    {
     "data": {
      "text/plain": [
       "0    2025-09-11 12:55:34-01:00\n",
       "1    2025-09-11 12:56:11-01:00\n",
       "2    2025-09-11 12:57:08-01:00\n",
       "3    2025-09-11 12:57:56-01:00\n",
       "4    2025-09-11 12:58:41-01:00\n",
       "5    2025-09-11 12:58:55-01:00\n",
       "6    2025-09-11 12:58:55-01:00\n",
       "7    2025-09-11 12:59:00-01:00\n",
       "8    2025-09-11 12:59:16-01:00\n",
       "9    2025-09-11 12:59:28-01:00\n",
       "10   2025-09-11 12:59:41-01:00\n",
       "11   2025-09-11 12:59:43-01:00\n",
       "12   2025-09-11 13:00:03-01:00\n",
       "13   2025-09-11 13:00:13-01:00\n",
       "14   2025-09-11 13:00:27-01:00\n",
       "15   2025-09-11 13:00:31-01:00\n",
       "16   2025-09-11 13:00:43-01:00\n",
       "17   2025-09-11 13:00:49-01:00\n",
       "18   2025-09-11 13:00:54-01:00\n",
       "19   2025-09-11 13:01:31-01:00\n",
       "20   2025-09-11 13:01:44-01:00\n",
       "21   2025-09-11 13:01:46-01:00\n",
       "22   2025-09-11 13:01:54-01:00\n",
       "23   2025-09-11 13:02:28-01:00\n",
       "24   2025-09-11 13:02:49-01:00\n",
       "25   2025-09-11 13:02:56-01:00\n",
       "26   2025-09-11 13:02:59-01:00\n",
       "27   2025-09-11 13:03:12-01:00\n",
       "28   2025-09-11 13:03:36-01:00\n",
       "29   2025-09-11 13:06:03-01:00\n",
       "30   2025-09-11 13:06:48-01:00\n",
       "31   2025-09-11 13:10:16-01:00\n",
       "32   2025-09-11 13:11:39-01:00\n",
       "33   2025-09-11 13:18:15-01:00\n",
       "Name: Timestamp, dtype: datetime64[ns, UTC-01:00]"
      ]
     },
     "execution_count": 213,
     "metadata": {},
     "output_type": "execute_result"
    }
   ],
   "source": [
    "#Correcting Data Types\n",
    "#this checks for the data type in the dataset\n",
    "df.dtypes\n",
    "\n",
    "#this changes the data type of the specified column to another data type\n",
    "df[\"Seat Number\"].astype(int)\n",
    "\n",
    "#converts the datatype of the specified column to date/time format\n",
    "pd.to_datetime(df[\"Timestamp\"])"
   ]
  },
  {
   "cell_type": "markdown",
   "id": "6bc4197d",
   "metadata": {},
   "source": [
    "#### Data Selection and Filtering"
   ]
  },
  {
   "cell_type": "code",
   "execution_count": null,
   "id": "6b075651",
   "metadata": {},
   "outputs": [
    {
     "data": {
      "text/plain": [
       "Index(['Timestamp', 'First Name', 'Last Name', 'Course Track', 'City', 'Gender', 'Seat Number', 'PC-Make', 'PC - OS', 'Feedback'], dtype='object')"
      ]
     },
     "execution_count": 214,
     "metadata": {},
     "output_type": "execute_result"
    }
   ],
   "source": [
    "#Column Viewing\n",
    "#This prints out the column names\n",
    "df.columns"
   ]
  },
  {
   "cell_type": "code",
   "execution_count": 217,
   "id": "64f5bbc7",
   "metadata": {},
   "outputs": [
    {
     "data": {
      "text/plain": [
       "0       Male\n",
       "1     Female\n",
       "2     Female\n",
       "3       Male\n",
       "4       Male\n",
       "5       Male\n",
       "6     Female\n",
       "7     Female\n",
       "8     Female\n",
       "9       Male\n",
       "10    Female\n",
       "11    Female\n",
       "12      Male\n",
       "13      Male\n",
       "14      Male\n",
       "15      Male\n",
       "16      Male\n",
       "17      Male\n",
       "18      Male\n",
       "19      Male\n",
       "20      Male\n",
       "21      Male\n",
       "22      Male\n",
       "23      Male\n",
       "24      Male\n",
       "25      Male\n",
       "26      Male\n",
       "27    Female\n",
       "28      Male\n",
       "29      Male\n",
       "30      Male\n",
       "31      Male\n",
       "32      Male\n",
       "33      Male\n",
       "Name: Gender, dtype: object"
      ]
     },
     "execution_count": 217,
     "metadata": {},
     "output_type": "execute_result"
    }
   ],
   "source": [
    "#Column Selection\n",
    "#Looking through a single column\n",
    "\n",
    "df[\"First Name\"]\n",
    "\n",
    "#Alternatively, dot can be used\n",
    "df.Gender"
   ]
  },
  {
   "cell_type": "code",
   "execution_count": 220,
   "id": "8fc525c9",
   "metadata": {},
   "outputs": [
    {
     "data": {
      "text/html": [
       "<div>\n",
       "<style scoped>\n",
       "    .dataframe tbody tr th:only-of-type {\n",
       "        vertical-align: middle;\n",
       "    }\n",
       "\n",
       "    .dataframe tbody tr th {\n",
       "        vertical-align: top;\n",
       "    }\n",
       "\n",
       "    .dataframe thead th {\n",
       "        text-align: right;\n",
       "    }\n",
       "</style>\n",
       "<table border=\"1\" class=\"dataframe\">\n",
       "  <thead>\n",
       "    <tr style=\"text-align: right;\">\n",
       "      <th></th>\n",
       "      <th>First Name</th>\n",
       "      <th>Last Name</th>\n",
       "      <th>Feedback</th>\n",
       "    </tr>\n",
       "  </thead>\n",
       "  <tbody>\n",
       "    <tr>\n",
       "      <th>0</th>\n",
       "      <td>Peter</td>\n",
       "      <td>Okonmah</td>\n",
       "      <td>non</td>\n",
       "    </tr>\n",
       "    <tr>\n",
       "      <th>1</th>\n",
       "      <td>Toyeebat</td>\n",
       "      <td>Nababa</td>\n",
       "      <td>Excellent</td>\n",
       "    </tr>\n",
       "    <tr>\n",
       "      <th>2</th>\n",
       "      <td>Perpetual</td>\n",
       "      <td>Meninwa</td>\n",
       "      <td>Thank you so much for the opportunity.</td>\n",
       "    </tr>\n",
       "    <tr>\n",
       "      <th>3</th>\n",
       "      <td>Mahfuz</td>\n",
       "      <td>Abdulhameed</td>\n",
       "      <td>Amazing Shit</td>\n",
       "    </tr>\n",
       "    <tr>\n",
       "      <th>4</th>\n",
       "      <td>Divine</td>\n",
       "      <td>Gbadamosi</td>\n",
       "      <td>Brain Racking</td>\n",
       "    </tr>\n",
       "    <tr>\n",
       "      <th>5</th>\n",
       "      <td>Abdulmalik</td>\n",
       "      <td>Adedotun</td>\n",
       "      <td>Enjoying the course so far</td>\n",
       "    </tr>\n",
       "    <tr>\n",
       "      <th>6</th>\n",
       "      <td>Naheemot</td>\n",
       "      <td>Adebiyi</td>\n",
       "      <td>Grateful for the opportunity to be here.</td>\n",
       "    </tr>\n",
       "    <tr>\n",
       "      <th>7</th>\n",
       "      <td>Kanyisola</td>\n",
       "      <td>Fagbayi</td>\n",
       "      <td>One chin chin for you for this form</td>\n",
       "    </tr>\n",
       "    <tr>\n",
       "      <th>8</th>\n",
       "      <td>Blessing</td>\n",
       "      <td>James</td>\n",
       "      <td>Thanks for creating the form.</td>\n",
       "    </tr>\n",
       "    <tr>\n",
       "      <th>9</th>\n",
       "      <td>Hannah</td>\n",
       "      <td>Tanimola</td>\n",
       "      <td>On God</td>\n",
       "    </tr>\n",
       "    <tr>\n",
       "      <th>10</th>\n",
       "      <td>Deborah</td>\n",
       "      <td>Adelegan</td>\n",
       "      <td>None for now</td>\n",
       "    </tr>\n",
       "    <tr>\n",
       "      <th>11</th>\n",
       "      <td>Esther</td>\n",
       "      <td>Kudoro</td>\n",
       "      <td>Chill</td>\n",
       "    </tr>\n",
       "    <tr>\n",
       "      <th>12</th>\n",
       "      <td>Opeyemi</td>\n",
       "      <td>Odejimi</td>\n",
       "      <td>Na wa</td>\n",
       "    </tr>\n",
       "    <tr>\n",
       "      <th>13</th>\n",
       "      <td>Olasunkanmi</td>\n",
       "      <td>Rasak</td>\n",
       "      <td>My gratitude to the sponsor of this program an...</td>\n",
       "    </tr>\n",
       "    <tr>\n",
       "      <th>14</th>\n",
       "      <td>Saheed</td>\n",
       "      <td>Olayinka</td>\n",
       "      <td>None for now</td>\n",
       "    </tr>\n",
       "    <tr>\n",
       "      <th>15</th>\n",
       "      <td>Kehinde</td>\n",
       "      <td>Akindele</td>\n",
       "      <td>Great</td>\n",
       "    </tr>\n",
       "    <tr>\n",
       "      <th>16</th>\n",
       "      <td>Oluwole</td>\n",
       "      <td>Oludayo</td>\n",
       "      <td>Good training to attend</td>\n",
       "    </tr>\n",
       "    <tr>\n",
       "      <th>17</th>\n",
       "      <td>Samuel</td>\n",
       "      <td>Oyewusi</td>\n",
       "      <td>Satisfactory</td>\n",
       "    </tr>\n",
       "    <tr>\n",
       "      <th>18</th>\n",
       "      <td>Ademola</td>\n",
       "      <td>Akinrinde</td>\n",
       "      <td>Awesome shit\\n\\n</td>\n",
       "    </tr>\n",
       "    <tr>\n",
       "      <th>19</th>\n",
       "      <td>Victor</td>\n",
       "      <td>Ademuyiwa</td>\n",
       "      <td>Feels good</td>\n",
       "    </tr>\n",
       "    <tr>\n",
       "      <th>20</th>\n",
       "      <td>Sherif</td>\n",
       "      <td>Okemakinde</td>\n",
       "      <td>Form filled</td>\n",
       "    </tr>\n",
       "    <tr>\n",
       "      <th>21</th>\n",
       "      <td>Ayuba</td>\n",
       "      <td>Raji</td>\n",
       "      <td>None for now</td>\n",
       "    </tr>\n",
       "    <tr>\n",
       "      <th>22</th>\n",
       "      <td>Hamid</td>\n",
       "      <td>Jimoh</td>\n",
       "      <td>I am curious</td>\n",
       "    </tr>\n",
       "    <tr>\n",
       "      <th>23</th>\n",
       "      <td>Olajide</td>\n",
       "      <td>Abioye</td>\n",
       "      <td>So far, i getting to familarize myself with nu...</td>\n",
       "    </tr>\n",
       "    <tr>\n",
       "      <th>24</th>\n",
       "      <td>Solomon</td>\n",
       "      <td>Olaiya</td>\n",
       "      <td>Delighted learning here</td>\n",
       "    </tr>\n",
       "    <tr>\n",
       "      <th>25</th>\n",
       "      <td>Oluwadamilare</td>\n",
       "      <td>Bello</td>\n",
       "      <td>Coding is interesting when you understand</td>\n",
       "    </tr>\n",
       "    <tr>\n",
       "      <th>26</th>\n",
       "      <td>Oluwaseyi</td>\n",
       "      <td>Egunjobi</td>\n",
       "      <td>Nice to meet you all</td>\n",
       "    </tr>\n",
       "    <tr>\n",
       "      <th>27</th>\n",
       "      <td>Adeoye</td>\n",
       "      <td>Mary</td>\n",
       "      <td>Still processing</td>\n",
       "    </tr>\n",
       "    <tr>\n",
       "      <th>28</th>\n",
       "      <td>Babatunde</td>\n",
       "      <td>Rahmon</td>\n",
       "      <td>i actually have a pc that has a very low stora...</td>\n",
       "    </tr>\n",
       "    <tr>\n",
       "      <th>29</th>\n",
       "      <td>Samuel</td>\n",
       "      <td>Dasaolu</td>\n",
       "      <td>Good so far, i guess</td>\n",
       "    </tr>\n",
       "    <tr>\n",
       "      <th>30</th>\n",
       "      <td>Gabriel</td>\n",
       "      <td>Bamgbose</td>\n",
       "      <td>Good</td>\n",
       "    </tr>\n",
       "    <tr>\n",
       "      <th>31</th>\n",
       "      <td>Ridwanullah</td>\n",
       "      <td>Osho</td>\n",
       "      <td>IT IS WHAT IT IS !!!</td>\n",
       "    </tr>\n",
       "    <tr>\n",
       "      <th>32</th>\n",
       "      <td>Oluwapelumi</td>\n",
       "      <td>Adenuga</td>\n",
       "      <td>live yours</td>\n",
       "    </tr>\n",
       "    <tr>\n",
       "      <th>33</th>\n",
       "      <td>Michael</td>\n",
       "      <td>Osisami</td>\n",
       "      <td>Nil</td>\n",
       "    </tr>\n",
       "  </tbody>\n",
       "</table>\n",
       "</div>"
      ],
      "text/plain": [
       "       First Name    Last Name                                           Feedback\n",
       "0           Peter      Okonmah                                                non\n",
       "1        Toyeebat       Nababa                                          Excellent\n",
       "2       Perpetual      Meninwa             Thank you so much for the opportunity.\n",
       "3          Mahfuz  Abdulhameed                                       Amazing Shit\n",
       "4          Divine    Gbadamosi                                      Brain Racking\n",
       "5      Abdulmalik     Adedotun                         Enjoying the course so far\n",
       "6        Naheemot      Adebiyi           Grateful for the opportunity to be here.\n",
       "7       Kanyisola      Fagbayi                One chin chin for you for this form\n",
       "8        Blessing        James                      Thanks for creating the form.\n",
       "9          Hannah     Tanimola                                             On God\n",
       "10        Deborah     Adelegan                                       None for now\n",
       "11         Esther       Kudoro                                              Chill\n",
       "12        Opeyemi      Odejimi                                              Na wa\n",
       "13    Olasunkanmi        Rasak  My gratitude to the sponsor of this program an...\n",
       "14         Saheed     Olayinka                                       None for now\n",
       "15       Kehinde      Akindele                                              Great\n",
       "16        Oluwole      Oludayo                            Good training to attend\n",
       "17         Samuel     Oyewusi                                        Satisfactory\n",
       "18        Ademola    Akinrinde                                   Awesome shit\\n\\n\n",
       "19         Victor    Ademuyiwa                                         Feels good\n",
       "20         Sherif  Okemakinde                                         Form filled\n",
       "21          Ayuba         Raji                                       None for now\n",
       "22          Hamid        Jimoh                                      I am curious \n",
       "23        Olajide       Abioye  So far, i getting to familarize myself with nu...\n",
       "24        Solomon       Olaiya                            Delighted learning here\n",
       "25  Oluwadamilare        Bello          Coding is interesting when you understand\n",
       "26      Oluwaseyi     Egunjobi                               Nice to meet you all\n",
       "27         Adeoye         Mary                                   Still processing\n",
       "28      Babatunde       Rahmon  i actually have a pc that has a very low stora...\n",
       "29         Samuel      Dasaolu                               Good so far, i guess\n",
       "30        Gabriel     Bamgbose                                               Good\n",
       "31    Ridwanullah         Osho                               IT IS WHAT IT IS !!!\n",
       "32    Oluwapelumi      Adenuga                                         live yours\n",
       "33        Michael      Osisami                                                Nil"
      ]
     },
     "execution_count": 220,
     "metadata": {},
     "output_type": "execute_result"
    }
   ],
   "source": [
    "#Selecting multiple column\n",
    "df[[\"First Name\", \"Last Name\", \"Feedback\"]]"
   ]
  },
  {
   "cell_type": "code",
   "execution_count": null,
   "id": "e0cb0ece",
   "metadata": {},
   "outputs": [
    {
     "data": {
      "text/plain": [
       "'Peter'"
      ]
     },
     "execution_count": 226,
     "metadata": {},
     "output_type": "execute_result"
    }
   ],
   "source": [
    "#Selecting a single cell\n",
    "#this prints out the first name with index number 2\n",
    "df[\"First Name\"][2]\n",
    "\n",
    "#other methods\n",
    "#print out the name with index number 0\n",
    "df.at[0, \"First Name\"]\n",
    "\n",
    "#prints out the first element in the first row and second column\n",
    "df.iat[0,1]"
   ]
  }
 ],
 "metadata": {
  "kernelspec": {
   "display_name": "intro_to_numpy (3.13.7)",
   "language": "python",
   "name": "python3"
  },
  "language_info": {
   "codemirror_mode": {
    "name": "ipython",
    "version": 3
   },
   "file_extension": ".py",
   "mimetype": "text/x-python",
   "name": "python",
   "nbconvert_exporter": "python",
   "pygments_lexer": "ipython3",
   "version": "3.13.7"
  }
 },
 "nbformat": 4,
 "nbformat_minor": 5
}
