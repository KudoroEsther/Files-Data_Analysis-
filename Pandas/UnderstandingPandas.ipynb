{
 "cells": [
  {
   "cell_type": "markdown",
   "id": "9033c0df",
   "metadata": {},
   "source": [
    "# Creating Series and DataFrame"
   ]
  },
  {
   "cell_type": "markdown",
   "id": "96cdc1c7",
   "metadata": {},
   "source": [
    "### Creating a Series"
   ]
  },
  {
   "cell_type": "code",
   "execution_count": 190,
   "id": "c0f8e8ca",
   "metadata": {},
   "outputs": [],
   "source": [
    "\n",
    "import pandas as pd\n",
    "\n",
    "import warnings\n",
    "warnings.filterwarnings('ignore')\n",
    "#this command allows  you to view the entire content of the csv without using head()\n",
    "pd.set_option(\"display.max_columns\", None)\n",
    "pd.set_option('display.width', 1000)\n"
   ]
  },
  {
   "cell_type": "code",
   "execution_count": 191,
   "id": "de58e883",
   "metadata": {},
   "outputs": [
    {
     "data": {
      "text/plain": [
       "0     1\n",
       "1     2\n",
       "2     3\n",
       "3     4\n",
       "4     5\n",
       "5     6\n",
       "6     7\n",
       "7     8\n",
       "8     9\n",
       "9    10\n",
       "dtype: int64"
      ]
     },
     "execution_count": 191,
     "metadata": {},
     "output_type": "execute_result"
    }
   ],
   "source": [
    "#creating a pandas Series using a python list\n",
    "\n",
    "data = [1,2,3,4,5,6,7,8,9,10]\n",
    "series = pd.Series(data)\n",
    "#.head(n) prints out the first n rows\n",
    "series.head(10)\n",
    "#type() checks if the inputted data is a Series or a DataFrame\n",
    "# type(series)\n",
    "\n"
   ]
  },
  {
   "cell_type": "code",
   "execution_count": 192,
   "id": "3bb4122b",
   "metadata": {},
   "outputs": [
    {
     "data": {
      "text/plain": [
       "a     1\n",
       "b     2\n",
       "c     3\n",
       "d     4\n",
       "e     5\n",
       "f     6\n",
       "g     7\n",
       "h     8\n",
       "i     9\n",
       "j    10\n",
       "dtype: int64"
      ]
     },
     "execution_count": 192,
     "metadata": {},
     "output_type": "execute_result"
    }
   ],
   "source": [
    "#Creating a series using our serial number\n",
    "series2 = pd.Series(data, index=[\"a\", \"b\", \"c\", \"d\",\"e\",\"f\",\"g\",\"h\",\"i\",\"j\"])\n",
    "series2.head(10)"
   ]
  },
  {
   "cell_type": "code",
   "execution_count": 193,
   "id": "893d45fb",
   "metadata": {},
   "outputs": [
    {
     "data": {
      "text/plain": [
       "a    10\n",
       "b    20\n",
       "c    30\n",
       "dtype: int64"
      ]
     },
     "execution_count": 193,
     "metadata": {},
     "output_type": "execute_result"
    }
   ],
   "source": [
    "#Creating a series using python dictionary\n",
    "data2 = {\"a\": 10, \"b\": 20, \"c\": 30}\n",
    "\n",
    "series3 = pd.Series(data2)\n",
    "series3.head()"
   ]
  },
  {
   "cell_type": "markdown",
   "id": "86fc4444",
   "metadata": {},
   "source": [
    "#### Hands on practice"
   ]
  },
  {
   "cell_type": "code",
   "execution_count": 194,
   "id": "66ef8417",
   "metadata": {},
   "outputs": [
    {
     "data": {
      "text/plain": [
       "a        fan\n",
       "b      water\n",
       "c     bottle\n",
       "d      purse\n",
       "e    earbuds\n",
       "dtype: object"
      ]
     },
     "execution_count": 194,
     "metadata": {},
     "output_type": "execute_result"
    }
   ],
   "source": [
    "# Question 1\n",
    "#A list of 6 items with alphabet as the index\n",
    "bucket = [\"fan\", \"water\", \"bottle\", \"purse\", \"earbuds\", \"phone\"]\n",
    "series_bucket = pd.Series(bucket, index=['a', 'b', 'c', 'd', 'e', 'f'])\n",
    "series_bucket.head()"
   ]
  },
  {
   "cell_type": "code",
   "execution_count": 195,
   "id": "bc2a3919",
   "metadata": {},
   "outputs": [
    {
     "data": {
      "text/plain": [
       "Name      Esther\n",
       "Age           23\n",
       "Track     AI_Eng\n",
       "State       Ogun\n",
       "Height       155\n",
       "dtype: object"
      ]
     },
     "execution_count": 195,
     "metadata": {},
     "output_type": "execute_result"
    }
   ],
   "source": [
    "#Question 2\n",
    "biodata = {\"Name\": \"Esther\", \"Age\":23, \"Track\": \"AI_Eng\", \"State\": \"Ogun\", \"Height\": 155}\n",
    "series_biodata = pd.Series(biodata)\n",
    "series_biodata.head()"
   ]
  },
  {
   "cell_type": "markdown",
   "id": "52778650",
   "metadata": {},
   "source": [
    "### Creating a  DataFrame"
   ]
  },
  {
   "cell_type": "code",
   "execution_count": 196,
   "id": "5050e06e",
   "metadata": {},
   "outputs": [
    {
     "data": {
      "text/html": [
       "<div>\n",
       "<style scoped>\n",
       "    .dataframe tbody tr th:only-of-type {\n",
       "        vertical-align: middle;\n",
       "    }\n",
       "\n",
       "    .dataframe tbody tr th {\n",
       "        vertical-align: top;\n",
       "    }\n",
       "\n",
       "    .dataframe thead th {\n",
       "        text-align: right;\n",
       "    }\n",
       "</style>\n",
       "<table border=\"1\" class=\"dataframe\">\n",
       "  <thead>\n",
       "    <tr style=\"text-align: right;\">\n",
       "      <th></th>\n",
       "      <th>Name</th>\n",
       "      <th>Age</th>\n",
       "      <th>Home_Town</th>\n",
       "    </tr>\n",
       "  </thead>\n",
       "  <tbody>\n",
       "    <tr>\n",
       "      <th>0</th>\n",
       "      <td>Chris</td>\n",
       "      <td>26</td>\n",
       "      <td>Benin</td>\n",
       "    </tr>\n",
       "    <tr>\n",
       "      <th>1</th>\n",
       "      <td>Ayo</td>\n",
       "      <td>24</td>\n",
       "      <td>Ibadan</td>\n",
       "    </tr>\n",
       "    <tr>\n",
       "      <th>2</th>\n",
       "      <td>Chisom</td>\n",
       "      <td>22</td>\n",
       "      <td>Enugu</td>\n",
       "    </tr>\n",
       "  </tbody>\n",
       "</table>\n",
       "</div>"
      ],
      "text/plain": [
       "     Name  Age Home_Town\n",
       "0   Chris   26     Benin\n",
       "1     Ayo   24    Ibadan\n",
       "2  Chisom   22     Enugu"
      ]
     },
     "execution_count": 196,
     "metadata": {},
     "output_type": "execute_result"
    }
   ],
   "source": [
    "#Creating a DataFrame\n",
    "data = {\n",
    "    \"Name\": [\"Chris\", \"Ayo\", \"Chisom\"],\n",
    "    \"Age\": [26,24, 22],\n",
    "    \"Home_Town\": [\"Benin\", \"Ibadan\", \"Enugu\"]\n",
    "}\n",
    "df = pd.DataFrame(data)\n",
    "df.head()"
   ]
  },
  {
   "cell_type": "code",
   "execution_count": 197,
   "id": "80b4f945",
   "metadata": {},
   "outputs": [
    {
     "data": {
      "text/html": [
       "<div>\n",
       "<style scoped>\n",
       "    .dataframe tbody tr th:only-of-type {\n",
       "        vertical-align: middle;\n",
       "    }\n",
       "\n",
       "    .dataframe tbody tr th {\n",
       "        vertical-align: top;\n",
       "    }\n",
       "\n",
       "    .dataframe thead th {\n",
       "        text-align: right;\n",
       "    }\n",
       "</style>\n",
       "<table border=\"1\" class=\"dataframe\">\n",
       "  <thead>\n",
       "    <tr style=\"text-align: right;\">\n",
       "      <th></th>\n",
       "      <th>Name</th>\n",
       "      <th>Age</th>\n",
       "      <th>Home_Town</th>\n",
       "    </tr>\n",
       "  </thead>\n",
       "  <tbody>\n",
       "    <tr>\n",
       "      <th>0</th>\n",
       "      <td>Chris</td>\n",
       "      <td>26</td>\n",
       "      <td>Benin</td>\n",
       "    </tr>\n",
       "    <tr>\n",
       "      <th>1</th>\n",
       "      <td>Ayo</td>\n",
       "      <td>24</td>\n",
       "      <td>Ibadan</td>\n",
       "    </tr>\n",
       "    <tr>\n",
       "      <th>2</th>\n",
       "      <td>Chisom</td>\n",
       "      <td>22</td>\n",
       "      <td>Enugu</td>\n",
       "    </tr>\n",
       "  </tbody>\n",
       "</table>\n",
       "</div>"
      ],
      "text/plain": [
       "     Name  Age Home_Town\n",
       "0   Chris   26     Benin\n",
       "1     Ayo   24    Ibadan\n",
       "2  Chisom   22     Enugu"
      ]
     },
     "execution_count": 197,
     "metadata": {},
     "output_type": "execute_result"
    }
   ],
   "source": [
    "#Using a list of dictionaries\n",
    "data2 = [\n",
    "    {\"Name\": \"Chris\", \"Age\": 26, \"Home_Town\":\"Benin\"},\n",
    "    {\"Name\": \"Ayo\", \"Age\": 24, \"Home_Town\": \"Ibadan\"}, \n",
    "    {\"Name\": \"Chisom\", \"Age\": 22, \"Home_Town\": \"Enugu\"}\n",
    "]\n",
    "df2 = pd.DataFrame(data2)\n",
    "df2.head()"
   ]
  },
  {
   "cell_type": "code",
   "execution_count": 198,
   "id": "dacb23ef",
   "metadata": {},
   "outputs": [
    {
     "data": {
      "text/html": [
       "<div>\n",
       "<style scoped>\n",
       "    .dataframe tbody tr th:only-of-type {\n",
       "        vertical-align: middle;\n",
       "    }\n",
       "\n",
       "    .dataframe tbody tr th {\n",
       "        vertical-align: top;\n",
       "    }\n",
       "\n",
       "    .dataframe thead th {\n",
       "        text-align: right;\n",
       "    }\n",
       "</style>\n",
       "<table border=\"1\" class=\"dataframe\">\n",
       "  <thead>\n",
       "    <tr style=\"text-align: right;\">\n",
       "      <th></th>\n",
       "      <th>Name</th>\n",
       "      <th>Age</th>\n",
       "      <th>Home_Town</th>\n",
       "    </tr>\n",
       "  </thead>\n",
       "  <tbody>\n",
       "    <tr>\n",
       "      <th>0</th>\n",
       "      <td>Chris</td>\n",
       "      <td>26</td>\n",
       "      <td>Benin</td>\n",
       "    </tr>\n",
       "    <tr>\n",
       "      <th>1</th>\n",
       "      <td>Ayo</td>\n",
       "      <td>24</td>\n",
       "      <td>Ibadan</td>\n",
       "    </tr>\n",
       "    <tr>\n",
       "      <th>2</th>\n",
       "      <td>Chisom</td>\n",
       "      <td>22</td>\n",
       "      <td>Enugu</td>\n",
       "    </tr>\n",
       "  </tbody>\n",
       "</table>\n",
       "</div>"
      ],
      "text/plain": [
       "     Name  Age Home_Town\n",
       "0   Chris   26     Benin\n",
       "1     Ayo   24    Ibadan\n",
       "2  Chisom   22     Enugu"
      ]
     },
     "execution_count": 198,
     "metadata": {},
     "output_type": "execute_result"
    }
   ],
   "source": [
    "#Using a list of lists\n",
    "data3 = [\n",
    "    [\"Chris\", 26, \"Benin\"],\n",
    "    [\"Ayo\", 24, \"Ibadan\"],\n",
    "    [\"Chisom\", 22, \"Enugu\"]\n",
    "]\n",
    "df3 = pd.DataFrame(data3, columns=[\"Name\", \"Age\", \"Home_Town\"])\n",
    "df3.head()"
   ]
  },
  {
   "cell_type": "code",
   "execution_count": 199,
   "id": "c661dc4b",
   "metadata": {},
   "outputs": [
    {
     "name": "stdout",
     "output_type": "stream",
     "text": [
      "<class 'pandas.core.frame.DataFrame'>\n",
      "<class 'pandas.core.frame.DataFrame'>\n",
      "<class 'pandas.core.frame.DataFrame'>\n"
     ]
    }
   ],
   "source": [
    "print(type(df))\n",
    "print(type(df2))\n",
    "print(type(df3))"
   ]
  },
  {
   "cell_type": "markdown",
   "id": "2b8c228e",
   "metadata": {},
   "source": [
    "#### Hands on practice"
   ]
  },
  {
   "cell_type": "code",
   "execution_count": 200,
   "id": "947aad2a",
   "metadata": {},
   "outputs": [
    {
     "name": "stdout",
     "output_type": "stream",
     "text": [
      "<class 'pandas.core.frame.DataFrame'>\n",
      "RangeIndex: 34 entries, 0 to 33\n",
      "Data columns (total 10 columns):\n",
      " #   Column        Non-Null Count  Dtype \n",
      "---  ------        --------------  ----- \n",
      " 0   Timestamp     34 non-null     object\n",
      " 1   First Name    34 non-null     object\n",
      " 2   Last Name     34 non-null     object\n",
      " 3   Course Track  34 non-null     object\n",
      " 4   City          34 non-null     object\n",
      " 5   Gender        34 non-null     object\n",
      " 6   Seat Number   34 non-null     int64 \n",
      " 7   PC-Make       34 non-null     object\n",
      " 8   PC - OS       34 non-null     object\n",
      " 9   Feedback      34 non-null     object\n",
      "dtypes: int64(1), object(9)\n",
      "memory usage: 2.8+ KB\n"
     ]
    },
    {
     "data": {
      "text/plain": [
       "Index(['Timestamp', 'First Name', 'Last Name', 'Course Track', 'City', 'Gender', 'Seat Number', 'PC-Make', 'PC - OS', 'Feedback'], dtype='object')"
      ]
     },
     "execution_count": 200,
     "metadata": {},
     "output_type": "execute_result"
    }
   ],
   "source": [
    "#Reading the csv file\n",
    "df = pd.read_csv(\"biodata.csv\")\n",
    "df.head()\n",
    "df.tail() #gives the last five rows of the dataset\n",
    "df.info() #gives basic info about the data\n",
    "df.describe() #give the statistical summary of the data\n",
    "df.shape\n",
    "df.columns #checks the columns names\n",
    "\n"
   ]
  },
  {
   "cell_type": "code",
   "execution_count": 201,
   "id": "b0dc1b09",
   "metadata": {},
   "outputs": [
    {
     "data": {
      "text/plain": [
       "Timestamp       0\n",
       "First Name      0\n",
       "Last Name       0\n",
       "Course Track    0\n",
       "City            0\n",
       "Gender          0\n",
       "Seat Number     0\n",
       "PC-Make         0\n",
       "PC - OS         0\n",
       "Feedback        0\n",
       "dtype: int64"
      ]
     },
     "execution_count": 201,
     "metadata": {},
     "output_type": "execute_result"
    }
   ],
   "source": [
    "#DATA CLEANING\n",
    "#Handling missing values\n",
    "df.isna().sum()\n",
    "df.isnull().sum()\n",
    "# df.fillna(0, inplace= False) #nothing happens since there are no null cells"
   ]
  },
  {
   "cell_type": "code",
   "execution_count": 212,
   "id": "feffcd40",
   "metadata": {},
   "outputs": [
    {
     "data": {
      "text/plain": [
       "0     False\n",
       "1     False\n",
       "2     False\n",
       "3     False\n",
       "4     False\n",
       "5     False\n",
       "6     False\n",
       "7     False\n",
       "8     False\n",
       "9     False\n",
       "10    False\n",
       "11    False\n",
       "12    False\n",
       "13    False\n",
       "14    False\n",
       "15    False\n",
       "16    False\n",
       "17    False\n",
       "18    False\n",
       "19    False\n",
       "20    False\n",
       "21    False\n",
       "22    False\n",
       "23    False\n",
       "24    False\n",
       "25    False\n",
       "26    False\n",
       "27    False\n",
       "28    False\n",
       "29    False\n",
       "30    False\n",
       "31    False\n",
       "32    False\n",
       "33    False\n",
       "dtype: bool"
      ]
     },
     "execution_count": 212,
     "metadata": {},
     "output_type": "execute_result"
    }
   ],
   "source": [
    "#Finding and Handling duplicates\n",
    "df.duplicated() #checks for duplicated instances\n",
    "# df.drop_duplicates() #drops duplicates"
   ]
  },
  {
   "cell_type": "code",
   "execution_count": 213,
   "id": "92394fd2",
   "metadata": {},
   "outputs": [
    {
     "data": {
      "text/plain": [
       "0    2025-09-11 12:55:34-01:00\n",
       "1    2025-09-11 12:56:11-01:00\n",
       "2    2025-09-11 12:57:08-01:00\n",
       "3    2025-09-11 12:57:56-01:00\n",
       "4    2025-09-11 12:58:41-01:00\n",
       "5    2025-09-11 12:58:55-01:00\n",
       "6    2025-09-11 12:58:55-01:00\n",
       "7    2025-09-11 12:59:00-01:00\n",
       "8    2025-09-11 12:59:16-01:00\n",
       "9    2025-09-11 12:59:28-01:00\n",
       "10   2025-09-11 12:59:41-01:00\n",
       "11   2025-09-11 12:59:43-01:00\n",
       "12   2025-09-11 13:00:03-01:00\n",
       "13   2025-09-11 13:00:13-01:00\n",
       "14   2025-09-11 13:00:27-01:00\n",
       "15   2025-09-11 13:00:31-01:00\n",
       "16   2025-09-11 13:00:43-01:00\n",
       "17   2025-09-11 13:00:49-01:00\n",
       "18   2025-09-11 13:00:54-01:00\n",
       "19   2025-09-11 13:01:31-01:00\n",
       "20   2025-09-11 13:01:44-01:00\n",
       "21   2025-09-11 13:01:46-01:00\n",
       "22   2025-09-11 13:01:54-01:00\n",
       "23   2025-09-11 13:02:28-01:00\n",
       "24   2025-09-11 13:02:49-01:00\n",
       "25   2025-09-11 13:02:56-01:00\n",
       "26   2025-09-11 13:02:59-01:00\n",
       "27   2025-09-11 13:03:12-01:00\n",
       "28   2025-09-11 13:03:36-01:00\n",
       "29   2025-09-11 13:06:03-01:00\n",
       "30   2025-09-11 13:06:48-01:00\n",
       "31   2025-09-11 13:10:16-01:00\n",
       "32   2025-09-11 13:11:39-01:00\n",
       "33   2025-09-11 13:18:15-01:00\n",
       "Name: Timestamp, dtype: datetime64[ns, UTC-01:00]"
      ]
     },
     "execution_count": 213,
     "metadata": {},
     "output_type": "execute_result"
    }
   ],
   "source": [
    "#Correcting Data Types\n",
    "#this checks for the data type in the dataset\n",
    "df.dtypes\n",
    "\n",
    "#this changes the data type of the specified column to another data type\n",
    "df[\"Seat Number\"].astype(int)\n",
    "\n",
    "pd.to_datetime(df[\"Timestamp\"])"
   ]
  }
 ],
 "metadata": {
  "kernelspec": {
   "display_name": "intro_to_numpy (3.13.7)",
   "language": "python",
   "name": "python3"
  },
  "language_info": {
   "codemirror_mode": {
    "name": "ipython",
    "version": 3
   },
   "file_extension": ".py",
   "mimetype": "text/x-python",
   "name": "python",
   "nbconvert_exporter": "python",
   "pygments_lexer": "ipython3",
   "version": "3.13.7"
  }
 },
 "nbformat": 4,
 "nbformat_minor": 5
}
