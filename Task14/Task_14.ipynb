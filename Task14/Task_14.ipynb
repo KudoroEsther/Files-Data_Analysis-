{
 "cells": [
  {
   "cell_type": "markdown",
   "id": "6f52e515",
   "metadata": {},
   "source": [
    "# Extract, Trasform and Load"
   ]
  },
  {
   "cell_type": "code",
   "execution_count": 89,
   "id": "b487a1e7",
   "metadata": {},
   "outputs": [
    {
     "name": "stdout",
     "output_type": "stream",
     "text": [
      "Import successful\n"
     ]
    }
   ],
   "source": [
    "import pandas as pd\n",
    "import numpy as np\n",
    "import matplotlib.pyplot as plt\n",
    "# import seaborn as sns\n",
    "\n",
    "print(\"Import successful\")"
   ]
  },
  {
   "cell_type": "code",
   "execution_count": 90,
   "id": "e502cb23",
   "metadata": {},
   "outputs": [],
   "source": [
    "sales = pd.read_excel(\"eletronic_sales.xlsx\")"
   ]
  },
  {
   "cell_type": "code",
   "execution_count": 91,
   "id": "b9318d90",
   "metadata": {},
   "outputs": [
    {
     "data": {
      "text/plain": [
       "Index(['Date', 'Branch', 'Sales Agent', 'Products', 'Units', 'Price'], dtype='object')"
      ]
     },
     "execution_count": 91,
     "metadata": {},
     "output_type": "execute_result"
    }
   ],
   "source": [
    "sales.head()\n",
    "sales.columns"
   ]
  },
  {
   "cell_type": "code",
   "execution_count": 92,
   "id": "35dfe6f5",
   "metadata": {},
   "outputs": [
    {
     "data": {
      "text/plain": [
       "Date           datetime64[ns]\n",
       "Branch                 object\n",
       "Sales Agent            object\n",
       "Products               object\n",
       "Units                   int64\n",
       "Price                 float64\n",
       "Revenue               float64\n",
       "dtype: object"
      ]
     },
     "execution_count": 92,
     "metadata": {},
     "output_type": "execute_result"
    }
   ],
   "source": [
    "#Feature engineering\n",
    "\n",
    "#Creating a revenue column\n",
    "sales[\"Revenue\"] = sales[\"Units\"] * sales[\"Price\"]\n",
    "sales.head()\n",
    "sales.dtypes"
   ]
  },
  {
   "cell_type": "code",
   "execution_count": 93,
   "id": "4d76f6d4",
   "metadata": {},
   "outputs": [],
   "source": [
    "#converting the date column to datetime\n",
    "sales[\"Date\"] = pd.to_datetime(sales[\"Date\"])\n"
   ]
  },
  {
   "cell_type": "code",
   "execution_count": 94,
   "id": "dc244aac",
   "metadata": {},
   "outputs": [
    {
     "data": {
      "text/plain": [
       "<Axes: xlabel='Data Types', ylabel='Count'>"
      ]
     },
     "execution_count": 94,
     "metadata": {},
     "output_type": "execute_result"
    },
    {
     "data": {
      "image/png": "[encoded data removed]",
      "text/plain": [
       "<Figure size 640x480 with 1 Axes>"
      ]
     },
     "metadata": {},
     "output_type": "display_data"
    }
   ],
   "source": [
    "#Plotting\n",
    "#this creates a bar chart with the data types as the x axis and count as the y axis\n",
    "sales.dtypes.value_counts().plot(kind=\"bar\", xlabel=\"Data Types\", ylabel=\"Count\")"
   ]
  },
  {
   "cell_type": "code",
   "execution_count": 95,
   "id": "3b77b45f",
   "metadata": {},
   "outputs": [
    {
     "data": {
      "text/html": [
       "<div>\n",
       "<style scoped>\n",
       "    .dataframe tbody tr th:only-of-type {\n",
       "        vertical-align: middle;\n",
       "    }\n",
       "\n",
       "    .dataframe tbody tr th {\n",
       "        vertical-align: top;\n",
       "    }\n",
       "\n",
       "    .dataframe thead th {\n",
       "        text-align: right;\n",
       "    }\n",
       "</style>\n",
       "<table border=\"1\" class=\"dataframe\">\n",
       "  <thead>\n",
       "    <tr style=\"text-align: right;\">\n",
       "      <th></th>\n",
       "      <th>Date</th>\n",
       "      <th>Branch</th>\n",
       "      <th>Sales Agent</th>\n",
       "      <th>Products</th>\n",
       "      <th>Units</th>\n",
       "      <th>Price</th>\n",
       "      <th>Revenue</th>\n",
       "      <th>Year</th>\n",
       "    </tr>\n",
       "  </thead>\n",
       "  <tbody>\n",
       "    <tr>\n",
       "      <th>0</th>\n",
       "      <td>2014-09-01</td>\n",
       "      <td>Woji</td>\n",
       "      <td>Chinedu</td>\n",
       "      <td>Apple</td>\n",
       "      <td>2</td>\n",
       "      <td>125.00</td>\n",
       "      <td>250.00</td>\n",
       "      <td>2014</td>\n",
       "    </tr>\n",
       "    <tr>\n",
       "      <th>1</th>\n",
       "      <td>2015-06-17</td>\n",
       "      <td>Woji</td>\n",
       "      <td>Emeka</td>\n",
       "      <td>Apple</td>\n",
       "      <td>5</td>\n",
       "      <td>125.00</td>\n",
       "      <td>625.00</td>\n",
       "      <td>2015</td>\n",
       "    </tr>\n",
       "    <tr>\n",
       "      <th>2</th>\n",
       "      <td>2015-09-10</td>\n",
       "      <td>Woji</td>\n",
       "      <td>Ibrahim</td>\n",
       "      <td>Lenovo</td>\n",
       "      <td>7</td>\n",
       "      <td>1.29</td>\n",
       "      <td>9.03</td>\n",
       "      <td>2015</td>\n",
       "    </tr>\n",
       "    <tr>\n",
       "      <th>3</th>\n",
       "      <td>2015-11-17</td>\n",
       "      <td>Woji</td>\n",
       "      <td>Tolu</td>\n",
       "      <td>HP</td>\n",
       "      <td>11</td>\n",
       "      <td>4.99</td>\n",
       "      <td>54.89</td>\n",
       "      <td>2015</td>\n",
       "    </tr>\n",
       "    <tr>\n",
       "      <th>4</th>\n",
       "      <td>2015-10-31</td>\n",
       "      <td>Woji</td>\n",
       "      <td>Tonye</td>\n",
       "      <td>Lenovo</td>\n",
       "      <td>14</td>\n",
       "      <td>1.29</td>\n",
       "      <td>18.06</td>\n",
       "      <td>2015</td>\n",
       "    </tr>\n",
       "  </tbody>\n",
       "</table>\n",
       "</div>"
      ],
      "text/plain": [
       "        Date Branch Sales Agent Products  Units   Price  Revenue  Year\n",
       "0 2014-09-01   Woji     Chinedu    Apple      2  125.00   250.00  2014\n",
       "1 2015-06-17   Woji       Emeka    Apple      5  125.00   625.00  2015\n",
       "2 2015-09-10   Woji     Ibrahim   Lenovo      7    1.29     9.03  2015\n",
       "3 2015-11-17   Woji        Tolu       HP     11    4.99    54.89  2015\n",
       "4 2015-10-31   Woji       Tonye   Lenovo     14    1.29    18.06  2015"
      ]
     },
     "execution_count": 95,
     "metadata": {},
     "output_type": "execute_result"
    }
   ],
   "source": [
    "#Extracting the month, year and week name\n",
    "sales[\"Year\"] = sales[\"Date\"].dt.year\n",
    "sales.head()"
   ]
  },
  {
   "cell_type": "code",
   "execution_count": 96,
   "id": "051408f6",
   "metadata": {},
   "outputs": [
    {
     "data": {
      "text/html": [
       "<div>\n",
       "<style scoped>\n",
       "    .dataframe tbody tr th:only-of-type {\n",
       "        vertical-align: middle;\n",
       "    }\n",
       "\n",
       "    .dataframe tbody tr th {\n",
       "        vertical-align: top;\n",
       "    }\n",
       "\n",
       "    .dataframe thead th {\n",
       "        text-align: right;\n",
       "    }\n",
       "</style>\n",
       "<table border=\"1\" class=\"dataframe\">\n",
       "  <thead>\n",
       "    <tr style=\"text-align: right;\">\n",
       "      <th></th>\n",
       "      <th>Date</th>\n",
       "      <th>Branch</th>\n",
       "      <th>Sales Agent</th>\n",
       "      <th>Products</th>\n",
       "      <th>Units</th>\n",
       "      <th>Price</th>\n",
       "      <th>Revenue</th>\n",
       "      <th>Year</th>\n",
       "      <th>Month</th>\n",
       "    </tr>\n",
       "  </thead>\n",
       "  <tbody>\n",
       "    <tr>\n",
       "      <th>0</th>\n",
       "      <td>2014-09-01</td>\n",
       "      <td>Woji</td>\n",
       "      <td>Chinedu</td>\n",
       "      <td>Apple</td>\n",
       "      <td>2</td>\n",
       "      <td>125.00</td>\n",
       "      <td>250.00</td>\n",
       "      <td>2014</td>\n",
       "      <td>September</td>\n",
       "    </tr>\n",
       "    <tr>\n",
       "      <th>1</th>\n",
       "      <td>2015-06-17</td>\n",
       "      <td>Woji</td>\n",
       "      <td>Emeka</td>\n",
       "      <td>Apple</td>\n",
       "      <td>5</td>\n",
       "      <td>125.00</td>\n",
       "      <td>625.00</td>\n",
       "      <td>2015</td>\n",
       "      <td>June</td>\n",
       "    </tr>\n",
       "    <tr>\n",
       "      <th>2</th>\n",
       "      <td>2015-09-10</td>\n",
       "      <td>Woji</td>\n",
       "      <td>Ibrahim</td>\n",
       "      <td>Lenovo</td>\n",
       "      <td>7</td>\n",
       "      <td>1.29</td>\n",
       "      <td>9.03</td>\n",
       "      <td>2015</td>\n",
       "      <td>September</td>\n",
       "    </tr>\n",
       "    <tr>\n",
       "      <th>3</th>\n",
       "      <td>2015-11-17</td>\n",
       "      <td>Woji</td>\n",
       "      <td>Tolu</td>\n",
       "      <td>HP</td>\n",
       "      <td>11</td>\n",
       "      <td>4.99</td>\n",
       "      <td>54.89</td>\n",
       "      <td>2015</td>\n",
       "      <td>November</td>\n",
       "    </tr>\n",
       "    <tr>\n",
       "      <th>4</th>\n",
       "      <td>2015-10-31</td>\n",
       "      <td>Woji</td>\n",
       "      <td>Tonye</td>\n",
       "      <td>Lenovo</td>\n",
       "      <td>14</td>\n",
       "      <td>1.29</td>\n",
       "      <td>18.06</td>\n",
       "      <td>2015</td>\n",
       "      <td>October</td>\n",
       "    </tr>\n",
       "  </tbody>\n",
       "</table>\n",
       "</div>"
      ],
      "text/plain": [
       "        Date Branch Sales Agent Products  Units   Price  Revenue  Year  \\\n",
       "0 2014-09-01   Woji     Chinedu    Apple      2  125.00   250.00  2014   \n",
       "1 2015-06-17   Woji       Emeka    Apple      5  125.00   625.00  2015   \n",
       "2 2015-09-10   Woji     Ibrahim   Lenovo      7    1.29     9.03  2015   \n",
       "3 2015-11-17   Woji        Tolu       HP     11    4.99    54.89  2015   \n",
       "4 2015-10-31   Woji       Tonye   Lenovo     14    1.29    18.06  2015   \n",
       "\n",
       "       Month  \n",
       "0  September  \n",
       "1       June  \n",
       "2  September  \n",
       "3   November  \n",
       "4    October  "
      ]
     },
     "execution_count": 96,
     "metadata": {},
     "output_type": "execute_result"
    }
   ],
   "source": [
    "sales[\"Month\"] = sales[\"Date\"].dt.month_name()\n",
    "sales.head()"
   ]
  },
  {
   "cell_type": "code",
   "execution_count": 97,
   "id": "b6f37037",
   "metadata": {},
   "outputs": [
    {
     "data": {
      "text/html": [
       "<div>\n",
       "<style scoped>\n",
       "    .dataframe tbody tr th:only-of-type {\n",
       "        vertical-align: middle;\n",
       "    }\n",
       "\n",
       "    .dataframe tbody tr th {\n",
       "        vertical-align: top;\n",
       "    }\n",
       "\n",
       "    .dataframe thead th {\n",
       "        text-align: right;\n",
       "    }\n",
       "</style>\n",
       "<table border=\"1\" class=\"dataframe\">\n",
       "  <thead>\n",
       "    <tr style=\"text-align: right;\">\n",
       "      <th></th>\n",
       "      <th>Date</th>\n",
       "      <th>Branch</th>\n",
       "      <th>Sales Agent</th>\n",
       "      <th>Products</th>\n",
       "      <th>Units</th>\n",
       "      <th>Price</th>\n",
       "      <th>Revenue</th>\n",
       "      <th>Year</th>\n",
       "      <th>Month</th>\n",
       "      <th>Week</th>\n",
       "    </tr>\n",
       "  </thead>\n",
       "  <tbody>\n",
       "    <tr>\n",
       "      <th>0</th>\n",
       "      <td>2014-09-01</td>\n",
       "      <td>Woji</td>\n",
       "      <td>Chinedu</td>\n",
       "      <td>Apple</td>\n",
       "      <td>2</td>\n",
       "      <td>125.00</td>\n",
       "      <td>250.00</td>\n",
       "      <td>2014</td>\n",
       "      <td>September</td>\n",
       "      <td>Monday</td>\n",
       "    </tr>\n",
       "    <tr>\n",
       "      <th>1</th>\n",
       "      <td>2015-06-17</td>\n",
       "      <td>Woji</td>\n",
       "      <td>Emeka</td>\n",
       "      <td>Apple</td>\n",
       "      <td>5</td>\n",
       "      <td>125.00</td>\n",
       "      <td>625.00</td>\n",
       "      <td>2015</td>\n",
       "      <td>June</td>\n",
       "      <td>Wednesday</td>\n",
       "    </tr>\n",
       "    <tr>\n",
       "      <th>2</th>\n",
       "      <td>2015-09-10</td>\n",
       "      <td>Woji</td>\n",
       "      <td>Ibrahim</td>\n",
       "      <td>Lenovo</td>\n",
       "      <td>7</td>\n",
       "      <td>1.29</td>\n",
       "      <td>9.03</td>\n",
       "      <td>2015</td>\n",
       "      <td>September</td>\n",
       "      <td>Thursday</td>\n",
       "    </tr>\n",
       "    <tr>\n",
       "      <th>3</th>\n",
       "      <td>2015-11-17</td>\n",
       "      <td>Woji</td>\n",
       "      <td>Tolu</td>\n",
       "      <td>HP</td>\n",
       "      <td>11</td>\n",
       "      <td>4.99</td>\n",
       "      <td>54.89</td>\n",
       "      <td>2015</td>\n",
       "      <td>November</td>\n",
       "      <td>Tuesday</td>\n",
       "    </tr>\n",
       "    <tr>\n",
       "      <th>4</th>\n",
       "      <td>2015-10-31</td>\n",
       "      <td>Woji</td>\n",
       "      <td>Tonye</td>\n",
       "      <td>Lenovo</td>\n",
       "      <td>14</td>\n",
       "      <td>1.29</td>\n",
       "      <td>18.06</td>\n",
       "      <td>2015</td>\n",
       "      <td>October</td>\n",
       "      <td>Saturday</td>\n",
       "    </tr>\n",
       "  </tbody>\n",
       "</table>\n",
       "</div>"
      ],
      "text/plain": [
       "        Date Branch Sales Agent Products  Units   Price  Revenue  Year  \\\n",
       "0 2014-09-01   Woji     Chinedu    Apple      2  125.00   250.00  2014   \n",
       "1 2015-06-17   Woji       Emeka    Apple      5  125.00   625.00  2015   \n",
       "2 2015-09-10   Woji     Ibrahim   Lenovo      7    1.29     9.03  2015   \n",
       "3 2015-11-17   Woji        Tolu       HP     11    4.99    54.89  2015   \n",
       "4 2015-10-31   Woji       Tonye   Lenovo     14    1.29    18.06  2015   \n",
       "\n",
       "       Month       Week  \n",
       "0  September     Monday  \n",
       "1       June  Wednesday  \n",
       "2  September   Thursday  \n",
       "3   November    Tuesday  \n",
       "4    October   Saturday  "
      ]
     },
     "execution_count": 97,
     "metadata": {},
     "output_type": "execute_result"
    }
   ],
   "source": [
    "sales[\"Week\"] = sales[\"Date\"].dt.day_name()\n",
    "sales.head()"
   ]
  },
  {
   "cell_type": "markdown",
   "id": "ee0042c2",
   "metadata": {},
   "source": [
    "# Working on KPI's (Key Performance index of this data)\n"
   ]
  },
  {
   "cell_type": "code",
   "execution_count": 98,
   "id": "ad70a5df",
   "metadata": {},
   "outputs": [
    {
     "name": "stdout",
     "output_type": "stream",
     "text": [
      "Total goods sold: 2121 units.\n"
     ]
    }
   ],
   "source": [
    "#Total units sold\n",
    "total_goods_sold = sales[\"Units\"].sum()\n",
    "print(f\"Total goods sold: {total_goods_sold} units.\")"
   ]
  },
  {
   "cell_type": "code",
   "execution_count": 99,
   "id": "35b1ad60",
   "metadata": {},
   "outputs": [
    {
     "name": "stdout",
     "output_type": "stream",
     "text": [
      "Total Revenue: ₦19,627.879999999997\n"
     ]
    }
   ],
   "source": [
    "#Total Revenue\n",
    "total_revenue = sales[\"Revenue\"].sum()\n",
    "print(f\"Total Revenue: ₦{total_revenue:,}\")"
   ]
  },
  {
   "cell_type": "code",
   "execution_count": 100,
   "id": "5a00fb28",
   "metadata": {},
   "outputs": [
    {
     "name": "stdout",
     "output_type": "stream",
     "text": [
      "Average revenue per unit: ₦9\n"
     ]
    }
   ],
   "source": [
    "#Average revenue per unit\n",
    "#round() approximates to 2dp\n",
    "average_revenue_per_unit = round(total_revenue/total_goods_sold)\n",
    "print(f\"Average revenue per unit: ₦{average_revenue_per_unit}\")"
   ]
  },
  {
   "cell_type": "code",
   "execution_count": 101,
   "id": "16582310",
   "metadata": {},
   "outputs": [
    {
     "name": "stdout",
     "output_type": "stream",
     "text": [
      "Number of products: 5\n"
     ]
    }
   ],
   "source": [
    "#Number of products\n",
    "#.nunique() shows the number of unique values\n",
    "number_of_products = sales[\"Products\"].nunique()\n",
    "print(f\"Number of products: {number_of_products}\")"
   ]
  },
  {
   "cell_type": "code",
   "execution_count": 102,
   "id": "065eb0f7",
   "metadata": {},
   "outputs": [
    {
     "name": "stdout",
     "output_type": "stream",
     "text": [
      "Number of Sales Agents: 11\n"
     ]
    }
   ],
   "source": [
    "#Number of sales agents\n",
    "number_of_sales_agents = sales[\"Sales Agent\"].nunique()\n",
    "print(f\"Number of Sales Agents: {number_of_sales_agents}\")"
   ]
  },
  {
   "cell_type": "markdown",
   "id": "9a9709f8",
   "metadata": {},
   "source": [
    "# Woking on insights by creating models and plotting their charts"
   ]
  },
  {
   "cell_type": "code",
   "execution_count": 105,
   "id": "7ef32470",
   "metadata": {},
   "outputs": [],
   "source": [
    "# #Setting the index using the date column\n",
    "sales.set_index(\"Date\", inplace=True) \n",
    "#do not run twice"
   ]
  },
  {
   "cell_type": "code",
   "execution_count": 106,
   "id": "3b8e4450",
   "metadata": {},
   "outputs": [
    {
     "data": {
      "text/html": [
       "<div>\n",
       "<style scoped>\n",
       "    .dataframe tbody tr th:only-of-type {\n",
       "        vertical-align: middle;\n",
       "    }\n",
       "\n",
       "    .dataframe tbody tr th {\n",
       "        vertical-align: top;\n",
       "    }\n",
       "\n",
       "    .dataframe thead th {\n",
       "        text-align: right;\n",
       "    }\n",
       "</style>\n",
       "<table border=\"1\" class=\"dataframe\">\n",
       "  <thead>\n",
       "    <tr style=\"text-align: right;\">\n",
       "      <th></th>\n",
       "      <th>Branch</th>\n",
       "      <th>Sales Agent</th>\n",
       "      <th>Products</th>\n",
       "      <th>Units</th>\n",
       "      <th>Price</th>\n",
       "      <th>Revenue</th>\n",
       "      <th>Year</th>\n",
       "      <th>Month</th>\n",
       "      <th>Week</th>\n",
       "    </tr>\n",
       "    <tr>\n",
       "      <th>Date</th>\n",
       "      <th></th>\n",
       "      <th></th>\n",
       "      <th></th>\n",
       "      <th></th>\n",
       "      <th></th>\n",
       "      <th></th>\n",
       "      <th></th>\n",
       "      <th></th>\n",
       "      <th></th>\n",
       "    </tr>\n",
       "  </thead>\n",
       "  <tbody>\n",
       "    <tr>\n",
       "      <th>2014-09-01</th>\n",
       "      <td>Woji</td>\n",
       "      <td>Chinedu</td>\n",
       "      <td>Apple</td>\n",
       "      <td>2</td>\n",
       "      <td>125.00</td>\n",
       "      <td>250.00</td>\n",
       "      <td>2014</td>\n",
       "      <td>September</td>\n",
       "      <td>Monday</td>\n",
       "    </tr>\n",
       "    <tr>\n",
       "      <th>2015-06-17</th>\n",
       "      <td>Woji</td>\n",
       "      <td>Emeka</td>\n",
       "      <td>Apple</td>\n",
       "      <td>5</td>\n",
       "      <td>125.00</td>\n",
       "      <td>625.00</td>\n",
       "      <td>2015</td>\n",
       "      <td>June</td>\n",
       "      <td>Wednesday</td>\n",
       "    </tr>\n",
       "    <tr>\n",
       "      <th>2015-09-10</th>\n",
       "      <td>Woji</td>\n",
       "      <td>Ibrahim</td>\n",
       "      <td>Lenovo</td>\n",
       "      <td>7</td>\n",
       "      <td>1.29</td>\n",
       "      <td>9.03</td>\n",
       "      <td>2015</td>\n",
       "      <td>September</td>\n",
       "      <td>Thursday</td>\n",
       "    </tr>\n",
       "    <tr>\n",
       "      <th>2015-11-17</th>\n",
       "      <td>Woji</td>\n",
       "      <td>Tolu</td>\n",
       "      <td>HP</td>\n",
       "      <td>11</td>\n",
       "      <td>4.99</td>\n",
       "      <td>54.89</td>\n",
       "      <td>2015</td>\n",
       "      <td>November</td>\n",
       "      <td>Tuesday</td>\n",
       "    </tr>\n",
       "    <tr>\n",
       "      <th>2015-10-31</th>\n",
       "      <td>Woji</td>\n",
       "      <td>Tonye</td>\n",
       "      <td>Lenovo</td>\n",
       "      <td>14</td>\n",
       "      <td>1.29</td>\n",
       "      <td>18.06</td>\n",
       "      <td>2015</td>\n",
       "      <td>October</td>\n",
       "      <td>Saturday</td>\n",
       "    </tr>\n",
       "  </tbody>\n",
       "</table>\n",
       "</div>"
      ],
      "text/plain": [
       "           Branch Sales Agent Products  Units   Price  Revenue  Year  \\\n",
       "Date                                                                   \n",
       "2014-09-01   Woji     Chinedu    Apple      2  125.00   250.00  2014   \n",
       "2015-06-17   Woji       Emeka    Apple      5  125.00   625.00  2015   \n",
       "2015-09-10   Woji     Ibrahim   Lenovo      7    1.29     9.03  2015   \n",
       "2015-11-17   Woji        Tolu       HP     11    4.99    54.89  2015   \n",
       "2015-10-31   Woji       Tonye   Lenovo     14    1.29    18.06  2015   \n",
       "\n",
       "                Month       Week  \n",
       "Date                              \n",
       "2014-09-01  September     Monday  \n",
       "2015-06-17       June  Wednesday  \n",
       "2015-09-10  September   Thursday  \n",
       "2015-11-17   November    Tuesday  \n",
       "2015-10-31    October   Saturday  "
      ]
     },
     "execution_count": 106,
     "metadata": {},
     "output_type": "execute_result"
    }
   ],
   "source": [
    "sales.head()"
   ]
  },
  {
   "cell_type": "markdown",
   "id": "61ade499",
   "metadata": {},
   "source": [
    "### Calculating the total monthly revenue for year 2015 and plot the chart using 3 visualization packages in pythonl"
   ]
  },
  {
   "cell_type": "code",
   "execution_count": null,
   "id": "d1551013",
   "metadata": {},
   "outputs": [
    {
     "data": {
      "text/plain": [
       "array(['Apple', 'Lenovo', 'HP', 'Compaq', 'Dell'], dtype=object)"
      ]
     },
     "execution_count": 109,
     "metadata": {},
     "output_type": "execute_result"
    }
   ],
   "source": [
    "#prints the unique elements in the column Year\n",
    "sales.Year.unique()"
   ]
  },
  {
   "cell_type": "code",
   "execution_count": 112,
   "id": "1aca4c81",
   "metadata": {},
   "outputs": [
    {
     "data": {
      "text/html": [
       "<div>\n",
       "<style scoped>\n",
       "    .dataframe tbody tr th:only-of-type {\n",
       "        vertical-align: middle;\n",
       "    }\n",
       "\n",
       "    .dataframe tbody tr th {\n",
       "        vertical-align: top;\n",
       "    }\n",
       "\n",
       "    .dataframe thead th {\n",
       "        text-align: right;\n",
       "    }\n",
       "</style>\n",
       "<table border=\"1\" class=\"dataframe\">\n",
       "  <thead>\n",
       "    <tr style=\"text-align: right;\">\n",
       "      <th></th>\n",
       "      <th>Branch</th>\n",
       "      <th>Sales Agent</th>\n",
       "      <th>Products</th>\n",
       "      <th>Units</th>\n",
       "      <th>Price</th>\n",
       "      <th>Revenue</th>\n",
       "      <th>Year</th>\n",
       "      <th>Month</th>\n",
       "      <th>Week</th>\n",
       "    </tr>\n",
       "    <tr>\n",
       "      <th>Date</th>\n",
       "      <th></th>\n",
       "      <th></th>\n",
       "      <th></th>\n",
       "      <th></th>\n",
       "      <th></th>\n",
       "      <th></th>\n",
       "      <th></th>\n",
       "      <th></th>\n",
       "      <th></th>\n",
       "    </tr>\n",
       "  </thead>\n",
       "  <tbody>\n",
       "    <tr>\n",
       "      <th>2015-06-17</th>\n",
       "      <td>Woji</td>\n",
       "      <td>Emeka</td>\n",
       "      <td>Apple</td>\n",
       "      <td>5</td>\n",
       "      <td>125.00</td>\n",
       "      <td>625.00</td>\n",
       "      <td>2015</td>\n",
       "      <td>June</td>\n",
       "      <td>Wednesday</td>\n",
       "    </tr>\n",
       "    <tr>\n",
       "      <th>2015-09-10</th>\n",
       "      <td>Woji</td>\n",
       "      <td>Ibrahim</td>\n",
       "      <td>Lenovo</td>\n",
       "      <td>7</td>\n",
       "      <td>1.29</td>\n",
       "      <td>9.03</td>\n",
       "      <td>2015</td>\n",
       "      <td>September</td>\n",
       "      <td>Thursday</td>\n",
       "    </tr>\n",
       "    <tr>\n",
       "      <th>2015-11-17</th>\n",
       "      <td>Woji</td>\n",
       "      <td>Tolu</td>\n",
       "      <td>HP</td>\n",
       "      <td>11</td>\n",
       "      <td>4.99</td>\n",
       "      <td>54.89</td>\n",
       "      <td>2015</td>\n",
       "      <td>November</td>\n",
       "      <td>Tuesday</td>\n",
       "    </tr>\n",
       "    <tr>\n",
       "      <th>2015-10-31</th>\n",
       "      <td>Woji</td>\n",
       "      <td>Tonye</td>\n",
       "      <td>Lenovo</td>\n",
       "      <td>14</td>\n",
       "      <td>1.29</td>\n",
       "      <td>18.06</td>\n",
       "      <td>2015</td>\n",
       "      <td>October</td>\n",
       "      <td>Saturday</td>\n",
       "    </tr>\n",
       "    <tr>\n",
       "      <th>2015-12-21</th>\n",
       "      <td>Woji</td>\n",
       "      <td>Tonye</td>\n",
       "      <td>HP</td>\n",
       "      <td>28</td>\n",
       "      <td>4.99</td>\n",
       "      <td>139.72</td>\n",
       "      <td>2015</td>\n",
       "      <td>December</td>\n",
       "      <td>Monday</td>\n",
       "    </tr>\n",
       "  </tbody>\n",
       "</table>\n",
       "</div>"
      ],
      "text/plain": [
       "           Branch Sales Agent Products  Units   Price  Revenue  Year  \\\n",
       "Date                                                                   \n",
       "2015-06-17   Woji       Emeka    Apple      5  125.00   625.00  2015   \n",
       "2015-09-10   Woji     Ibrahim   Lenovo      7    1.29     9.03  2015   \n",
       "2015-11-17   Woji        Tolu       HP     11    4.99    54.89  2015   \n",
       "2015-10-31   Woji       Tonye   Lenovo     14    1.29    18.06  2015   \n",
       "2015-12-21   Woji       Tonye       HP     28    4.99   139.72  2015   \n",
       "\n",
       "                Month       Week  \n",
       "Date                              \n",
       "2015-06-17       June  Wednesday  \n",
       "2015-09-10  September   Thursday  \n",
       "2015-11-17   November    Tuesday  \n",
       "2015-10-31    October   Saturday  \n",
       "2015-12-21   December     Monday  "
      ]
     },
     "execution_count": 112,
     "metadata": {},
     "output_type": "execute_result"
    }
   ],
   "source": [
    "#stores the data for the year 2015 into sales_2015\n",
    "sales_2015 = sales[sales[\"Year\"] == 2015]\n",
    "sales_2015.head()"
   ]
  },
  {
   "cell_type": "code",
   "execution_count": 115,
   "id": "2959fa54",
   "metadata": {},
   "outputs": [
    {
     "data": {
      "text/plain": [
       "Month\n",
       "April         610.38\n",
       "August       1830.90\n",
       "December     2018.78\n",
       "February     1324.96\n",
       "January       413.54\n",
       "July          996.33\n",
       "June          625.00\n",
       "March         389.43\n",
       "May           787.57\n",
       "November       54.89\n",
       "October      1157.49\n",
       "September     160.27\n",
       "Name: Revenue, dtype: float64"
      ]
     },
     "execution_count": 115,
     "metadata": {},
     "output_type": "execute_result"
    }
   ],
   "source": [
    "#Monthly revenue in 2015\n",
    "sales_2015 = sales[sales[\"Year\"] == 2015]\n",
    "sales_2015.head()\n",
    "\n",
    "#using .sort_index() to arrange the output, so the arrangement is done based on the index\n",
    "total_monthly_revenue = sales_2015.groupby(\"Month\")[\"Revenue\"].sum().sort_index()\n",
    "total_monthly_revenue"
   ]
  },
  {
   "cell_type": "code",
   "execution_count": null,
   "id": "60bb359b",
   "metadata": {},
   "outputs": [
    {
     "data": {
      "text/plain": [
       "Month\n",
       "December     2018.78\n",
       "August       1830.90\n",
       "February     1324.96\n",
       "October      1157.49\n",
       "July          996.33\n",
       "May           787.57\n",
       "June          625.00\n",
       "April         610.38\n",
       "January       413.54\n",
       "March         389.43\n",
       "September     160.27\n",
       "November       54.89\n",
       "Name: Revenue, dtype: float64"
      ]
     },
     "execution_count": 121,
     "metadata": {},
     "output_type": "execute_result"
    }
   ],
   "source": [
    "#this groups the revenue according to the month and arranges it from the highest revenue to the lowest revenue\n",
    "total_monthly_revenue = sales_2015.groupby(\"Month\")[\"Revenue\"].sum().sort_values(ascending=False)\n",
    "total_monthly_revenue"
   ]
  },
  {
   "cell_type": "code",
   "execution_count": null,
   "id": "f6e6ed34",
   "metadata": {},
   "outputs": [
    {
     "data": {
      "text/plain": [
       "<Axes: xlabel='Revenue', ylabel='Revenue'>"
      ]
     },
     "execution_count": 124,
     "metadata": {},
     "output_type": "execute_result"
    },
    {
     "data": {
      "image/png": "[encoded data removed]",
      "text/plain": [
       "<Figure size 640x480 with 1 Axes>"
      ]
     },
     "metadata": {},
     "output_type": "display_data"
    }
   ],
   "source": [
    "#this plots revenue against month\n",
    "total_monthly_revenue.plot(kind=\"bar\", xlabel=\"Month\", ylabel=\"Revenue\")"
   ]
  },
  {
   "cell_type": "code",
   "execution_count": null,
   "id": "57b261f1",
   "metadata": {},
   "outputs": [
    {
     "data": {
      "image/png": "[encoded data removed]",
      "text/plain": [
       "<Figure size 640x480 with 1 Axes>"
      ]
     },
     "metadata": {},
     "output_type": "display_data"
    }
   ],
   "source": [
    "#Using matplotlib\n",
    "#this prints out a bar chart with revenue on the y axis and values on x axis\n",
    "plt.bar(total_monthly_revenue.index, total_monthly_revenue.values)\n",
    "plt.xlabel(\"Month\")\n",
    "plt.ylabel(\"Revenue\")\n",
    "plt.title(\"Monthly Revenue in 2015\")\n",
    "\n",
    "#this refers the angle at the x lable is being diplayed\n",
    "plt.xticks(rotation =135)\n",
    "\n",
    "#this displays just the chart\n",
    "plt.show()"
   ]
  },
  {
   "cell_type": "code",
   "execution_count": 134,
   "id": "624af187",
   "metadata": {},
   "outputs": [
    {
     "data": {
      "text/html": [
       "<div>\n",
       "<style scoped>\n",
       "    .dataframe tbody tr th:only-of-type {\n",
       "        vertical-align: middle;\n",
       "    }\n",
       "\n",
       "    .dataframe tbody tr th {\n",
       "        vertical-align: top;\n",
       "    }\n",
       "\n",
       "    .dataframe thead th {\n",
       "        text-align: right;\n",
       "    }\n",
       "</style>\n",
       "<table border=\"1\" class=\"dataframe\">\n",
       "  <thead>\n",
       "    <tr style=\"text-align: right;\">\n",
       "      <th></th>\n",
       "      <th>Branch</th>\n",
       "      <th>Sales Agent</th>\n",
       "      <th>Products</th>\n",
       "      <th>Units</th>\n",
       "      <th>Price</th>\n",
       "      <th>Revenue</th>\n",
       "      <th>Year</th>\n",
       "      <th>Month</th>\n",
       "      <th>Week</th>\n",
       "    </tr>\n",
       "    <tr>\n",
       "      <th>Date</th>\n",
       "      <th></th>\n",
       "      <th></th>\n",
       "      <th></th>\n",
       "      <th></th>\n",
       "      <th></th>\n",
       "      <th></th>\n",
       "      <th></th>\n",
       "      <th></th>\n",
       "      <th></th>\n",
       "    </tr>\n",
       "  </thead>\n",
       "  <tbody>\n",
       "    <tr>\n",
       "      <th>2014-09-01</th>\n",
       "      <td>Woji</td>\n",
       "      <td>Chinedu</td>\n",
       "      <td>Apple</td>\n",
       "      <td>2</td>\n",
       "      <td>125.00</td>\n",
       "      <td>250.00</td>\n",
       "      <td>2014</td>\n",
       "      <td>September</td>\n",
       "      <td>Monday</td>\n",
       "    </tr>\n",
       "    <tr>\n",
       "      <th>2014-02-26</th>\n",
       "      <td>Woji</td>\n",
       "      <td>Ibrahim</td>\n",
       "      <td>Compaq</td>\n",
       "      <td>27</td>\n",
       "      <td>19.99</td>\n",
       "      <td>539.73</td>\n",
       "      <td>2014</td>\n",
       "      <td>February</td>\n",
       "      <td>Wednesday</td>\n",
       "    </tr>\n",
       "    <tr>\n",
       "      <th>2014-10-05</th>\n",
       "      <td>Woji</td>\n",
       "      <td>George</td>\n",
       "      <td>HP</td>\n",
       "      <td>28</td>\n",
       "      <td>8.99</td>\n",
       "      <td>251.72</td>\n",
       "      <td>2014</td>\n",
       "      <td>October</td>\n",
       "      <td>Sunday</td>\n",
       "    </tr>\n",
       "    <tr>\n",
       "      <th>2014-02-09</th>\n",
       "      <td>Woji</td>\n",
       "      <td>Tolu</td>\n",
       "      <td>Lenovo</td>\n",
       "      <td>36</td>\n",
       "      <td>4.99</td>\n",
       "      <td>179.64</td>\n",
       "      <td>2014</td>\n",
       "      <td>February</td>\n",
       "      <td>Sunday</td>\n",
       "    </tr>\n",
       "    <tr>\n",
       "      <th>2014-01-23</th>\n",
       "      <td>Woji</td>\n",
       "      <td>Emeka</td>\n",
       "      <td>HP</td>\n",
       "      <td>50</td>\n",
       "      <td>19.99</td>\n",
       "      <td>999.50</td>\n",
       "      <td>2014</td>\n",
       "      <td>January</td>\n",
       "      <td>Thursday</td>\n",
       "    </tr>\n",
       "  </tbody>\n",
       "</table>\n",
       "</div>"
      ],
      "text/plain": [
       "           Branch Sales Agent Products  Units   Price  Revenue  Year  \\\n",
       "Date                                                                   \n",
       "2014-09-01   Woji     Chinedu    Apple      2  125.00   250.00  2014   \n",
       "2014-02-26   Woji     Ibrahim   Compaq     27   19.99   539.73  2014   \n",
       "2014-10-05   Woji      George       HP     28    8.99   251.72  2014   \n",
       "2014-02-09   Woji        Tolu   Lenovo     36    4.99   179.64  2014   \n",
       "2014-01-23   Woji       Emeka       HP     50   19.99   999.50  2014   \n",
       "\n",
       "                Month       Week  \n",
       "Date                              \n",
       "2014-09-01  September     Monday  \n",
       "2014-02-26   February  Wednesday  \n",
       "2014-10-05    October     Sunday  \n",
       "2014-02-09   February     Sunday  \n",
       "2014-01-23    January   Thursday  "
      ]
     },
     "execution_count": 134,
     "metadata": {},
     "output_type": "execute_result"
    }
   ],
   "source": [
    "sales_2014 = sales[sales[\"Year\"] == 2014]\n",
    "sales_2014.head()"
   ]
  },
  {
   "cell_type": "code",
   "execution_count": 138,
   "id": "7ed57548",
   "metadata": {},
   "outputs": [
    {
     "data": {
      "text/plain": [
       "Month\n",
       "July         1676.90\n",
       "December     1269.69\n",
       "January      1188.55\n",
       "June          988.50\n",
       "October       827.08\n",
       "November      778.89\n",
       "February      719.37\n",
       "May           512.78\n",
       "September     505.84\n",
       "April         448.65\n",
       "August        174.65\n",
       "March         167.44\n",
       "Name: Revenue, dtype: float64"
      ]
     },
     "execution_count": 138,
     "metadata": {},
     "output_type": "execute_result"
    }
   ],
   "source": [
    "monthly_revenue_2014 = sales_2014.groupby(\"Month\")[\"Revenue\"].sum().sort_values(ascending=False)\n",
    "monthly_revenue_2014"
   ]
  },
  {
   "cell_type": "code",
   "execution_count": 139,
   "id": "b9808629",
   "metadata": {},
   "outputs": [
    {
     "data": {
      "text/plain": [
       "<Axes: xlabel='Month', ylabel='Revenue'>"
      ]
     },
     "execution_count": 139,
     "metadata": {},
     "output_type": "execute_result"
    },
    {
     "data": {
      "image/png": "[encoded data removed]",
      "text/plain": [
       "<Figure size 640x480 with 1 Axes>"
      ]
     },
     "metadata": {},
     "output_type": "display_data"
    }
   ],
   "source": [
    "monthly_revenue_2014.plot(kind=\"bar\", xlabel=\"Month\", ylabel=\"Revenue\")"
   ]
  },
  {
   "cell_type": "code",
   "execution_count": 145,
   "id": "7d253e70",
   "metadata": {},
   "outputs": [
    {
     "data": {
      "image/png": "[encoded data removed]",
      "text/plain": [
       "<Figure size 640x480 with 1 Axes>"
      ]
     },
     "metadata": {},
     "output_type": "display_data"
    }
   ],
   "source": [
    "#Using matplotlib\n",
    "#plt.bar(x axis, y axis)\n",
    "plt.bar(monthly_revenue_2014.index, monthly_revenue_2014.values)\n",
    "plt.xticks(rotation = 45)\n",
    "plt.xlabel(\"Month\")\n",
    "plt.ylabel(\"Revenue\")\n",
    "plt.title(\"Monthly Revenue in 2014\")\n",
    "plt.show()"
   ]
  },
  {
   "cell_type": "markdown",
   "id": "82f57485",
   "metadata": {},
   "source": [
    "### Total Revenue by Branch"
   ]
  },
  {
   "cell_type": "code",
   "execution_count": null,
   "id": "48faa18e",
   "metadata": {},
   "outputs": [
    {
     "data": {
      "text/plain": [
       "array(['Woji', 'GRA', 'Town'], dtype=object)"
      ]
     },
     "execution_count": 146,
     "metadata": {},
     "output_type": "execute_result"
    }
   ],
   "source": [
    "#Total revenue by branch\n",
    "#this prints the unique branches in sales\n",
    "sales[\"Branch\"].unique()"
   ]
  },
  {
   "cell_type": "code",
   "execution_count": null,
   "id": "302d7d5d",
   "metadata": {},
   "outputs": [
    {
     "data": {
      "text/plain": [
       "Branch\n",
       "Woji    11139.07\n",
       "GRA      6002.09\n",
       "Town     2486.72\n",
       "Name: Revenue, dtype: float64"
      ]
     },
     "execution_count": 150,
     "metadata": {},
     "output_type": "execute_result"
    }
   ],
   "source": [
    "#this groups the sum of revenue according to the branch and sort from highest to lowest\n",
    "total_revenue_by_branch = sales.groupby(\"Branch\")[\"Revenue\"].sum().sort_values(ascending=False)\n",
    "total_revenue_by_branch"
   ]
  },
  {
   "cell_type": "code",
   "execution_count": 161,
   "id": "43511df2",
   "metadata": {},
   "outputs": [
    {
     "data": {
      "image/png": "[encoded data removed]",
      "text/plain": [
       "<Figure size 640x480 with 1 Axes>"
      ]
     },
     "metadata": {},
     "output_type": "display_data"
    }
   ],
   "source": [
    "#using matplotlib\n",
    "#this plots a pie chart with the revenue against branch\n",
    "#autopct adds percentage to the chart\n",
    "plt.pie(total_revenue_by_branch.values, labels= total_revenue_by_branch.index, autopct='%1.1f%%')\n",
    "plt.xlabel(\"Branch\")\n",
    "plt.ylabel(\"Revenue\")\n",
    "plt.title(\"Total Revenue by Branch\")\n",
    "plt.show()"
   ]
  },
  {
   "cell_type": "markdown",
   "id": "8bced6dc",
   "metadata": {},
   "source": [
    "### Calculating revenue by product"
   ]
  },
  {
   "cell_type": "code",
   "execution_count": 158,
   "id": "bd5d5792",
   "metadata": {},
   "outputs": [
    {
     "data": {
      "text/plain": [
       "array(['Apple', 'Lenovo', 'HP', 'Compaq', 'Dell'], dtype=object)"
      ]
     },
     "execution_count": 158,
     "metadata": {},
     "output_type": "execute_result"
    }
   ],
   "source": [
    "sales[\"Products\"].unique()"
   ]
  },
  {
   "cell_type": "code",
   "execution_count": 160,
   "id": "1e509bba",
   "metadata": {},
   "outputs": [
    {
     "data": {
      "text/plain": [
       "Products\n",
       "HP        9577.65\n",
       "Dell      4169.87\n",
       "Lenovo    2135.14\n",
       "Compaq    2045.22\n",
       "Apple     1700.00\n",
       "Name: Revenue, dtype: float64"
      ]
     },
     "execution_count": 160,
     "metadata": {},
     "output_type": "execute_result"
    }
   ],
   "source": [
    "total_revenue_by_product = sales.groupby(\"Products\")[\"Revenue\"].sum().sort_values(ascending=False)\n",
    "total_revenue_by_product"
   ]
  },
  {
   "cell_type": "code",
   "execution_count": 163,
   "id": "0ebd6460",
   "metadata": {},
   "outputs": [
    {
     "data": {
      "image/png": "[encoded data removed]",
      "text/plain": [
       "<Figure size 640x480 with 1 Axes>"
      ]
     },
     "metadata": {},
     "output_type": "display_data"
    }
   ],
   "source": [
    "#Using matplotlib\n",
    "plt.pie(total_revenue_by_product.values, labels=total_revenue_by_product.index, autopct= '%1.1f%%')\n",
    "plt.xlabel(\"Product\")\n",
    "plt.ylabel(\"Revenue\")\n",
    "plt.title(\"Total Revenue by Product\")\n",
    "plt.show()"
   ]
  },
  {
   "cell_type": "markdown",
   "id": "41bb881c",
   "metadata": {},
   "source": [
    "### Caculating revenue according to sales agents"
   ]
  },
  {
   "cell_type": "code",
   "execution_count": 165,
   "id": "f00c2583",
   "metadata": {},
   "outputs": [
    {
     "data": {
      "text/plain": [
       "array(['Chinedu', 'Emeka', 'Ibrahim', 'Tolu', 'Tonye', 'George',\n",
       "       'Blessing', 'Chioma', 'Torbari', 'Uche', 'Tunde'], dtype=object)"
      ]
     },
     "execution_count": 165,
     "metadata": {},
     "output_type": "execute_result"
    }
   ],
   "source": [
    "sales[\"Sales Agent\"].unique()"
   ]
  },
  {
   "cell_type": "code",
   "execution_count": 169,
   "id": "95ca30f9",
   "metadata": {},
   "outputs": [
    {
     "data": {
      "text/plain": [
       "Sales Agent\n",
       "Emeka       3109.44\n",
       "Chioma      3102.30\n",
       "Tolu        2812.19\n",
       "Blessing    2363.04\n",
       "Ibrahim     1749.87\n",
       "Chinedu     1641.43\n",
       "George      1387.77\n",
       "Uche        1283.61\n",
       "Tunde       1203.11\n",
       "Torbari      536.75\n",
       "Tonye        438.37\n",
       "Name: Revenue, dtype: float64"
      ]
     },
     "execution_count": 169,
     "metadata": {},
     "output_type": "execute_result"
    }
   ],
   "source": [
    "total_revenue_by_sales_agent = sales.groupby(\"Sales Agent\")[\"Revenue\"].sum().sort_values(ascending=False)\n",
    "total_revenue_by_sales_agent"
   ]
  }
 ],
 "metadata": {
  "kernelspec": {
   "display_name": "intro_to_numpy (3.13.7)",
   "language": "python",
   "name": "python3"
  },
  "language_info": {
   "codemirror_mode": {
    "name": "ipython",
    "version": 3
   },
   "file_extension": ".py",
   "mimetype": "text/x-python",
   "name": "python",
   "nbconvert_exporter": "python",
   "pygments_lexer": "ipython3",
   "version": "3.13.7"
  }
 },
 "nbformat": 4,
 "nbformat_minor": 5
}
