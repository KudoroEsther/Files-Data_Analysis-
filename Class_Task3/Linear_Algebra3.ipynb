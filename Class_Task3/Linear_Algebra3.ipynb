{
 "cells": [
  {
   "cell_type": "markdown",
   "id": "c5d0add3",
   "metadata": {},
   "source": [
    "# Class Task 3"
   ]
  },
  {
   "cell_type": "markdown",
   "id": "a368eaa3",
   "metadata": {},
   "source": [
    "### Question A"
   ]
  },
  {
   "cell_type": "code",
   "execution_count": 1,
   "id": "e9850902",
   "metadata": {},
   "outputs": [],
   "source": [
    "import numpy as np"
   ]
  },
  {
   "cell_type": "code",
   "execution_count": null,
   "id": "d36ae509",
   "metadata": {},
   "outputs": [
    {
     "name": "stdout",
     "output_type": "stream",
     "text": [
      "[[ 4 -2]\n",
      " [ 0  6]]\n"
     ]
    }
   ],
   "source": [
    "matA = np.array([[2, -1], [0, 3]])\n",
    "matB = np.array([[1, 4], [-2, 5]])\n",
    "\n",
    "scalar_c = 2\n",
    "scalar_d = 3\n",
    "\n",
    "compute1 = np.dot(scalar_c, matA)\n",
    "compute2 = np.dot(scalar_d, matB)\n",
    "\n",
    "print(compute1)"
   ]
  }
 ],
 "metadata": {
  "kernelspec": {
   "display_name": "intro_to_numpy (3.13.7)",
   "language": "python",
   "name": "python3"
  },
  "language_info": {
   "codemirror_mode": {
    "name": "ipython",
    "version": 3
   },
   "file_extension": ".py",
   "mimetype": "text/x-python",
   "name": "python",
   "nbconvert_exporter": "python",
   "pygments_lexer": "ipython3",
   "version": "3.13.7"
  }
 },
 "nbformat": 4,
 "nbformat_minor": 5
}
