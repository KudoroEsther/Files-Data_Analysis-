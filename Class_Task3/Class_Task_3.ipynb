{
 "cells": [
  {
   "cell_type": "markdown",
   "id": "dd84d44b",
   "metadata": {},
   "source": [
    "# Class Task 3"
   ]
  },
  {
   "cell_type": "markdown",
   "id": "8a1cfdc8",
   "metadata": {},
   "source": [
    "### A = [[2, -1], [0, 3]], B = [[1. 4], [-2, 5]], c = 2, d = 3"
   ]
  },
  {
   "cell_type": "markdown",
   "id": "6792b875",
   "metadata": {},
   "source": [
    "## Question A"
   ]
  },
  {
   "cell_type": "code",
   "execution_count": null,
   "id": "04923eb0",
   "metadata": {
    "vscode": {
     "languageId": "plaintext"
    }
   },
   "outputs": [],
   "source": [
    "Compute the following (cA), (dB), and (c+d)A\n",
    "\n",
    "cA = 2.([[2, -1], [0, 3]]) = [[4, -2], [0, 6]]\n",
    "dB = 3.([[1, 4], [-2, 5]]) = [[3, 12], [-6, 15]]\n"
   ]
  }
 ],
 "metadata": {
  "language_info": {
   "name": "python"
  }
 },
 "nbformat": 4,
 "nbformat_minor": 5
}
