{
 "cells": [
  {
   "cell_type": "markdown",
   "id": "dd84d44b",
   "metadata": {},
   "source": [
    "# Class Task 3"
   ]
  },
  {
   "cell_type": "code",
   "execution_count": 1,
   "id": "b001980d",
   "metadata": {},
   "outputs": [],
   "source": [
    "import numpy as np"
   ]
  },
  {
   "cell_type": "markdown",
   "id": "8a1cfdc8",
   "metadata": {},
   "source": [
    "### A = [[2, -1], [0, 3]], B = [[1. 4], [-2, 5]], c = 2, d = 3"
   ]
  },
  {
   "cell_type": "markdown",
   "id": "6792b875",
   "metadata": {},
   "source": [
    "## Question A"
   ]
  },
  {
   "cell_type": "markdown",
   "id": "04923eb0",
   "metadata": {},
   "source": [
    "Compute the following (cA), (dB), and (c+d)A\n",
    "\n",
    "cA = 2.([[2, -1], [0, 3]]) = [[4, -2], [0, 6]]\n",
    "\n",
    "dB = 3.([[1, 4], [-2, 5]]) = [[3, 12], [-6, 15]]\n",
    "\n",
    "(c+d)A => (2+3).([[2, -1], [0, 3]]) \n",
    "= 5.([[2, -1], [0, 3]]) = [[10, -5], [0, 15]]\n"
   ]
  },
  {
   "cell_type": "markdown",
   "id": "9b150c80",
   "metadata": {},
   "source": [
    "## Question B"
   ]
  },
  {
   "cell_type": "markdown",
   "id": "950c6817",
   "metadata": {},
   "source": [
    "Using the result gotten, verify the Scalar Mulitplication Process\n",
    "\n",
    "Associativity of Scalar Mulitplication: \n",
    "    cA = Ac satisfies the condition\n",
    "    dB = Bd satisifies the condition\n",
    "\n",
    "Distributivity over Scalar Addition\n",
    "    (c+d)A = cA + DA satisfies the condiiton"
   ]
  },
  {
   "cell_type": "markdown",
   "id": "ade68709",
   "metadata": {},
   "source": [
    "## Question C"
   ]
  },
  {
   "cell_type": "markdown",
   "id": "21836115",
   "metadata": {},
   "source": [
    "Find the transpose of both matrices\n",
    "\n",
    "Tranpose of matrix A = [[2, 0], [-1, 3]]\n",
    "Tranpose of matrix B = [[1, -2], [4, 5]]"
   ]
  }
 ],
 "metadata": {
  "kernelspec": {
   "display_name": "intro_to_numpy (3.13.7)",
   "language": "python",
   "name": "python3"
  },
  "language_info": {
   "codemirror_mode": {
    "name": "ipython",
    "version": 3
   },
   "file_extension": ".py",
   "mimetype": "text/x-python",
   "name": "python",
   "nbconvert_exporter": "python",
   "pygments_lexer": "ipython3",
   "version": "3.13.7"
  }
 },
 "nbformat": 4,
 "nbformat_minor": 5
}
