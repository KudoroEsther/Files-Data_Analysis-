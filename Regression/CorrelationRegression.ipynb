{
 "cells": [
  {
   "cell_type": "markdown",
   "id": "8f5c7824",
   "metadata": {},
   "source": [
    "# Correlation in codes"
   ]
  },
  {
   "cell_type": "code",
   "execution_count": 1,
   "id": "58f35cd0",
   "metadata": {},
   "outputs": [],
   "source": [
    "import pandas as pd\n",
    "import numpy as np\n",
    "import matplotlib.pyplot as plt\n",
    "import seaborn as sns\n",
    "import scipy\n",
    "import statsmodels.api as sm\n",
    "\n",
    "import warnings\n",
    "warnings.filterwarnings(\"ignore\", category=DeprecationWarning)\n",
    "\n",
    "#Setting seed for reproducibilit\n",
    "np.random.seed(234)"
   ]
  },
  {
   "cell_type": "code",
   "execution_count": 2,
   "id": "5f6011f4",
   "metadata": {},
   "outputs": [],
   "source": [
    "#Creating a synthetic dataset\n",
    "\n",
    "students = 40\n",
    "study_hours = np.random.randint(1, 10, students) #1 to 9 hours of study\n",
    "job_hours = np.random.randint(0, 15, students) #students indicates the size of the randomly generated integers between 0 and 15\n",
    "sleep_hours = np.random.randint(4,9, students)\n",
    "extracurricular = np.random.randint(0, 6, students)\n",
    "\n",
    "# Exam score: positively influenced by study & sleep, negatively by job & extra activities\n",
    "exam_score = (40\n",
    "              + 5*study_hours #strong positive\n",
    "              + 2*sleep_hours\n",
    "              - 3*job_hours # strong negative\n",
    "              - 1*extracurricular #mild negative\n",
    "              + np.random.randint(-5, 5, students)) #noise\n",
    "\n",
    "data = pd.DataFrame({\n",
    "    'Study_Hours': study_hours,\n",
    "    'Job_Hours': job_hours,\n",
    "    \"Sleep_Hours\": sleep_hours,\n",
    "    'Extracurricular_Hours': extracurricular,\n",
    "    'Exam_Score': exam_score\n",
    "})"
   ]
  },
  {
   "cell_type": "code",
   "execution_count": 3,
   "id": "fdb47a68",
   "metadata": {},
   "outputs": [
    {
     "data": {
      "text/html": [
       "<div>\n",
       "<style scoped>\n",
       "    .dataframe tbody tr th:only-of-type {\n",
       "        vertical-align: middle;\n",
       "    }\n",
       "\n",
       "    .dataframe tbody tr th {\n",
       "        vertical-align: top;\n",
       "    }\n",
       "\n",
       "    .dataframe thead th {\n",
       "        text-align: right;\n",
       "    }\n",
       "</style>\n",
       "<table border=\"1\" class=\"dataframe\">\n",
       "  <thead>\n",
       "    <tr style=\"text-align: right;\">\n",
       "      <th></th>\n",
       "      <th>Study_Hours</th>\n",
       "      <th>Job_Hours</th>\n",
       "      <th>Sleep_Hours</th>\n",
       "      <th>Extracurricular_Hours</th>\n",
       "      <th>Exam_Score</th>\n",
       "    </tr>\n",
       "  </thead>\n",
       "  <tbody>\n",
       "    <tr>\n",
       "      <th>0</th>\n",
       "      <td>9</td>\n",
       "      <td>10</td>\n",
       "      <td>4</td>\n",
       "      <td>2</td>\n",
       "      <td>56</td>\n",
       "    </tr>\n",
       "    <tr>\n",
       "      <th>1</th>\n",
       "      <td>5</td>\n",
       "      <td>9</td>\n",
       "      <td>5</td>\n",
       "      <td>1</td>\n",
       "      <td>46</td>\n",
       "    </tr>\n",
       "    <tr>\n",
       "      <th>2</th>\n",
       "      <td>2</td>\n",
       "      <td>0</td>\n",
       "      <td>6</td>\n",
       "      <td>3</td>\n",
       "      <td>57</td>\n",
       "    </tr>\n",
       "    <tr>\n",
       "      <th>3</th>\n",
       "      <td>4</td>\n",
       "      <td>10</td>\n",
       "      <td>6</td>\n",
       "      <td>5</td>\n",
       "      <td>37</td>\n",
       "    </tr>\n",
       "    <tr>\n",
       "      <th>4</th>\n",
       "      <td>8</td>\n",
       "      <td>8</td>\n",
       "      <td>7</td>\n",
       "      <td>1</td>\n",
       "      <td>69</td>\n",
       "    </tr>\n",
       "  </tbody>\n",
       "</table>\n",
       "</div>"
      ],
      "text/plain": [
       "   Study_Hours  Job_Hours  Sleep_Hours  Extracurricular_Hours  Exam_Score\n",
       "0            9         10            4                      2          56\n",
       "1            5          9            5                      1          46\n",
       "2            2          0            6                      3          57\n",
       "3            4         10            6                      5          37\n",
       "4            8          8            7                      1          69"
      ]
     },
     "execution_count": 3,
     "metadata": {},
     "output_type": "execute_result"
    }
   ],
   "source": [
    "data.head()"
   ]
  },
  {
   "cell_type": "code",
   "execution_count": 4,
   "id": "cece8e5c",
   "metadata": {},
   "outputs": [
    {
     "data": {
      "text/html": [
       "<div>\n",
       "<style scoped>\n",
       "    .dataframe tbody tr th:only-of-type {\n",
       "        vertical-align: middle;\n",
       "    }\n",
       "\n",
       "    .dataframe tbody tr th {\n",
       "        vertical-align: top;\n",
       "    }\n",
       "\n",
       "    .dataframe thead th {\n",
       "        text-align: right;\n",
       "    }\n",
       "</style>\n",
       "<table border=\"1\" class=\"dataframe\">\n",
       "  <thead>\n",
       "    <tr style=\"text-align: right;\">\n",
       "      <th></th>\n",
       "      <th>Study_Hours</th>\n",
       "      <th>Job_Hours</th>\n",
       "      <th>Sleep_Hours</th>\n",
       "      <th>Extracurricular_Hours</th>\n",
       "      <th>Exam_Score</th>\n",
       "    </tr>\n",
       "  </thead>\n",
       "  <tbody>\n",
       "    <tr>\n",
       "      <th>Study_Hours</th>\n",
       "      <td>1.000000</td>\n",
       "      <td>-0.136551</td>\n",
       "      <td>-0.006383</td>\n",
       "      <td>-0.114442</td>\n",
       "      <td>0.694048</td>\n",
       "    </tr>\n",
       "    <tr>\n",
       "      <th>Job_Hours</th>\n",
       "      <td>-0.136551</td>\n",
       "      <td>1.000000</td>\n",
       "      <td>0.188992</td>\n",
       "      <td>0.209991</td>\n",
       "      <td>-0.782525</td>\n",
       "    </tr>\n",
       "    <tr>\n",
       "      <th>Sleep_Hours</th>\n",
       "      <td>-0.006383</td>\n",
       "      <td>0.188992</td>\n",
       "      <td>1.000000</td>\n",
       "      <td>0.158029</td>\n",
       "      <td>-0.035653</td>\n",
       "    </tr>\n",
       "    <tr>\n",
       "      <th>Extracurricular_Hours</th>\n",
       "      <td>-0.114442</td>\n",
       "      <td>0.209991</td>\n",
       "      <td>0.158029</td>\n",
       "      <td>1.000000</td>\n",
       "      <td>-0.276837</td>\n",
       "    </tr>\n",
       "    <tr>\n",
       "      <th>Exam_Score</th>\n",
       "      <td>0.694048</td>\n",
       "      <td>-0.782525</td>\n",
       "      <td>-0.035653</td>\n",
       "      <td>-0.276837</td>\n",
       "      <td>1.000000</td>\n",
       "    </tr>\n",
       "  </tbody>\n",
       "</table>\n",
       "</div>"
      ],
      "text/plain": [
       "                       Study_Hours  Job_Hours  Sleep_Hours  \\\n",
       "Study_Hours               1.000000  -0.136551    -0.006383   \n",
       "Job_Hours                -0.136551   1.000000     0.188992   \n",
       "Sleep_Hours              -0.006383   0.188992     1.000000   \n",
       "Extracurricular_Hours    -0.114442   0.209991     0.158029   \n",
       "Exam_Score                0.694048  -0.782525    -0.035653   \n",
       "\n",
       "                       Extracurricular_Hours  Exam_Score  \n",
       "Study_Hours                        -0.114442    0.694048  \n",
       "Job_Hours                           0.209991   -0.782525  \n",
       "Sleep_Hours                         0.158029   -0.035653  \n",
       "Extracurricular_Hours               1.000000   -0.276837  \n",
       "Exam_Score                         -0.276837    1.000000  "
      ]
     },
     "execution_count": 4,
     "metadata": {},
     "output_type": "execute_result"
    }
   ],
   "source": [
    "#Computing correlation for each data feature\n",
    "\n",
    "corr_coefficients = data.corr()\n",
    "corr_coefficients"
   ]
  },
  {
   "cell_type": "code",
   "execution_count": 5,
   "id": "053e6f88",
   "metadata": {},
   "outputs": [
    {
     "data": {
      "text/plain": [
       "Index(['Study_Hours', 'Job_Hours', 'Sleep_Hours', 'Extracurricular_Hours',\n",
       "       'Exam_Score'],\n",
       "      dtype='object')"
      ]
     },
     "execution_count": 5,
     "metadata": {},
     "output_type": "execute_result"
    }
   ],
   "source": [
    "data.columns"
   ]
  },
  {
   "cell_type": "code",
   "execution_count": 6,
   "id": "ddcc95a8",
   "metadata": {},
   "outputs": [
    {
     "data": {
      "image/png": "[encoded data removed]",
      "text/plain": [
       "<Figure size 1200x500 with 2 Axes>"
      ]
     },
     "metadata": {},
     "output_type": "display_data"
    }
   ],
   "source": [
    "#Plotting the relationship on a scatter plot\n",
    "\n",
    "#Plot: Positive and Negative examples\n",
    "plt.figure(figsize=(12,5))\n",
    "\n",
    "#Positive correlation: Study vs Score\n",
    "plt.subplot(1,2,1)\n",
    "sns.scatterplot(x='Study_Hours', y= 'Exam_Score', data=data, color='blue')\n",
    "plt.title(\"Positive Correlation:\\nStudy Hours vs Exam Score\", fontsize=14)\n",
    "plt.xlabel(\"Study Hours\")\n",
    "plt.ylabel(\"Exam Score\")\n",
    "plt.text(2, max(data['Exam_Score'])-5, f\"r = {data.corr().loc['Study_Hours', 'Exam_Score']:.2f}\",\n",
    "         fontsize=12, color=\"darkred\", bbox=dict(facecolor='white', edgecolor='red'))\n",
    "plt.grid(True, linestyle=\"--\", alpha=0.6) #Alpha adjust the opacity of the gridlines\n",
    "plt.tight_layout()\n",
    "\n",
    "#Negative correlation: Job vs Score\n",
    "plt.subplot(1,2,2)\n",
    "sns.scatterplot(x='Job_Hours', y='Exam_Score', data=data, color='green')\n",
    "plt.title(\"Negative Correlation:\\nJob Hours vs Exam Score\", fontsize=14)\n",
    "plt.xlabel(\"Part-Time Job Hours\")\n",
    "plt.ylabel(\"Exam Score\")\n",
    "\n",
    "#AddS the specified text to position x,y in data coordinates, in this case; 5, max(data['Exam_Score'])-5\n",
    "plt.text(5, max(data['Exam_Score'])-5, f\"r= {data.corr().loc['Job_Hours', 'Exam_Score']:.2f}\",\n",
    "                fontsize=12, color=\"darkred\", bbox=dict(facecolor='white', edgecolor='red'))\n",
    "plt.grid(True, linestyle=\"--\", alpha=0.6)\n",
    "plt.tight_layout()\n",
    "\n",
    "plt.show()"
   ]
  },
  {
   "cell_type": "markdown",
   "id": "28811ed6",
   "metadata": {},
   "source": [
    "**Interpretation**<br><br>\n",
    "**Study hours vs Exam score**<br>\n",
    "There exists a strong positive correlation between the amount of study hours and exam score. That is exam score experiences an increase with increase in study hours, this does not necessarily mean that an increase in study hours automatically increases exam scores.\n",
    "<br><br>\n",
    "\n",
    "**Job hours vs exam score**<br>\n",
    "There exists a strong negative correlation between the amount of job hours and exam score. That is as job hours increases there is a corresponding and significant decrease in exam score.\n"
   ]
  },
  {
   "cell_type": "markdown",
   "id": "7a9a74b2",
   "metadata": {},
   "source": [
    "## **Regression**"
   ]
  },
  {
   "cell_type": "markdown",
   "id": "80673079",
   "metadata": {},
   "source": [
    "Correlation shows whether variables move together while regression explains how much and how significantly they move together<br>\n",
    "Regression analysis is used to predict the value of the dependent variable based on the values of the independent variables"
   ]
  },
  {
   "cell_type": "markdown",
   "id": "780771c5",
   "metadata": {},
   "source": [
    "### Simple Linear Regression"
   ]
  },
  {
   "cell_type": "code",
   "execution_count": 7,
   "id": "600c8ed6",
   "metadata": {},
   "outputs": [
    {
     "data": {
      "text/html": [
       "<div>\n",
       "<style scoped>\n",
       "    .dataframe tbody tr th:only-of-type {\n",
       "        vertical-align: middle;\n",
       "    }\n",
       "\n",
       "    .dataframe tbody tr th {\n",
       "        vertical-align: top;\n",
       "    }\n",
       "\n",
       "    .dataframe thead th {\n",
       "        text-align: right;\n",
       "    }\n",
       "</style>\n",
       "<table border=\"1\" class=\"dataframe\">\n",
       "  <thead>\n",
       "    <tr style=\"text-align: right;\">\n",
       "      <th></th>\n",
       "      <th>Study_Hours</th>\n",
       "      <th>Job_Hours</th>\n",
       "      <th>Sleep_Hours</th>\n",
       "      <th>Extracurricular_Hours</th>\n",
       "      <th>Exam_Score</th>\n",
       "    </tr>\n",
       "  </thead>\n",
       "  <tbody>\n",
       "    <tr>\n",
       "      <th>0</th>\n",
       "      <td>9</td>\n",
       "      <td>10</td>\n",
       "      <td>4</td>\n",
       "      <td>2</td>\n",
       "      <td>56</td>\n",
       "    </tr>\n",
       "    <tr>\n",
       "      <th>1</th>\n",
       "      <td>5</td>\n",
       "      <td>9</td>\n",
       "      <td>5</td>\n",
       "      <td>1</td>\n",
       "      <td>46</td>\n",
       "    </tr>\n",
       "    <tr>\n",
       "      <th>2</th>\n",
       "      <td>2</td>\n",
       "      <td>0</td>\n",
       "      <td>6</td>\n",
       "      <td>3</td>\n",
       "      <td>57</td>\n",
       "    </tr>\n",
       "    <tr>\n",
       "      <th>3</th>\n",
       "      <td>4</td>\n",
       "      <td>10</td>\n",
       "      <td>6</td>\n",
       "      <td>5</td>\n",
       "      <td>37</td>\n",
       "    </tr>\n",
       "    <tr>\n",
       "      <th>4</th>\n",
       "      <td>8</td>\n",
       "      <td>8</td>\n",
       "      <td>7</td>\n",
       "      <td>1</td>\n",
       "      <td>69</td>\n",
       "    </tr>\n",
       "  </tbody>\n",
       "</table>\n",
       "</div>"
      ],
      "text/plain": [
       "   Study_Hours  Job_Hours  Sleep_Hours  Extracurricular_Hours  Exam_Score\n",
       "0            9         10            4                      2          56\n",
       "1            5          9            5                      1          46\n",
       "2            2          0            6                      3          57\n",
       "3            4         10            6                      5          37\n",
       "4            8          8            7                      1          69"
      ]
     },
     "execution_count": 7,
     "metadata": {},
     "output_type": "execute_result"
    }
   ],
   "source": [
    "data.head()"
   ]
  },
  {
   "cell_type": "code",
   "execution_count": 8,
   "id": "011be8e7",
   "metadata": {},
   "outputs": [],
   "source": [
    "#Defining variables for simpler regression\n",
    "X = data['Study_Hours']\n",
    "Y = data['Exam_Score']"
   ]
  },
  {
   "cell_type": "code",
   "execution_count": 9,
   "id": "9e02da60",
   "metadata": {},
   "outputs": [],
   "source": [
    "X = sm.add_constant(X)"
   ]
  },
  {
   "cell_type": "code",
   "execution_count": 10,
   "id": "cc5eedcc",
   "metadata": {},
   "outputs": [
    {
     "data": {
      "text/html": [
       "<div>\n",
       "<style scoped>\n",
       "    .dataframe tbody tr th:only-of-type {\n",
       "        vertical-align: middle;\n",
       "    }\n",
       "\n",
       "    .dataframe tbody tr th {\n",
       "        vertical-align: top;\n",
       "    }\n",
       "\n",
       "    .dataframe thead th {\n",
       "        text-align: right;\n",
       "    }\n",
       "</style>\n",
       "<table border=\"1\" class=\"dataframe\">\n",
       "  <thead>\n",
       "    <tr style=\"text-align: right;\">\n",
       "      <th></th>\n",
       "      <th>const</th>\n",
       "      <th>Study_Hours</th>\n",
       "    </tr>\n",
       "  </thead>\n",
       "  <tbody>\n",
       "    <tr>\n",
       "      <th>0</th>\n",
       "      <td>1.0</td>\n",
       "      <td>9</td>\n",
       "    </tr>\n",
       "    <tr>\n",
       "      <th>1</th>\n",
       "      <td>1.0</td>\n",
       "      <td>5</td>\n",
       "    </tr>\n",
       "    <tr>\n",
       "      <th>2</th>\n",
       "      <td>1.0</td>\n",
       "      <td>2</td>\n",
       "    </tr>\n",
       "    <tr>\n",
       "      <th>3</th>\n",
       "      <td>1.0</td>\n",
       "      <td>4</td>\n",
       "    </tr>\n",
       "    <tr>\n",
       "      <th>4</th>\n",
       "      <td>1.0</td>\n",
       "      <td>8</td>\n",
       "    </tr>\n",
       "  </tbody>\n",
       "</table>\n",
       "</div>"
      ],
      "text/plain": [
       "   const  Study_Hours\n",
       "0    1.0            9\n",
       "1    1.0            5\n",
       "2    1.0            2\n",
       "3    1.0            4\n",
       "4    1.0            8"
      ]
     },
     "execution_count": 10,
     "metadata": {},
     "output_type": "execute_result"
    }
   ],
   "source": [
    "X.head()"
   ]
  },
  {
   "cell_type": "code",
   "execution_count": 11,
   "id": "d22e53ac",
   "metadata": {},
   "outputs": [
    {
     "name": "stderr",
     "output_type": "stream",
     "text": [
      "c:\\Users\\ncc333\\Desktop\\DataAndDataAnalysis\\Numpy\\intro_to_numpy\\Lib\\site-packages\\statsmodels\\base\\model.py:130: ValueWarning: unknown kwargs ['random_state']\n",
      "  warnings.warn(msg, ValueWarning)\n"
     ]
    }
   ],
   "source": [
    "#Fitting model using OLS (ordinary least squares)\n",
    "model = sm.OLS(Y, X, random_state=234).fit()"
   ]
  },
  {
   "cell_type": "code",
   "execution_count": 12,
   "id": "de53d031",
   "metadata": {},
   "outputs": [
    {
     "name": "stdout",
     "output_type": "stream",
     "text": [
      "                            OLS Regression Results                            \n",
      "==============================================================================\n",
      "Dep. Variable:             Exam_Score   R-squared:                       0.482\n",
      "Model:                            OLS   Adj. R-squared:                  0.468\n",
      "Method:                 Least Squares   F-statistic:                     35.32\n",
      "Date:                Wed, 08 Oct 2025   Prob (F-statistic):           6.82e-07\n",
      "Time:                        10:14:43   Log-Likelihood:                -161.99\n",
      "No. Observations:                  40   AIC:                             328.0\n",
      "Df Residuals:                      38   BIC:                             331.4\n",
      "Df Model:                           1                                         \n",
      "Covariance Type:            nonrobust                                         \n",
      "===============================================================================\n",
      "                  coef    std err          t      P>|t|      [0.025      0.975]\n",
      "-------------------------------------------------------------------------------\n",
      "const          24.6404      5.476      4.500      0.000      13.556      35.725\n",
      "Study_Hours     5.4672      0.920      5.943      0.000       3.605       7.330\n",
      "==============================================================================\n",
      "Omnibus:                        6.602   Durbin-Watson:                   1.738\n",
      "Prob(Omnibus):                  0.037   Jarque-Bera (JB):                2.695\n",
      "Skew:                           0.316   Prob(JB):                        0.260\n",
      "Kurtosis:                       1.896   Cond. No.                         14.8\n",
      "==============================================================================\n",
      "\n",
      "Notes:\n",
      "[1] Standard Errors assume that the covariance matrix of the errors is correctly specified.\n"
     ]
    }
   ],
   "source": [
    "#Displaying summary\n",
    "print(model.summary())"
   ]
  },
  {
   "cell_type": "code",
   "execution_count": 13,
   "id": "8ff0d5d9",
   "metadata": {},
   "outputs": [
    {
     "name": "stderr",
     "output_type": "stream",
     "text": [
      "C:\\Users\\ncc333\\AppData\\Local\\Temp\\ipykernel_8300\\2274051855.py:10: FutureWarning: Series.__getitem__ treating keys as positions is deprecated. In a future version, integer keys will always be treated as labels (consistent with DataFrame behavior). To access a value by position, use `ser.iloc[pos]`\n",
      "  plt.text(2, max(data['Exam_Score'])-5, f'Y= {model.params[0]:.2f} + {model.params[1]:.2f}X', color='red', fontsize=12)\n"
     ]
    },
    {
     "data": {
      "image/png": "[encoded data removed]",
      "text/plain": [
       "<Figure size 800x600 with 1 Axes>"
      ]
     },
     "metadata": {},
     "output_type": "display_data"
    }
   ],
   "source": [
    "#The regression plot using regression line and scatter plot\n",
    "plt.figure(figsize=(8,6))\n",
    "plt.scatter(data['Study_Hours'], data['Exam_Score'], color='skyblue', label='Actual Scores')\n",
    "plt.plot(data['Study_Hours'], model.predict(X), color='red', label='Regression Line')\n",
    "\n",
    "#Annotate\n",
    "plt.title('Simple Linear Regression: Study Hours vs Exam Score', fontsize=14, weight='bold')\n",
    "plt.xlabel('Study Hours')\n",
    "plt.ylabel('Exam Score')\n",
    "plt.text(2, max(data['Exam_Score'])-5, f'Y= {model.params[0]:.2f} + {model.params[1]:.2f}X', color='red', fontsize=12)\n",
    "plt.legend()\n",
    "plt.grid(alpha=0.3)\n",
    "plt.show()"
   ]
  },
  {
   "cell_type": "markdown",
   "id": "187c324e",
   "metadata": {},
   "source": [
    "This is our equation;\n",
    "`Exam Score = 24.6404 + 5.4672 * Study_Hours`\n",
    "\n",
    "`24.6404` -  This is the intercept (constant term).\n",
    "It means that when a student studies 0 hours, their expected exam score is about 24.64 points.\n",
    "\n",
    "`5.4672` -  This is the slope coefficient for Study Hours.\n",
    "It means for every additional 1 hour of study, the student’s exam score is expected to increase by about 5.47 points, on average.\n"
   ]
  },
  {
   "cell_type": "code",
   "execution_count": 14,
   "id": "f84e9b22",
   "metadata": {},
   "outputs": [
    {
     "data": {
      "text/plain": [
       "0     73.845272\n",
       "1     51.976436\n",
       "2     35.574810\n",
       "3     46.509227\n",
       "4     68.378063\n",
       "5     62.910854\n",
       "6     46.509227\n",
       "7     30.107601\n",
       "8     46.509227\n",
       "9     46.509227\n",
       "10    41.042019\n",
       "11    62.910854\n",
       "12    73.845272\n",
       "13    46.509227\n",
       "14    68.378063\n",
       "15    57.443645\n",
       "16    68.378063\n",
       "17    51.976436\n",
       "18    30.107601\n",
       "19    30.107601\n",
       "20    68.378063\n",
       "21    57.443645\n",
       "22    68.378063\n",
       "23    46.509227\n",
       "24    46.509227\n",
       "25    46.509227\n",
       "26    46.509227\n",
       "27    51.976436\n",
       "28    51.976436\n",
       "29    73.845272\n",
       "30    57.443645\n",
       "31    68.378063\n",
       "32    41.042019\n",
       "33    68.378063\n",
       "34    51.976436\n",
       "35    46.509227\n",
       "36    73.845272\n",
       "37    68.378063\n",
       "38    68.378063\n",
       "39    30.107601\n",
       "dtype: float64"
      ]
     },
     "execution_count": 14,
     "metadata": {},
     "output_type": "execute_result"
    }
   ],
   "source": [
    "predictions = model.predict(X)\n",
    "predictions"
   ]
  },
  {
   "cell_type": "code",
   "execution_count": 15,
   "id": "3eb3f1ba",
   "metadata": {},
   "outputs": [
    {
     "data": {
      "text/html": [
       "<div>\n",
       "<style scoped>\n",
       "    .dataframe tbody tr th:only-of-type {\n",
       "        vertical-align: middle;\n",
       "    }\n",
       "\n",
       "    .dataframe tbody tr th {\n",
       "        vertical-align: top;\n",
       "    }\n",
       "\n",
       "    .dataframe thead th {\n",
       "        text-align: right;\n",
       "    }\n",
       "</style>\n",
       "<table border=\"1\" class=\"dataframe\">\n",
       "  <thead>\n",
       "    <tr style=\"text-align: right;\">\n",
       "      <th></th>\n",
       "      <th>Study_Hours</th>\n",
       "      <th>Exam_Score</th>\n",
       "      <th>Predicted_Exam_Score</th>\n",
       "      <th>Squared_Error</th>\n",
       "    </tr>\n",
       "  </thead>\n",
       "  <tbody>\n",
       "    <tr>\n",
       "      <th>0</th>\n",
       "      <td>9</td>\n",
       "      <td>56</td>\n",
       "      <td>73.845272</td>\n",
       "      <td>318.453719</td>\n",
       "    </tr>\n",
       "    <tr>\n",
       "      <th>1</th>\n",
       "      <td>5</td>\n",
       "      <td>46</td>\n",
       "      <td>51.976436</td>\n",
       "      <td>35.717790</td>\n",
       "    </tr>\n",
       "    <tr>\n",
       "      <th>2</th>\n",
       "      <td>2</td>\n",
       "      <td>57</td>\n",
       "      <td>35.574810</td>\n",
       "      <td>459.038779</td>\n",
       "    </tr>\n",
       "    <tr>\n",
       "      <th>3</th>\n",
       "      <td>4</td>\n",
       "      <td>37</td>\n",
       "      <td>46.509227</td>\n",
       "      <td>90.425406</td>\n",
       "    </tr>\n",
       "    <tr>\n",
       "      <th>4</th>\n",
       "      <td>8</td>\n",
       "      <td>69</td>\n",
       "      <td>68.378063</td>\n",
       "      <td>0.386806</td>\n",
       "    </tr>\n",
       "  </tbody>\n",
       "</table>\n",
       "</div>"
      ],
      "text/plain": [
       "   Study_Hours  Exam_Score  Predicted_Exam_Score  Squared_Error\n",
       "0            9          56             73.845272     318.453719\n",
       "1            5          46             51.976436      35.717790\n",
       "2            2          57             35.574810     459.038779\n",
       "3            4          37             46.509227      90.425406\n",
       "4            8          69             68.378063       0.386806"
      ]
     },
     "execution_count": 15,
     "metadata": {},
     "output_type": "execute_result"
    }
   ],
   "source": [
    "data['Predicted_Exam_Score'] = predictions\n",
    "data['Squared_Error'] = (data['Exam_Score'] - data['Predicted_Exam_Score'])**2\n",
    "\n",
    "data[['Study_Hours', 'Exam_Score', 'Predicted_Exam_Score', 'Squared_Error']].head()"
   ]
  },
  {
   "cell_type": "markdown",
   "id": "5e476369",
   "metadata": {},
   "source": [
    "### Multiple Linear Regression (Several predictors)"
   ]
  },
  {
   "cell_type": "code",
   "execution_count": 16,
   "id": "15293a9d",
   "metadata": {},
   "outputs": [
    {
     "data": {
      "text/plain": [
       "Index(['Study_Hours', 'Job_Hours', 'Sleep_Hours', 'Extracurricular_Hours',\n",
       "       'Exam_Score', 'Predicted_Exam_Score', 'Squared_Error'],\n",
       "      dtype='object')"
      ]
     },
     "execution_count": 16,
     "metadata": {},
     "output_type": "execute_result"
    }
   ],
   "source": [
    "data.columns"
   ]
  },
  {
   "cell_type": "code",
   "execution_count": 17,
   "id": "e431aa5b",
   "metadata": {},
   "outputs": [],
   "source": [
    "# Defining predictors (independent variables)\n",
    "X = data[['Study_Hours', 'Job_Hours', 'Sleep_Hours', 'Extracurricular_Hours']]"
   ]
  },
  {
   "cell_type": "code",
   "execution_count": 18,
   "id": "57063efa",
   "metadata": {},
   "outputs": [
    {
     "data": {
      "text/html": [
       "<div>\n",
       "<style scoped>\n",
       "    .dataframe tbody tr th:only-of-type {\n",
       "        vertical-align: middle;\n",
       "    }\n",
       "\n",
       "    .dataframe tbody tr th {\n",
       "        vertical-align: top;\n",
       "    }\n",
       "\n",
       "    .dataframe thead th {\n",
       "        text-align: right;\n",
       "    }\n",
       "</style>\n",
       "<table border=\"1\" class=\"dataframe\">\n",
       "  <thead>\n",
       "    <tr style=\"text-align: right;\">\n",
       "      <th></th>\n",
       "      <th>Study_Hours</th>\n",
       "      <th>Job_Hours</th>\n",
       "      <th>Sleep_Hours</th>\n",
       "      <th>Extracurricular_Hours</th>\n",
       "    </tr>\n",
       "  </thead>\n",
       "  <tbody>\n",
       "    <tr>\n",
       "      <th>0</th>\n",
       "      <td>9</td>\n",
       "      <td>10</td>\n",
       "      <td>4</td>\n",
       "      <td>2</td>\n",
       "    </tr>\n",
       "    <tr>\n",
       "      <th>1</th>\n",
       "      <td>5</td>\n",
       "      <td>9</td>\n",
       "      <td>5</td>\n",
       "      <td>1</td>\n",
       "    </tr>\n",
       "    <tr>\n",
       "      <th>2</th>\n",
       "      <td>2</td>\n",
       "      <td>0</td>\n",
       "      <td>6</td>\n",
       "      <td>3</td>\n",
       "    </tr>\n",
       "    <tr>\n",
       "      <th>3</th>\n",
       "      <td>4</td>\n",
       "      <td>10</td>\n",
       "      <td>6</td>\n",
       "      <td>5</td>\n",
       "    </tr>\n",
       "    <tr>\n",
       "      <th>4</th>\n",
       "      <td>8</td>\n",
       "      <td>8</td>\n",
       "      <td>7</td>\n",
       "      <td>1</td>\n",
       "    </tr>\n",
       "  </tbody>\n",
       "</table>\n",
       "</div>"
      ],
      "text/plain": [
       "   Study_Hours  Job_Hours  Sleep_Hours  Extracurricular_Hours\n",
       "0            9         10            4                      2\n",
       "1            5          9            5                      1\n",
       "2            2          0            6                      3\n",
       "3            4         10            6                      5\n",
       "4            8          8            7                      1"
      ]
     },
     "execution_count": 18,
     "metadata": {},
     "output_type": "execute_result"
    }
   ],
   "source": [
    "X.head()"
   ]
  },
  {
   "cell_type": "code",
   "execution_count": 20,
   "id": "a1a26553",
   "metadata": {},
   "outputs": [
    {
     "data": {
      "text/html": [
       "<div>\n",
       "<style scoped>\n",
       "    .dataframe tbody tr th:only-of-type {\n",
       "        vertical-align: middle;\n",
       "    }\n",
       "\n",
       "    .dataframe tbody tr th {\n",
       "        vertical-align: top;\n",
       "    }\n",
       "\n",
       "    .dataframe thead th {\n",
       "        text-align: right;\n",
       "    }\n",
       "</style>\n",
       "<table border=\"1\" class=\"dataframe\">\n",
       "  <thead>\n",
       "    <tr style=\"text-align: right;\">\n",
       "      <th></th>\n",
       "      <th>const</th>\n",
       "      <th>Study_Hours</th>\n",
       "      <th>Job_Hours</th>\n",
       "      <th>Sleep_Hours</th>\n",
       "      <th>Extracurricular_Hours</th>\n",
       "    </tr>\n",
       "  </thead>\n",
       "  <tbody>\n",
       "    <tr>\n",
       "      <th>0</th>\n",
       "      <td>1.0</td>\n",
       "      <td>9</td>\n",
       "      <td>10</td>\n",
       "      <td>4</td>\n",
       "      <td>2</td>\n",
       "    </tr>\n",
       "    <tr>\n",
       "      <th>1</th>\n",
       "      <td>1.0</td>\n",
       "      <td>5</td>\n",
       "      <td>9</td>\n",
       "      <td>5</td>\n",
       "      <td>1</td>\n",
       "    </tr>\n",
       "    <tr>\n",
       "      <th>2</th>\n",
       "      <td>1.0</td>\n",
       "      <td>2</td>\n",
       "      <td>0</td>\n",
       "      <td>6</td>\n",
       "      <td>3</td>\n",
       "    </tr>\n",
       "    <tr>\n",
       "      <th>3</th>\n",
       "      <td>1.0</td>\n",
       "      <td>4</td>\n",
       "      <td>10</td>\n",
       "      <td>6</td>\n",
       "      <td>5</td>\n",
       "    </tr>\n",
       "    <tr>\n",
       "      <th>4</th>\n",
       "      <td>1.0</td>\n",
       "      <td>8</td>\n",
       "      <td>8</td>\n",
       "      <td>7</td>\n",
       "      <td>1</td>\n",
       "    </tr>\n",
       "  </tbody>\n",
       "</table>\n",
       "</div>"
      ],
      "text/plain": [
       "   const  Study_Hours  Job_Hours  Sleep_Hours  Extracurricular_Hours\n",
       "0    1.0            9         10            4                      2\n",
       "1    1.0            5          9            5                      1\n",
       "2    1.0            2          0            6                      3\n",
       "3    1.0            4         10            6                      5\n",
       "4    1.0            8          8            7                      1"
      ]
     },
     "execution_count": 20,
     "metadata": {},
     "output_type": "execute_result"
    }
   ],
   "source": [
    "X = sm.add_constant(X)\n",
    "#The constant represents the predicted value of Y when X = 0\n",
    "X.head()"
   ]
  },
  {
   "cell_type": "code",
   "execution_count": 21,
   "id": "3a9635f7",
   "metadata": {},
   "outputs": [
    {
     "data": {
      "text/plain": [
       "0    56\n",
       "1    46\n",
       "2    57\n",
       "3    37\n",
       "4    69\n",
       "Name: Exam_Score, dtype: int32"
      ]
     },
     "execution_count": 21,
     "metadata": {},
     "output_type": "execute_result"
    }
   ],
   "source": [
    "y = data['Exam_Score']\n",
    "y.head()"
   ]
  },
  {
   "cell_type": "code",
   "execution_count": 22,
   "id": "dc6d2a64",
   "metadata": {},
   "outputs": [],
   "source": [
    "model = sm.OLS(y,X).fit() #.fit() tells python to learn all possible relationships between y and x"
   ]
  },
  {
   "cell_type": "code",
   "execution_count": 23,
   "id": "8306508c",
   "metadata": {},
   "outputs": [
    {
     "data": {
      "text/plain": [
       "const                    44.790203\n",
       "Study_Hours               4.641188\n",
       "Job_Hours                -3.145561\n",
       "Sleep_Hours               1.573738\n",
       "Extracurricular_Hours    -0.876619\n",
       "dtype: float64"
      ]
     },
     "execution_count": 23,
     "metadata": {},
     "output_type": "execute_result"
    }
   ],
   "source": [
    "model.params"
   ]
  },
  {
   "cell_type": "code",
   "execution_count": null,
   "id": "562f55b3",
   "metadata": {},
   "outputs": [],
   "source": [
    "print(f\"Y= {model.params[0]:.2f} + {model.params[1]:.2f}X\")"
   ]
  }
 ],
 "metadata": {
  "kernelspec": {
   "display_name": "intro_to_numpy (3.13.7)",
   "language": "python",
   "name": "python3"
  },
  "language_info": {
   "codemirror_mode": {
    "name": "ipython",
    "version": 3
   },
   "file_extension": ".py",
   "mimetype": "text/x-python",
   "name": "python",
   "nbconvert_exporter": "python",
   "pygments_lexer": "ipython3",
   "version": "3.13.7"
  }
 },
 "nbformat": 4,
 "nbformat_minor": 5
}
