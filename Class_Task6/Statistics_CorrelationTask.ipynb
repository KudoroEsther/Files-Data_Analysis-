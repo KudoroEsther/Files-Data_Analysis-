{
 "cells": [
  {
   "cell_type": "markdown",
   "id": "bbb48253",
   "metadata": {},
   "source": [
    "# Statistics Code Along for Miss Chisom"
   ]
  },
  {
   "cell_type": "code",
   "execution_count": 1,
   "id": "aee1aa3f",
   "metadata": {},
   "outputs": [],
   "source": [
    "import pandas as pd\n",
    "import numpy as np\n",
    "import gdown\n",
    "import matplotlib.pyplot as plt\n",
    "import seaborn as sns"
   ]
  },
  {
   "cell_type": "code",
   "execution_count": 2,
   "id": "dbd3728f",
   "metadata": {},
   "outputs": [
    {
     "name": "stderr",
     "output_type": "stream",
     "text": [
      "Downloading...\n",
      "From: https://drive.google.com/uc?id=1yB5qSBOLl96Y563nIewKOU8RN_gsY3dO\n",
      "To: c:\\Users\\ncc333\\Desktop\\DataAndDataAnalysis\\Numpy\\Class_Task6\\data.csv\n",
      "100%|██████████| 52.0k/52.0k [00:00<00:00, 339kB/s]\n"
     ]
    },
    {
     "data": {
      "text/plain": [
       "'data.csv'"
      ]
     },
     "execution_count": 2,
     "metadata": {},
     "output_type": "execute_result"
    }
   ],
   "source": [
    "file_id = '1yB5qSBOLl96Y563nIewKOU8RN_gsY3dO'  # Make sure it's a string\n",
    "gdown.download(f'https://drive.google.com/uc?id={file_id}', 'data.csv', quiet=False)\n"
   ]
  },
  {
   "cell_type": "code",
   "execution_count": 3,
   "id": "2ff9ad4b",
   "metadata": {},
   "outputs": [
    {
     "data": {
      "text/html": [
       "<div>\n",
       "<style scoped>\n",
       "    .dataframe tbody tr th:only-of-type {\n",
       "        vertical-align: middle;\n",
       "    }\n",
       "\n",
       "    .dataframe tbody tr th {\n",
       "        vertical-align: top;\n",
       "    }\n",
       "\n",
       "    .dataframe thead th {\n",
       "        text-align: right;\n",
       "    }\n",
       "</style>\n",
       "<table border=\"1\" class=\"dataframe\">\n",
       "  <thead>\n",
       "    <tr style=\"text-align: right;\">\n",
       "      <th></th>\n",
       "      <th>Unnamed: 0</th>\n",
       "      <th>country</th>\n",
       "      <th>food_category</th>\n",
       "      <th>consumption</th>\n",
       "      <th>co2_emission</th>\n",
       "    </tr>\n",
       "  </thead>\n",
       "  <tbody>\n",
       "    <tr>\n",
       "      <th>0</th>\n",
       "      <td>1</td>\n",
       "      <td>Argentina</td>\n",
       "      <td>pork</td>\n",
       "      <td>10.51</td>\n",
       "      <td>37.20</td>\n",
       "    </tr>\n",
       "    <tr>\n",
       "      <th>1</th>\n",
       "      <td>2</td>\n",
       "      <td>Argentina</td>\n",
       "      <td>poultry</td>\n",
       "      <td>38.66</td>\n",
       "      <td>41.53</td>\n",
       "    </tr>\n",
       "    <tr>\n",
       "      <th>2</th>\n",
       "      <td>3</td>\n",
       "      <td>Argentina</td>\n",
       "      <td>beef</td>\n",
       "      <td>55.48</td>\n",
       "      <td>1712.00</td>\n",
       "    </tr>\n",
       "    <tr>\n",
       "      <th>3</th>\n",
       "      <td>4</td>\n",
       "      <td>Argentina</td>\n",
       "      <td>lamb_goat</td>\n",
       "      <td>1.56</td>\n",
       "      <td>54.63</td>\n",
       "    </tr>\n",
       "    <tr>\n",
       "      <th>4</th>\n",
       "      <td>5</td>\n",
       "      <td>Argentina</td>\n",
       "      <td>fish</td>\n",
       "      <td>4.36</td>\n",
       "      <td>6.96</td>\n",
       "    </tr>\n",
       "  </tbody>\n",
       "</table>\n",
       "</div>"
      ],
      "text/plain": [
       "   Unnamed: 0    country food_category  consumption  co2_emission\n",
       "0           1  Argentina          pork        10.51         37.20\n",
       "1           2  Argentina       poultry        38.66         41.53\n",
       "2           3  Argentina          beef        55.48       1712.00\n",
       "3           4  Argentina     lamb_goat         1.56         54.63\n",
       "4           5  Argentina          fish         4.36          6.96"
      ]
     },
     "execution_count": 3,
     "metadata": {},
     "output_type": "execute_result"
    }
   ],
   "source": [
    "df = pd.read_csv('data.csv')\n",
    "df.head()"
   ]
  },
  {
   "cell_type": "code",
   "execution_count": 4,
   "id": "e12c8753",
   "metadata": {},
   "outputs": [],
   "source": [
    "from scipy import stats"
   ]
  },
  {
   "cell_type": "code",
   "execution_count": 5,
   "id": "ec8cae88",
   "metadata": {},
   "outputs": [
    {
     "data": {
      "text/html": [
       "<div>\n",
       "<style scoped>\n",
       "    .dataframe tbody tr th:only-of-type {\n",
       "        vertical-align: middle;\n",
       "    }\n",
       "\n",
       "    .dataframe tbody tr th {\n",
       "        vertical-align: top;\n",
       "    }\n",
       "\n",
       "    .dataframe thead th {\n",
       "        text-align: right;\n",
       "    }\n",
       "</style>\n",
       "<table border=\"1\" class=\"dataframe\">\n",
       "  <thead>\n",
       "    <tr style=\"text-align: right;\">\n",
       "      <th></th>\n",
       "      <th>Unnamed: 0</th>\n",
       "      <th>country</th>\n",
       "      <th>food_category</th>\n",
       "      <th>consumption</th>\n",
       "      <th>co2_emission</th>\n",
       "    </tr>\n",
       "  </thead>\n",
       "  <tbody>\n",
       "    <tr>\n",
       "      <th>0</th>\n",
       "      <td>1</td>\n",
       "      <td>Argentina</td>\n",
       "      <td>pork</td>\n",
       "      <td>10.51</td>\n",
       "      <td>37.20</td>\n",
       "    </tr>\n",
       "    <tr>\n",
       "      <th>1</th>\n",
       "      <td>2</td>\n",
       "      <td>Argentina</td>\n",
       "      <td>poultry</td>\n",
       "      <td>38.66</td>\n",
       "      <td>41.53</td>\n",
       "    </tr>\n",
       "    <tr>\n",
       "      <th>2</th>\n",
       "      <td>3</td>\n",
       "      <td>Argentina</td>\n",
       "      <td>beef</td>\n",
       "      <td>55.48</td>\n",
       "      <td>1712.00</td>\n",
       "    </tr>\n",
       "    <tr>\n",
       "      <th>3</th>\n",
       "      <td>4</td>\n",
       "      <td>Argentina</td>\n",
       "      <td>lamb_goat</td>\n",
       "      <td>1.56</td>\n",
       "      <td>54.63</td>\n",
       "    </tr>\n",
       "    <tr>\n",
       "      <th>4</th>\n",
       "      <td>5</td>\n",
       "      <td>Argentina</td>\n",
       "      <td>fish</td>\n",
       "      <td>4.36</td>\n",
       "      <td>6.96</td>\n",
       "    </tr>\n",
       "    <tr>\n",
       "      <th>...</th>\n",
       "      <td>...</td>\n",
       "      <td>...</td>\n",
       "      <td>...</td>\n",
       "      <td>...</td>\n",
       "      <td>...</td>\n",
       "    </tr>\n",
       "    <tr>\n",
       "      <th>1425</th>\n",
       "      <td>1426</td>\n",
       "      <td>Bangladesh</td>\n",
       "      <td>dairy</td>\n",
       "      <td>21.91</td>\n",
       "      <td>31.21</td>\n",
       "    </tr>\n",
       "    <tr>\n",
       "      <th>1426</th>\n",
       "      <td>1427</td>\n",
       "      <td>Bangladesh</td>\n",
       "      <td>wheat</td>\n",
       "      <td>17.47</td>\n",
       "      <td>3.33</td>\n",
       "    </tr>\n",
       "    <tr>\n",
       "      <th>1427</th>\n",
       "      <td>1428</td>\n",
       "      <td>Bangladesh</td>\n",
       "      <td>rice</td>\n",
       "      <td>171.73</td>\n",
       "      <td>219.76</td>\n",
       "    </tr>\n",
       "    <tr>\n",
       "      <th>1428</th>\n",
       "      <td>1429</td>\n",
       "      <td>Bangladesh</td>\n",
       "      <td>soybeans</td>\n",
       "      <td>0.61</td>\n",
       "      <td>0.27</td>\n",
       "    </tr>\n",
       "    <tr>\n",
       "      <th>1429</th>\n",
       "      <td>1430</td>\n",
       "      <td>Bangladesh</td>\n",
       "      <td>nuts</td>\n",
       "      <td>0.72</td>\n",
       "      <td>1.27</td>\n",
       "    </tr>\n",
       "  </tbody>\n",
       "</table>\n",
       "<p>1430 rows × 5 columns</p>\n",
       "</div>"
      ],
      "text/plain": [
       "      Unnamed: 0     country food_category  consumption  co2_emission\n",
       "0              1   Argentina          pork        10.51         37.20\n",
       "1              2   Argentina       poultry        38.66         41.53\n",
       "2              3   Argentina          beef        55.48       1712.00\n",
       "3              4   Argentina     lamb_goat         1.56         54.63\n",
       "4              5   Argentina          fish         4.36          6.96\n",
       "...          ...         ...           ...          ...           ...\n",
       "1425        1426  Bangladesh         dairy        21.91         31.21\n",
       "1426        1427  Bangladesh         wheat        17.47          3.33\n",
       "1427        1428  Bangladesh          rice       171.73        219.76\n",
       "1428        1429  Bangladesh      soybeans         0.61          0.27\n",
       "1429        1430  Bangladesh          nuts         0.72          1.27\n",
       "\n",
       "[1430 rows x 5 columns]"
      ]
     },
     "execution_count": 5,
     "metadata": {},
     "output_type": "execute_result"
    }
   ],
   "source": [
    "df"
   ]
  },
  {
   "cell_type": "code",
   "execution_count": null,
   "id": "09747654",
   "metadata": {},
   "outputs": [],
   "source": [
    "# df.drop('Unnamed: 0', axis=1, inplace=True)"
   ]
  },
  {
   "cell_type": "code",
   "execution_count": 28,
   "id": "1702f148",
   "metadata": {},
   "outputs": [
    {
     "data": {
      "text/html": [
       "<div>\n",
       "<style scoped>\n",
       "    .dataframe tbody tr th:only-of-type {\n",
       "        vertical-align: middle;\n",
       "    }\n",
       "\n",
       "    .dataframe tbody tr th {\n",
       "        vertical-align: top;\n",
       "    }\n",
       "\n",
       "    .dataframe thead th {\n",
       "        text-align: right;\n",
       "    }\n",
       "</style>\n",
       "<table border=\"1\" class=\"dataframe\">\n",
       "  <thead>\n",
       "    <tr style=\"text-align: right;\">\n",
       "      <th></th>\n",
       "      <th>country</th>\n",
       "      <th>food_category</th>\n",
       "      <th>consumption</th>\n",
       "      <th>co2_emission</th>\n",
       "    </tr>\n",
       "  </thead>\n",
       "  <tbody>\n",
       "    <tr>\n",
       "      <th>count</th>\n",
       "      <td>1430</td>\n",
       "      <td>1430</td>\n",
       "      <td>1430.000000</td>\n",
       "      <td>1430.000000</td>\n",
       "    </tr>\n",
       "    <tr>\n",
       "      <th>unique</th>\n",
       "      <td>130</td>\n",
       "      <td>11</td>\n",
       "      <td>NaN</td>\n",
       "      <td>NaN</td>\n",
       "    </tr>\n",
       "    <tr>\n",
       "      <th>top</th>\n",
       "      <td>Argentina</td>\n",
       "      <td>pork</td>\n",
       "      <td>NaN</td>\n",
       "      <td>NaN</td>\n",
       "    </tr>\n",
       "    <tr>\n",
       "      <th>freq</th>\n",
       "      <td>11</td>\n",
       "      <td>130</td>\n",
       "      <td>NaN</td>\n",
       "      <td>NaN</td>\n",
       "    </tr>\n",
       "    <tr>\n",
       "      <th>mean</th>\n",
       "      <td>NaN</td>\n",
       "      <td>NaN</td>\n",
       "      <td>28.110406</td>\n",
       "      <td>74.383993</td>\n",
       "    </tr>\n",
       "    <tr>\n",
       "      <th>std</th>\n",
       "      <td>NaN</td>\n",
       "      <td>NaN</td>\n",
       "      <td>49.818044</td>\n",
       "      <td>152.098566</td>\n",
       "    </tr>\n",
       "    <tr>\n",
       "      <th>min</th>\n",
       "      <td>NaN</td>\n",
       "      <td>NaN</td>\n",
       "      <td>0.000000</td>\n",
       "      <td>0.000000</td>\n",
       "    </tr>\n",
       "    <tr>\n",
       "      <th>25%</th>\n",
       "      <td>NaN</td>\n",
       "      <td>NaN</td>\n",
       "      <td>2.365000</td>\n",
       "      <td>5.210000</td>\n",
       "    </tr>\n",
       "    <tr>\n",
       "      <th>50%</th>\n",
       "      <td>NaN</td>\n",
       "      <td>NaN</td>\n",
       "      <td>8.890000</td>\n",
       "      <td>16.530000</td>\n",
       "    </tr>\n",
       "    <tr>\n",
       "      <th>75%</th>\n",
       "      <td>NaN</td>\n",
       "      <td>NaN</td>\n",
       "      <td>28.132500</td>\n",
       "      <td>62.597500</td>\n",
       "    </tr>\n",
       "    <tr>\n",
       "      <th>max</th>\n",
       "      <td>NaN</td>\n",
       "      <td>NaN</td>\n",
       "      <td>430.760000</td>\n",
       "      <td>1712.000000</td>\n",
       "    </tr>\n",
       "  </tbody>\n",
       "</table>\n",
       "</div>"
      ],
      "text/plain": [
       "          country food_category  consumption  co2_emission\n",
       "count        1430          1430  1430.000000   1430.000000\n",
       "unique        130            11          NaN           NaN\n",
       "top     Argentina          pork          NaN           NaN\n",
       "freq           11           130          NaN           NaN\n",
       "mean          NaN           NaN    28.110406     74.383993\n",
       "std           NaN           NaN    49.818044    152.098566\n",
       "min           NaN           NaN     0.000000      0.000000\n",
       "25%           NaN           NaN     2.365000      5.210000\n",
       "50%           NaN           NaN     8.890000     16.530000\n",
       "75%           NaN           NaN    28.132500     62.597500\n",
       "max           NaN           NaN   430.760000   1712.000000"
      ]
     },
     "execution_count": 28,
     "metadata": {},
     "output_type": "execute_result"
    }
   ],
   "source": [
    "df.describe(include='all')"
   ]
  },
  {
   "cell_type": "code",
   "execution_count": null,
   "id": "1d720f6b",
   "metadata": {},
   "outputs": [
    {
     "data": {
      "text/html": [
       "<div>\n",
       "<style scoped>\n",
       "    .dataframe tbody tr th:only-of-type {\n",
       "        vertical-align: middle;\n",
       "    }\n",
       "\n",
       "    .dataframe tbody tr th {\n",
       "        vertical-align: top;\n",
       "    }\n",
       "\n",
       "    .dataframe thead th {\n",
       "        text-align: right;\n",
       "    }\n",
       "</style>\n",
       "<table border=\"1\" class=\"dataframe\">\n",
       "  <thead>\n",
       "    <tr style=\"text-align: right;\">\n",
       "      <th></th>\n",
       "      <th>country</th>\n",
       "      <th>food_category</th>\n",
       "      <th>consumption</th>\n",
       "      <th>co2_emission</th>\n",
       "    </tr>\n",
       "  </thead>\n",
       "  <tbody>\n",
       "    <tr>\n",
       "      <th>396</th>\n",
       "      <td>Belgium</td>\n",
       "      <td>pork</td>\n",
       "      <td>38.65</td>\n",
       "      <td>136.80</td>\n",
       "    </tr>\n",
       "    <tr>\n",
       "      <th>397</th>\n",
       "      <td>Belgium</td>\n",
       "      <td>poultry</td>\n",
       "      <td>12.20</td>\n",
       "      <td>13.11</td>\n",
       "    </tr>\n",
       "    <tr>\n",
       "      <th>398</th>\n",
       "      <td>Belgium</td>\n",
       "      <td>beef</td>\n",
       "      <td>15.63</td>\n",
       "      <td>482.31</td>\n",
       "    </tr>\n",
       "    <tr>\n",
       "      <th>399</th>\n",
       "      <td>Belgium</td>\n",
       "      <td>lamb_goat</td>\n",
       "      <td>1.32</td>\n",
       "      <td>46.23</td>\n",
       "    </tr>\n",
       "    <tr>\n",
       "      <th>400</th>\n",
       "      <td>Belgium</td>\n",
       "      <td>fish</td>\n",
       "      <td>18.97</td>\n",
       "      <td>30.29</td>\n",
       "    </tr>\n",
       "    <tr>\n",
       "      <th>401</th>\n",
       "      <td>Belgium</td>\n",
       "      <td>eggs</td>\n",
       "      <td>12.59</td>\n",
       "      <td>11.57</td>\n",
       "    </tr>\n",
       "    <tr>\n",
       "      <th>402</th>\n",
       "      <td>Belgium</td>\n",
       "      <td>dairy</td>\n",
       "      <td>236.19</td>\n",
       "      <td>336.43</td>\n",
       "    </tr>\n",
       "    <tr>\n",
       "      <th>403</th>\n",
       "      <td>Belgium</td>\n",
       "      <td>wheat</td>\n",
       "      <td>111.91</td>\n",
       "      <td>21.34</td>\n",
       "    </tr>\n",
       "    <tr>\n",
       "      <th>404</th>\n",
       "      <td>Belgium</td>\n",
       "      <td>rice</td>\n",
       "      <td>8.61</td>\n",
       "      <td>11.02</td>\n",
       "    </tr>\n",
       "    <tr>\n",
       "      <th>405</th>\n",
       "      <td>Belgium</td>\n",
       "      <td>soybeans</td>\n",
       "      <td>0.07</td>\n",
       "      <td>0.03</td>\n",
       "    </tr>\n",
       "    <tr>\n",
       "      <th>406</th>\n",
       "      <td>Belgium</td>\n",
       "      <td>nuts</td>\n",
       "      <td>7.32</td>\n",
       "      <td>12.96</td>\n",
       "    </tr>\n",
       "  </tbody>\n",
       "</table>\n",
       "</div>"
      ],
      "text/plain": [
       "     country food_category  consumption  co2_emission\n",
       "396  Belgium          pork        38.65        136.80\n",
       "397  Belgium       poultry        12.20         13.11\n",
       "398  Belgium          beef        15.63        482.31\n",
       "399  Belgium     lamb_goat         1.32         46.23\n",
       "400  Belgium          fish        18.97         30.29\n",
       "401  Belgium          eggs        12.59         11.57\n",
       "402  Belgium         dairy       236.19        336.43\n",
       "403  Belgium         wheat       111.91         21.34\n",
       "404  Belgium          rice         8.61         11.02\n",
       "405  Belgium      soybeans         0.07          0.03\n",
       "406  Belgium          nuts         7.32         12.96"
      ]
     },
     "execution_count": 29,
     "metadata": {},
     "output_type": "execute_result"
    }
   ],
   "source": [
    "be_consumption = df[df['country'] == 'Belgium'] #extracting all entries for Belgium\n",
    "be_consumption"
   ]
  },
  {
   "cell_type": "code",
   "execution_count": 31,
   "id": "420ae599",
   "metadata": {},
   "outputs": [
    {
     "name": "stdout",
     "output_type": "stream",
     "text": [
      "Mean consumption in Belgium: 42.13272727272727\n",
      "Median consumption in Belgium: 12.59\n"
     ]
    }
   ],
   "source": [
    "#Calculating the mean and median consumption in Belgium\n",
    "print(f\"Mean consumption in Belgium: {np.mean(be_consumption['consumption'])}\")\n",
    "print(f\"Median consumption in Belgium: {np.median(be_consumption['consumption'])}\")"
   ]
  },
  {
   "cell_type": "code",
   "execution_count": 32,
   "id": "0d8bc4d0",
   "metadata": {},
   "outputs": [
    {
     "data": {
      "text/html": [
       "<div>\n",
       "<style scoped>\n",
       "    .dataframe tbody tr th:only-of-type {\n",
       "        vertical-align: middle;\n",
       "    }\n",
       "\n",
       "    .dataframe tbody tr th {\n",
       "        vertical-align: top;\n",
       "    }\n",
       "\n",
       "    .dataframe thead th {\n",
       "        text-align: right;\n",
       "    }\n",
       "</style>\n",
       "<table border=\"1\" class=\"dataframe\">\n",
       "  <thead>\n",
       "    <tr style=\"text-align: right;\">\n",
       "      <th></th>\n",
       "      <th>country</th>\n",
       "      <th>food_category</th>\n",
       "      <th>consumption</th>\n",
       "      <th>co2_emission</th>\n",
       "    </tr>\n",
       "  </thead>\n",
       "  <tbody>\n",
       "    <tr>\n",
       "      <th>55</th>\n",
       "      <td>USA</td>\n",
       "      <td>pork</td>\n",
       "      <td>27.64</td>\n",
       "      <td>97.83</td>\n",
       "    </tr>\n",
       "    <tr>\n",
       "      <th>56</th>\n",
       "      <td>USA</td>\n",
       "      <td>poultry</td>\n",
       "      <td>50.01</td>\n",
       "      <td>53.72</td>\n",
       "    </tr>\n",
       "    <tr>\n",
       "      <th>57</th>\n",
       "      <td>USA</td>\n",
       "      <td>beef</td>\n",
       "      <td>36.24</td>\n",
       "      <td>1118.29</td>\n",
       "    </tr>\n",
       "    <tr>\n",
       "      <th>58</th>\n",
       "      <td>USA</td>\n",
       "      <td>lamb_goat</td>\n",
       "      <td>0.43</td>\n",
       "      <td>15.06</td>\n",
       "    </tr>\n",
       "    <tr>\n",
       "      <th>59</th>\n",
       "      <td>USA</td>\n",
       "      <td>fish</td>\n",
       "      <td>12.35</td>\n",
       "      <td>19.72</td>\n",
       "    </tr>\n",
       "    <tr>\n",
       "      <th>60</th>\n",
       "      <td>USA</td>\n",
       "      <td>eggs</td>\n",
       "      <td>14.58</td>\n",
       "      <td>13.39</td>\n",
       "    </tr>\n",
       "    <tr>\n",
       "      <th>61</th>\n",
       "      <td>USA</td>\n",
       "      <td>dairy</td>\n",
       "      <td>254.69</td>\n",
       "      <td>362.78</td>\n",
       "    </tr>\n",
       "    <tr>\n",
       "      <th>62</th>\n",
       "      <td>USA</td>\n",
       "      <td>wheat</td>\n",
       "      <td>80.43</td>\n",
       "      <td>15.34</td>\n",
       "    </tr>\n",
       "    <tr>\n",
       "      <th>63</th>\n",
       "      <td>USA</td>\n",
       "      <td>rice</td>\n",
       "      <td>6.88</td>\n",
       "      <td>8.80</td>\n",
       "    </tr>\n",
       "    <tr>\n",
       "      <th>64</th>\n",
       "      <td>USA</td>\n",
       "      <td>soybeans</td>\n",
       "      <td>0.04</td>\n",
       "      <td>0.02</td>\n",
       "    </tr>\n",
       "    <tr>\n",
       "      <th>65</th>\n",
       "      <td>USA</td>\n",
       "      <td>nuts</td>\n",
       "      <td>7.86</td>\n",
       "      <td>13.91</td>\n",
       "    </tr>\n",
       "  </tbody>\n",
       "</table>\n",
       "</div>"
      ],
      "text/plain": [
       "   country food_category  consumption  co2_emission\n",
       "55     USA          pork        27.64         97.83\n",
       "56     USA       poultry        50.01         53.72\n",
       "57     USA          beef        36.24       1118.29\n",
       "58     USA     lamb_goat         0.43         15.06\n",
       "59     USA          fish        12.35         19.72\n",
       "60     USA          eggs        14.58         13.39\n",
       "61     USA         dairy       254.69        362.78\n",
       "62     USA         wheat        80.43         15.34\n",
       "63     USA          rice         6.88          8.80\n",
       "64     USA      soybeans         0.04          0.02\n",
       "65     USA          nuts         7.86         13.91"
      ]
     },
     "execution_count": 32,
     "metadata": {},
     "output_type": "execute_result"
    }
   ],
   "source": [
    "#Filter for USA\n",
    "usa_consumption = df[df['country'] == 'USA']\n",
    "usa_consumption"
   ]
  },
  {
   "cell_type": "code",
   "execution_count": 38,
   "id": "68feb1e2",
   "metadata": {},
   "outputs": [
    {
     "name": "stdout",
     "output_type": "stream",
     "text": [
      "Mean consumption in Belgium: 44.650000000000006\n",
      "Mean consumption in Belgium: 14.58\n"
     ]
    }
   ],
   "source": [
    "print(f\"Mean consumption in Belgium: {np.mean(usa_consumption['consumption'])}\")\n",
    "print(f\"Mean consumption in Belgium: {np.median(usa_consumption['consumption'])}\")"
   ]
  },
  {
   "cell_type": "code",
   "execution_count": null,
   "id": "74f46179",
   "metadata": {},
   "outputs": [
    {
     "data": {
      "text/plain": [
       "country\n",
       "Argentina       11\n",
       "Australia       11\n",
       "Albania         11\n",
       "Iceland         11\n",
       "New Zealand     11\n",
       "                ..\n",
       "Sierra Leone    11\n",
       "Sri Lanka       11\n",
       "Indonesia       11\n",
       "Liberia         11\n",
       "Bangladesh      11\n",
       "Name: count, Length: 130, dtype: int64"
      ]
     },
     "execution_count": 39,
     "metadata": {},
     "output_type": "execute_result"
    }
   ],
   "source": [
    "df['country'].value_counts() #counts the number of times a particular entry shows up in the country column"
   ]
  },
  {
   "cell_type": "code",
   "execution_count": 46,
   "id": "6d09470a",
   "metadata": {},
   "outputs": [
    {
     "name": "stdout",
     "output_type": "stream",
     "text": [
      "Mode Country: \n",
      "0        Albania\n",
      "1        Algeria\n",
      "2         Angola\n",
      "3      Argentina\n",
      "4        Armenia\n",
      "         ...    \n",
      "125      Uruguay\n",
      "126    Venezuela\n",
      "127      Vietnam\n",
      "128       Zambia\n",
      "129     Zimbabwe\n",
      "Name: country, Length: 130, dtype: object\n"
     ]
    }
   ],
   "source": [
    "#Checking the mode of the country column\n",
    "mode_country = df['country'].mode()\n",
    "print(f\"Mode Country: \\n{mode_country}\")"
   ]
  },
  {
   "cell_type": "markdown",
   "id": "9afae1c4",
   "metadata": {},
   "source": [
    "## Measure of Spread"
   ]
  },
  {
   "cell_type": "code",
   "execution_count": 47,
   "id": "07b9290f",
   "metadata": {},
   "outputs": [
    {
     "data": {
      "text/html": [
       "<div>\n",
       "<style scoped>\n",
       "    .dataframe tbody tr th:only-of-type {\n",
       "        vertical-align: middle;\n",
       "    }\n",
       "\n",
       "    .dataframe tbody tr th {\n",
       "        vertical-align: top;\n",
       "    }\n",
       "\n",
       "    .dataframe thead th {\n",
       "        text-align: right;\n",
       "    }\n",
       "</style>\n",
       "<table border=\"1\" class=\"dataframe\">\n",
       "  <thead>\n",
       "    <tr style=\"text-align: right;\">\n",
       "      <th></th>\n",
       "      <th>country</th>\n",
       "      <th>food_category</th>\n",
       "      <th>consumption</th>\n",
       "      <th>co2_emission</th>\n",
       "    </tr>\n",
       "  </thead>\n",
       "  <tbody>\n",
       "    <tr>\n",
       "      <th>0</th>\n",
       "      <td>Argentina</td>\n",
       "      <td>pork</td>\n",
       "      <td>10.51</td>\n",
       "      <td>37.20</td>\n",
       "    </tr>\n",
       "    <tr>\n",
       "      <th>1</th>\n",
       "      <td>Argentina</td>\n",
       "      <td>poultry</td>\n",
       "      <td>38.66</td>\n",
       "      <td>41.53</td>\n",
       "    </tr>\n",
       "    <tr>\n",
       "      <th>2</th>\n",
       "      <td>Argentina</td>\n",
       "      <td>beef</td>\n",
       "      <td>55.48</td>\n",
       "      <td>1712.00</td>\n",
       "    </tr>\n",
       "    <tr>\n",
       "      <th>3</th>\n",
       "      <td>Argentina</td>\n",
       "      <td>lamb_goat</td>\n",
       "      <td>1.56</td>\n",
       "      <td>54.63</td>\n",
       "    </tr>\n",
       "    <tr>\n",
       "      <th>4</th>\n",
       "      <td>Argentina</td>\n",
       "      <td>fish</td>\n",
       "      <td>4.36</td>\n",
       "      <td>6.96</td>\n",
       "    </tr>\n",
       "    <tr>\n",
       "      <th>...</th>\n",
       "      <td>...</td>\n",
       "      <td>...</td>\n",
       "      <td>...</td>\n",
       "      <td>...</td>\n",
       "    </tr>\n",
       "    <tr>\n",
       "      <th>1425</th>\n",
       "      <td>Bangladesh</td>\n",
       "      <td>dairy</td>\n",
       "      <td>21.91</td>\n",
       "      <td>31.21</td>\n",
       "    </tr>\n",
       "    <tr>\n",
       "      <th>1426</th>\n",
       "      <td>Bangladesh</td>\n",
       "      <td>wheat</td>\n",
       "      <td>17.47</td>\n",
       "      <td>3.33</td>\n",
       "    </tr>\n",
       "    <tr>\n",
       "      <th>1427</th>\n",
       "      <td>Bangladesh</td>\n",
       "      <td>rice</td>\n",
       "      <td>171.73</td>\n",
       "      <td>219.76</td>\n",
       "    </tr>\n",
       "    <tr>\n",
       "      <th>1428</th>\n",
       "      <td>Bangladesh</td>\n",
       "      <td>soybeans</td>\n",
       "      <td>0.61</td>\n",
       "      <td>0.27</td>\n",
       "    </tr>\n",
       "    <tr>\n",
       "      <th>1429</th>\n",
       "      <td>Bangladesh</td>\n",
       "      <td>nuts</td>\n",
       "      <td>0.72</td>\n",
       "      <td>1.27</td>\n",
       "    </tr>\n",
       "  </tbody>\n",
       "</table>\n",
       "<p>1430 rows × 4 columns</p>\n",
       "</div>"
      ],
      "text/plain": [
       "         country food_category  consumption  co2_emission\n",
       "0      Argentina          pork        10.51         37.20\n",
       "1      Argentina       poultry        38.66         41.53\n",
       "2      Argentina          beef        55.48       1712.00\n",
       "3      Argentina     lamb_goat         1.56         54.63\n",
       "4      Argentina          fish         4.36          6.96\n",
       "...          ...           ...          ...           ...\n",
       "1425  Bangladesh         dairy        21.91         31.21\n",
       "1426  Bangladesh         wheat        17.47          3.33\n",
       "1427  Bangladesh          rice       171.73        219.76\n",
       "1428  Bangladesh      soybeans         0.61          0.27\n",
       "1429  Bangladesh          nuts         0.72          1.27\n",
       "\n",
       "[1430 rows x 4 columns]"
      ]
     },
     "execution_count": 47,
     "metadata": {},
     "output_type": "execute_result"
    }
   ],
   "source": [
    "df"
   ]
  },
  {
   "cell_type": "code",
   "execution_count": null,
   "id": "0f9bfc99",
   "metadata": {},
   "outputs": [
    {
     "data": {
      "text/plain": [
       "np.float64(0.0)"
      ]
     },
     "execution_count": 48,
     "metadata": {},
     "output_type": "execute_result"
    }
   ],
   "source": [
    "co2_min = df['co2_emission'].min()\n",
    "co2_min"
   ]
  },
  {
   "cell_type": "code",
   "execution_count": 50,
   "id": "c6f70ec4",
   "metadata": {},
   "outputs": [
    {
     "data": {
      "text/plain": [
       "np.float64(1712.0)"
      ]
     },
     "execution_count": 50,
     "metadata": {},
     "output_type": "execute_result"
    }
   ],
   "source": [
    "co2_max = df[\"co2_emission\"].max()\n",
    "co2_max"
   ]
  },
  {
   "cell_type": "code",
   "execution_count": 51,
   "id": "05565bb5",
   "metadata": {},
   "outputs": [
    {
     "data": {
      "text/plain": [
       "np.float64(1712.0)"
      ]
     },
     "execution_count": 51,
     "metadata": {},
     "output_type": "execute_result"
    }
   ],
   "source": [
    "co2_range = co2_max - co2_min\n",
    "co2_range"
   ]
  },
  {
   "cell_type": "code",
   "execution_count": 54,
   "id": "f6012ec2",
   "metadata": {},
   "outputs": [
    {
     "name": "stdout",
     "output_type": "stream",
     "text": [
      "CO2 Emission variance: 23133.97363855838\n"
     ]
    }
   ],
   "source": [
    "print(f\"CO2 Emission variance: {df['co2_emission'].var()}\")"
   ]
  },
  {
   "cell_type": "code",
   "execution_count": 56,
   "id": "8b8e9b53",
   "metadata": {},
   "outputs": [
    {
     "name": "stdout",
     "output_type": "stream",
     "text": [
      "CO2 Emission standard deviation: 152.09856553747764\n"
     ]
    }
   ],
   "source": [
    "print(f\"CO2 Emission standard deviation: {df['co2_emission'].std()}\")"
   ]
  },
  {
   "cell_type": "code",
   "execution_count": 59,
   "id": "0a011f64",
   "metadata": {},
   "outputs": [
    {
     "name": "stdout",
     "output_type": "stream",
     "text": [
      "Percentiles \n",
      "0.10     0.6680\n",
      "0.25     5.2100\n",
      "0.50    16.5300\n",
      "0.75    62.5975\n",
      "Name: co2_emission, dtype: float64\n"
     ]
    }
   ],
   "source": [
    "percentiles = df['co2_emission'].quantile([0.10, 0.25, 0.50, 0.75])\n",
    "print(f\"Percentiles \\n{percentiles}\")"
   ]
  },
  {
   "cell_type": "code",
   "execution_count": 60,
   "id": "1faaac32",
   "metadata": {},
   "outputs": [
    {
     "name": "stdout",
     "output_type": "stream",
     "text": [
      "Interquartile range: 57.3875\n"
     ]
    }
   ],
   "source": [
    "iqr = percentiles[0.75] - percentiles[0.25]\n",
    "print(f\"Interquartile range: {iqr}\")"
   ]
  },
  {
   "cell_type": "code",
   "execution_count": null,
   "id": "969be549",
   "metadata": {},
   "outputs": [],
   "source": []
  },
  {
   "cell_type": "code",
   "execution_count": null,
   "id": "d29a44c7",
   "metadata": {},
   "outputs": [],
   "source": []
  },
  {
   "cell_type": "markdown",
   "id": "f46b771c",
   "metadata": {},
   "source": [
    "### One-Sample t-Test"
   ]
  },
  {
   "cell_type": "markdown",
   "id": "fbefda22",
   "metadata": {},
   "source": [
    "Question: Is the average beef consumption in Argentina significantly different from 50 kg/person/year?"
   ]
  },
  {
   "cell_type": "markdown",
   "id": "bc10ba3a",
   "metadata": {},
   "source": [
    "H₀: Mean beef consumption in Argentina = 50\n",
    "\n",
    "H₁: Mean beef consumption in Argentina ≠ 50"
   ]
  },
  {
   "cell_type": "code",
   "execution_count": 7,
   "id": "29ef90c2",
   "metadata": {},
   "outputs": [
    {
     "data": {
      "text/html": [
       "<div>\n",
       "<style scoped>\n",
       "    .dataframe tbody tr th:only-of-type {\n",
       "        vertical-align: middle;\n",
       "    }\n",
       "\n",
       "    .dataframe tbody tr th {\n",
       "        vertical-align: top;\n",
       "    }\n",
       "\n",
       "    .dataframe thead th {\n",
       "        text-align: right;\n",
       "    }\n",
       "</style>\n",
       "<table border=\"1\" class=\"dataframe\">\n",
       "  <thead>\n",
       "    <tr style=\"text-align: right;\">\n",
       "      <th></th>\n",
       "      <th>country</th>\n",
       "      <th>food_category</th>\n",
       "      <th>consumption</th>\n",
       "      <th>co2_emission</th>\n",
       "    </tr>\n",
       "  </thead>\n",
       "  <tbody>\n",
       "    <tr>\n",
       "      <th>2</th>\n",
       "      <td>Argentina</td>\n",
       "      <td>beef</td>\n",
       "      <td>55.48</td>\n",
       "      <td>1712.0</td>\n",
       "    </tr>\n",
       "  </tbody>\n",
       "</table>\n",
       "</div>"
      ],
      "text/plain": [
       "     country food_category  consumption  co2_emission\n",
       "2  Argentina          beef        55.48        1712.0"
      ]
     },
     "execution_count": 7,
     "metadata": {},
     "output_type": "execute_result"
    }
   ],
   "source": [
    "# Select Argentina beef consumption\n",
    "arg_beef = df[(df[\"country\"] == \"Argentina\") & (df[\"food_category\"]==\"beef\")]\n",
    "arg_beef"
   ]
  },
  {
   "cell_type": "code",
   "execution_count": 8,
   "id": "2237fcf6",
   "metadata": {},
   "outputs": [
    {
     "data": {
      "text/plain": [
       "np.float64(55.48)"
      ]
     },
     "execution_count": 8,
     "metadata": {},
     "output_type": "execute_result"
    }
   ],
   "source": [
    "arg_consumption_mean = arg_beef[\"consumption\"].mean()\n",
    "arg_consumption_mean"
   ]
  },
  {
   "cell_type": "code",
   "execution_count": 9,
   "id": "a3268f41",
   "metadata": {},
   "outputs": [
    {
     "data": {
      "text/plain": [
       "array([49.78683244, 51.14418023, 57.14901683, 54.36487872, 63.92082202,\n",
       "       57.48390764, 63.81002288, 57.02687252, 58.12294257, 61.76525477,\n",
       "       64.32365017, 57.75244172, 55.42299556, 55.49909865, 48.93138431,\n",
       "       58.00013515, 58.65889277, 58.77363641, 44.97764383, 55.42367453,\n",
       "       41.44858752, 53.56614902, 46.97326579, 53.35690046, 53.53583364,\n",
       "       55.15546685, 58.15161546, 56.67084759, 50.53251237, 47.58318833])"
      ]
     },
     "execution_count": 9,
     "metadata": {},
     "output_type": "execute_result"
    }
   ],
   "source": [
    "#Creating samples around the mean\n",
    "arg_beef_samples = np.random.normal(loc=arg_consumption_mean, scale=5, size=30) #creates a normal distribution of 30 numbers +-5 values around the mean\n",
    "arg_beef_samples"
   ]
  },
  {
   "cell_type": "code",
   "execution_count": 11,
   "id": "4b8da0d0",
   "metadata": {},
   "outputs": [],
   "source": [
    "#One sample test\n",
    "t_stat, p_val = stats.ttest_1samp(arg_beef_samples, 50)"
   ]
  },
  {
   "cell_type": "code",
   "execution_count": 12,
   "id": "4e593750",
   "metadata": {},
   "outputs": [
    {
     "name": "stdout",
     "output_type": "stream",
     "text": [
      "T-statistic: 4.94381393477957\n"
     ]
    }
   ],
   "source": [
    "print(f\"T-statistic: {t_stat}\")"
   ]
  },
  {
   "cell_type": "code",
   "execution_count": 13,
   "id": "620f1d01",
   "metadata": {},
   "outputs": [
    {
     "name": "stdout",
     "output_type": "stream",
     "text": [
      "P-value: 2.9653876510202786e-05\n"
     ]
    }
   ],
   "source": [
    "print(f\"P-value: {p_val}\")"
   ]
  },
  {
   "cell_type": "markdown",
   "id": "a92cc248",
   "metadata": {},
   "source": [
    "## Correlation Analysis"
   ]
  },
  {
   "cell_type": "markdown",
   "id": "0713c4e2",
   "metadata": {},
   "source": [
    "since p< 0.05, H₀ will be rejected, where H₀ → beef consumption differs significantly"
   ]
  },
  {
   "cell_type": "markdown",
   "id": "567ecc60",
   "metadata": {},
   "source": [
    "Is there a relationship between food consumption and CO₂ emissions?\n",
    "H₀: No correlation between consumption and CO₂ emission\n",
    "H₁: There is a relationship correlation"
   ]
  },
  {
   "cell_type": "code",
   "execution_count": 14,
   "id": "1c8de605",
   "metadata": {},
   "outputs": [],
   "source": [
    "corr, p_val = stats.pearsonr(df['consumption'], df[\"co2_emission\"])"
   ]
  },
  {
   "cell_type": "code",
   "execution_count": 15,
   "id": "d98936cc",
   "metadata": {},
   "outputs": [
    {
     "name": "stdout",
     "output_type": "stream",
     "text": [
      "Coorelatioin Coefficient: 0.334250704433365\n"
     ]
    }
   ],
   "source": [
    "print(f\"Coorelatioin Coefficient: {corr}\")"
   ]
  },
  {
   "cell_type": "code",
   "execution_count": 16,
   "id": "e7e41d21",
   "metadata": {},
   "outputs": [
    {
     "name": "stdout",
     "output_type": "stream",
     "text": [
      "P-Value: 1.1519382934888456e-38\n"
     ]
    }
   ],
   "source": [
    "print(f\"P-Value: {p_val}\")"
   ]
  },
  {
   "cell_type": "markdown",
   "id": "4d06ce71",
   "metadata": {},
   "source": [
    "Correlation coefficient (r):\n",
    "close to zero: no relation"
   ]
  },
  {
   "cell_type": "code",
   "execution_count": 17,
   "id": "e22389ba",
   "metadata": {},
   "outputs": [
    {
     "data": {
      "image/png": "[encoded data removed]",
      "text/plain": [
       "<Figure size 800x600 with 1 Axes>"
      ]
     },
     "metadata": {},
     "output_type": "display_data"
    }
   ],
   "source": [
    "plt.figure(figsize=(8,6))\n",
    "sns.scatterplot(x=\"consumption\", y=\"co2_emission\", data=df)\n",
    "plt.title(\"Consumptoin vs CO₂ Emission\")\n",
    "plt.show()"
   ]
  },
  {
   "cell_type": "markdown",
   "id": "74a16322",
   "metadata": {},
   "source": [
    "Is the beef consumption in Argentina significantly different from that in Bangladesh?\n",
    "\n",
    "H₀: Mean beef consumption (Argentina) = Mean beef consumption (Bangladesh)\n",
    "\n",
    "H₁: Mean beef consumption (Argentina) ≠ Mean beef consumption (Bangladesh)"
   ]
  },
  {
   "cell_type": "code",
   "execution_count": 18,
   "id": "f7326bc0",
   "metadata": {},
   "outputs": [
    {
     "data": {
      "text/html": [
       "<div>\n",
       "<style scoped>\n",
       "    .dataframe tbody tr th:only-of-type {\n",
       "        vertical-align: middle;\n",
       "    }\n",
       "\n",
       "    .dataframe tbody tr th {\n",
       "        vertical-align: top;\n",
       "    }\n",
       "\n",
       "    .dataframe thead th {\n",
       "        text-align: right;\n",
       "    }\n",
       "</style>\n",
       "<table border=\"1\" class=\"dataframe\">\n",
       "  <thead>\n",
       "    <tr style=\"text-align: right;\">\n",
       "      <th></th>\n",
       "      <th>country</th>\n",
       "      <th>food_category</th>\n",
       "      <th>consumption</th>\n",
       "      <th>co2_emission</th>\n",
       "    </tr>\n",
       "  </thead>\n",
       "  <tbody>\n",
       "    <tr>\n",
       "      <th>1421</th>\n",
       "      <td>Bangladesh</td>\n",
       "      <td>beef</td>\n",
       "      <td>1.28</td>\n",
       "      <td>39.5</td>\n",
       "    </tr>\n",
       "  </tbody>\n",
       "</table>\n",
       "</div>"
      ],
      "text/plain": [
       "         country food_category  consumption  co2_emission\n",
       "1421  Bangladesh          beef         1.28          39.5"
      ]
     },
     "execution_count": 18,
     "metadata": {},
     "output_type": "execute_result"
    }
   ],
   "source": [
    "bang_beef = df[(df[\"country\"] == \"Bangladesh\") & (df[\"food_category\"]==\"beef\")]\n",
    "bang_beef"
   ]
  },
  {
   "cell_type": "code",
   "execution_count": 19,
   "id": "be20bf22",
   "metadata": {},
   "outputs": [
    {
     "name": "stdout",
     "output_type": "stream",
     "text": [
      "Average beef consumption in Bangledesh: 1.28\n"
     ]
    }
   ],
   "source": [
    "bang_beef_mean = bang_beef[\"consumption\"].mean()\n",
    "print(f\"Average beef consumption in Bangledesh: {bang_beef_mean}\")"
   ]
  },
  {
   "cell_type": "code",
   "execution_count": 20,
   "id": "b81e0bb7",
   "metadata": {},
   "outputs": [
    {
     "data": {
      "text/plain": [
       "array([12.64362473,  0.36013127,  1.31810711, -0.15221269,  2.75382231,\n",
       "        1.09315238,  2.19860655,  1.99640772, -9.15218599,  3.15080655,\n",
       "        2.408306  ,  4.56080094, -4.64668886,  7.50390924, -6.68716157,\n",
       "        2.51398552, -2.92094929,  2.67611867, -4.67828792, -1.14564078,\n",
       "        1.96717882,  3.68952703,  5.56280299,  2.52589358,  4.66478918,\n",
       "        4.61887559, -3.50762334, -4.64992993,  0.32384549,  4.50779655])"
      ]
     },
     "execution_count": 20,
     "metadata": {},
     "output_type": "execute_result"
    }
   ],
   "source": [
    "#Creating samples\n",
    "bang_beef_samples = np.random.normal(loc=bang_beef_mean, scale=5, size=30)\n",
    "bang_beef_samples"
   ]
  },
  {
   "cell_type": "markdown",
   "id": "b391ca50",
   "metadata": {},
   "source": [
    "### Perforimng a two-tailed test"
   ]
  },
  {
   "cell_type": "code",
   "execution_count": 21,
   "id": "fd467270",
   "metadata": {},
   "outputs": [],
   "source": [
    "# Performing a two tailed test\n",
    "t_statistic, p_val = stats.ttest_ind(bang_beef_samples, arg_beef_samples, alternative='two-sided')"
   ]
  },
  {
   "cell_type": "code",
   "execution_count": 22,
   "id": "5dcc0915",
   "metadata": {},
   "outputs": [
    {
     "name": "stdout",
     "output_type": "stream",
     "text": [
      "T Statistic: -41.53310142708694 \n",
      "P-value: 7.608965888915228e-45\n"
     ]
    }
   ],
   "source": [
    "print(f\"T Statistic: {t_statistic} \\nP-value: {p_val}\")"
   ]
  },
  {
   "cell_type": "code",
   "execution_count": 23,
   "id": "f426195a",
   "metadata": {},
   "outputs": [
    {
     "data": {
      "text/plain": [
       "np.float64(2.0452296421327034)"
      ]
     },
     "execution_count": 23,
     "metadata": {},
     "output_type": "execute_result"
    }
   ],
   "source": [
    "critic=stats.t.isf(0.05/2,29)\n",
    "critic"
   ]
  },
  {
   "cell_type": "markdown",
   "id": "09228116",
   "metadata": {},
   "source": [
    "From the two-tailed test, the absolute value of the t-statitics (40.163) > critical value (2.0452), therefore, the null hypothesis can be rejected and we can conclude that there is a significant difference between the mean beef consumption in Bangladesh and the mean beef consumption in Argentina"
   ]
  },
  {
   "cell_type": "markdown",
   "id": "370c2db6",
   "metadata": {},
   "source": [
    "### Performing Correlation Analysis"
   ]
  },
  {
   "cell_type": "code",
   "execution_count": 24,
   "id": "c4f2db4f",
   "metadata": {},
   "outputs": [],
   "source": [
    "#Checking the linear relationship\n",
    "corr, p_val = stats.pearsonr(bang_beef_samples, arg_beef_samples)"
   ]
  },
  {
   "cell_type": "code",
   "execution_count": 25,
   "id": "c315786d",
   "metadata": {},
   "outputs": [
    {
     "name": "stdout",
     "output_type": "stream",
     "text": [
      "Correlation Coefficient: -0.0419886899607557\n"
     ]
    }
   ],
   "source": [
    "print(f\"Correlation Coefficient: {corr}\")"
   ]
  },
  {
   "cell_type": "markdown",
   "id": "00ebd49c",
   "metadata": {},
   "source": [
    "Since correlation coefficient (r) is approximately -0.312, this indicates a weak negative linear relationship between the mean beef consumption in Argnetina and mean beef consumption in Argentina"
   ]
  },
  {
   "cell_type": "code",
   "execution_count": 26,
   "id": "df4daaf9",
   "metadata": {},
   "outputs": [
    {
     "name": "stdout",
     "output_type": "stream",
     "text": [
      "P-values: 0.8256327090616904\n"
     ]
    }
   ],
   "source": [
    "print(f\"P-values: {p_val}\")"
   ]
  },
  {
   "cell_type": "markdown",
   "id": "54ea5783",
   "metadata": {},
   "source": [
    "Since the p_value < 0.05 H₀ can be rejected, therefore, the beef consumption in Argentina is significantly different from the beef consumption in Bangladesh."
   ]
  },
  {
   "cell_type": "code",
   "execution_count": 27,
   "id": "4af7a65c",
   "metadata": {},
   "outputs": [
    {
     "data": {
      "image/png": "[encoded data removed]",
      "text/plain": [
       "<Figure size 800x600 with 1 Axes>"
      ]
     },
     "metadata": {},
     "output_type": "display_data"
    }
   ],
   "source": [
    "plt.figure(figsize=(8,6))\n",
    "sns.scatterplot(x=bang_beef_samples, y=arg_beef_samples)\n",
    "plt.title(\"Mean beef consumption in Argentina vs Bangladesh\")\n",
    "plt.show()"
   ]
  }
 ],
 "metadata": {
  "kernelspec": {
   "display_name": "intro_to_numpy (3.13.7)",
   "language": "python",
   "name": "python3"
  },
  "language_info": {
   "codemirror_mode": {
    "name": "ipython",
    "version": 3
   },
   "file_extension": ".py",
   "mimetype": "text/x-python",
   "name": "python",
   "nbconvert_exporter": "python",
   "pygments_lexer": "ipython3",
   "version": "3.13.7"
  }
 },
 "nbformat": 4,
 "nbformat_minor": 5
}
