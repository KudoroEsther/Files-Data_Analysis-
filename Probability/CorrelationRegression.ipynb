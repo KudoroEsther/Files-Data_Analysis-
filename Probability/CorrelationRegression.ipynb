{
 "cells": [
  {
   "cell_type": "markdown",
   "id": "8f5c7824",
   "metadata": {},
   "source": [
    "# Correlation in codes"
   ]
  },
  {
   "cell_type": "code",
   "execution_count": 1,
   "id": "58f35cd0",
   "metadata": {},
   "outputs": [],
   "source": [
    "import pandas as pandas\n",
    "import numpy as np\n",
    "import matplotlib.pyplot as plt\n",
    "import seaborn as sns\n",
    "\n",
    "#Setting seed for reproducibilit\n",
    "np.random.seed(234)"
   ]
  }
 ],
 "metadata": {
  "kernelspec": {
   "display_name": "intro_to_numpy (3.13.7)",
   "language": "python",
   "name": "python3"
  },
  "language_info": {
   "codemirror_mode": {
    "name": "ipython",
    "version": 3
   },
   "file_extension": ".py",
   "mimetype": "text/x-python",
   "name": "python",
   "nbconvert_exporter": "python",
   "pygments_lexer": "ipython3",
   "version": "3.13.7"
  }
 },
 "nbformat": 4,
 "nbformat_minor": 5
}
