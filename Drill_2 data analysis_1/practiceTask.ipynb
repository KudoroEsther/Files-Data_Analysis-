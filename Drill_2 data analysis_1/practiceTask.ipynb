{
 "cells": [
  {
   "cell_type": "markdown",
   "id": "418968b2",
   "metadata": {},
   "source": [
    "## Basic Data Exploration"
   ]
  },
  {
   "cell_type": "code",
   "execution_count": 2,
   "id": "2a8d83a5",
   "metadata": {},
   "outputs": [],
   "source": [
    "import pandas as pd\n",
    "import numpy as np\n",
    "import os"
   ]
  },
  {
   "cell_type": "code",
   "execution_count": 3,
   "id": "a52b6bef",
   "metadata": {},
   "outputs": [],
   "source": [
    "data = pd.read_csv(\"student.csv\")"
   ]
  },
  {
   "cell_type": "code",
   "execution_count": 4,
   "id": "6e381a55",
   "metadata": {},
   "outputs": [
    {
     "data": {
      "text/html": [
       "<div>\n",
       "<style scoped>\n",
       "    .dataframe tbody tr th:only-of-type {\n",
       "        vertical-align: middle;\n",
       "    }\n",
       "\n",
       "    .dataframe tbody tr th {\n",
       "        vertical-align: top;\n",
       "    }\n",
       "\n",
       "    .dataframe thead th {\n",
       "        text-align: right;\n",
       "    }\n",
       "</style>\n",
       "<table border=\"1\" class=\"dataframe\">\n",
       "  <thead>\n",
       "    <tr style=\"text-align: right;\">\n",
       "      <th></th>\n",
       "      <th>Unnamed: 0</th>\n",
       "      <th>Student_ID</th>\n",
       "      <th>Learning_Track</th>\n",
       "      <th>Study_Hours_Per_Week</th>\n",
       "      <th>Performance_Score</th>\n",
       "      <th>Projects_Completed</th>\n",
       "      <th>Age</th>\n",
       "      <th>Prior_Programming_Experience_Yrs</th>\n",
       "      <th>Online_Courses_Completed</th>\n",
       "    </tr>\n",
       "  </thead>\n",
       "  <tbody>\n",
       "    <tr>\n",
       "      <th>0</th>\n",
       "      <td>0</td>\n",
       "      <td>AIE_2024000</td>\n",
       "      <td>Traditional</td>\n",
       "      <td>95.058535</td>\n",
       "      <td>92.514050</td>\n",
       "      <td>12.0</td>\n",
       "      <td>30</td>\n",
       "      <td>0.131237</td>\n",
       "      <td>0</td>\n",
       "    </tr>\n",
       "    <tr>\n",
       "      <th>1</th>\n",
       "      <td>1</td>\n",
       "      <td>AIE_2024001</td>\n",
       "      <td>Accelerated</td>\n",
       "      <td>37.186831</td>\n",
       "      <td>70.156243</td>\n",
       "      <td>12.0</td>\n",
       "      <td>30</td>\n",
       "      <td>1.863695</td>\n",
       "      <td>3</td>\n",
       "    </tr>\n",
       "    <tr>\n",
       "      <th>2</th>\n",
       "      <td>2</td>\n",
       "      <td>AIE_2024002</td>\n",
       "      <td>Accelerated</td>\n",
       "      <td>38.323140</td>\n",
       "      <td>NaN</td>\n",
       "      <td>12.0</td>\n",
       "      <td>32</td>\n",
       "      <td>3.071151</td>\n",
       "      <td>8</td>\n",
       "    </tr>\n",
       "    <tr>\n",
       "      <th>3</th>\n",
       "      <td>3</td>\n",
       "      <td>AIE_2024003</td>\n",
       "      <td>Traditional</td>\n",
       "      <td>27.881352</td>\n",
       "      <td>90.623192</td>\n",
       "      <td>10.0</td>\n",
       "      <td>28</td>\n",
       "      <td>0.298920</td>\n",
       "      <td>2</td>\n",
       "    </tr>\n",
       "    <tr>\n",
       "      <th>4</th>\n",
       "      <td>4</td>\n",
       "      <td>AIE_2024004</td>\n",
       "      <td>Traditional</td>\n",
       "      <td>24.498567</td>\n",
       "      <td>81.461708</td>\n",
       "      <td>4.0</td>\n",
       "      <td>30</td>\n",
       "      <td>0.775986</td>\n",
       "      <td>1</td>\n",
       "    </tr>\n",
       "    <tr>\n",
       "      <th>5</th>\n",
       "      <td>5</td>\n",
       "      <td>AIE_2024005</td>\n",
       "      <td>Traditional</td>\n",
       "      <td>25.980044</td>\n",
       "      <td>93.681531</td>\n",
       "      <td>2.0</td>\n",
       "      <td>31</td>\n",
       "      <td>1.241782</td>\n",
       "      <td>1</td>\n",
       "    </tr>\n",
       "    <tr>\n",
       "      <th>6</th>\n",
       "      <td>6</td>\n",
       "      <td>AIE_2024006</td>\n",
       "      <td>Traditional</td>\n",
       "      <td>92.883167</td>\n",
       "      <td>58.144770</td>\n",
       "      <td>8.0</td>\n",
       "      <td>30</td>\n",
       "      <td>1.306246</td>\n",
       "      <td>5</td>\n",
       "    </tr>\n",
       "    <tr>\n",
       "      <th>7</th>\n",
       "      <td>7</td>\n",
       "      <td>AIE_2024007</td>\n",
       "      <td>Accelerated</td>\n",
       "      <td>42.114543</td>\n",
       "      <td>-7.746672</td>\n",
       "      <td>13.0</td>\n",
       "      <td>26</td>\n",
       "      <td>0.167271</td>\n",
       "      <td>3</td>\n",
       "    </tr>\n",
       "    <tr>\n",
       "      <th>8</th>\n",
       "      <td>8</td>\n",
       "      <td>AIE_2024008</td>\n",
       "      <td>Accelerated</td>\n",
       "      <td>38.902533</td>\n",
       "      <td>74.150912</td>\n",
       "      <td>16.0</td>\n",
       "      <td>23</td>\n",
       "      <td>6.883668</td>\n",
       "      <td>4</td>\n",
       "    </tr>\n",
       "    <tr>\n",
       "      <th>9</th>\n",
       "      <td>9</td>\n",
       "      <td>AIE_2024009</td>\n",
       "      <td>Accelerated</td>\n",
       "      <td>32.865274</td>\n",
       "      <td>76.385080</td>\n",
       "      <td>10.0</td>\n",
       "      <td>26</td>\n",
       "      <td>2.856132</td>\n",
       "      <td>3</td>\n",
       "    </tr>\n",
       "  </tbody>\n",
       "</table>\n",
       "</div>"
      ],
      "text/plain": [
       "   Unnamed: 0   Student_ID Learning_Track  Study_Hours_Per_Week  \\\n",
       "0           0  AIE_2024000    Traditional             95.058535   \n",
       "1           1  AIE_2024001    Accelerated             37.186831   \n",
       "2           2  AIE_2024002    Accelerated             38.323140   \n",
       "3           3  AIE_2024003    Traditional             27.881352   \n",
       "4           4  AIE_2024004    Traditional             24.498567   \n",
       "5           5  AIE_2024005    Traditional             25.980044   \n",
       "6           6  AIE_2024006    Traditional             92.883167   \n",
       "7           7  AIE_2024007    Accelerated             42.114543   \n",
       "8           8  AIE_2024008    Accelerated             38.902533   \n",
       "9           9  AIE_2024009    Accelerated             32.865274   \n",
       "\n",
       "   Performance_Score  Projects_Completed  Age  \\\n",
       "0          92.514050                12.0   30   \n",
       "1          70.156243                12.0   30   \n",
       "2                NaN                12.0   32   \n",
       "3          90.623192                10.0   28   \n",
       "4          81.461708                 4.0   30   \n",
       "5          93.681531                 2.0   31   \n",
       "6          58.144770                 8.0   30   \n",
       "7          -7.746672                13.0   26   \n",
       "8          74.150912                16.0   23   \n",
       "9          76.385080                10.0   26   \n",
       "\n",
       "   Prior_Programming_Experience_Yrs  Online_Courses_Completed  \n",
       "0                          0.131237                         0  \n",
       "1                          1.863695                         3  \n",
       "2                          3.071151                         8  \n",
       "3                          0.298920                         2  \n",
       "4                          0.775986                         1  \n",
       "5                          1.241782                         1  \n",
       "6                          1.306246                         5  \n",
       "7                          0.167271                         3  \n",
       "8                          6.883668                         4  \n",
       "9                          2.856132                         3  "
      ]
     },
     "execution_count": 4,
     "metadata": {},
     "output_type": "execute_result"
    }
   ],
   "source": [
    "data.head(10)"
   ]
  },
  {
   "cell_type": "code",
   "execution_count": 5,
   "id": "0bdf0f0d",
   "metadata": {},
   "outputs": [
    {
     "name": "stdout",
     "output_type": "stream",
     "text": [
      "<class 'pandas.core.frame.DataFrame'>\n",
      "RangeIndex: 500 entries, 0 to 499\n",
      "Data columns (total 9 columns):\n",
      " #   Column                            Non-Null Count  Dtype  \n",
      "---  ------                            --------------  -----  \n",
      " 0   Unnamed: 0                        500 non-null    int64  \n",
      " 1   Student_ID                        500 non-null    object \n",
      " 2   Learning_Track                    500 non-null    object \n",
      " 3   Study_Hours_Per_Week              474 non-null    float64\n",
      " 4   Performance_Score                 481 non-null    float64\n",
      " 5   Projects_Completed                483 non-null    float64\n",
      " 6   Age                               500 non-null    int64  \n",
      " 7   Prior_Programming_Experience_Yrs  500 non-null    float64\n",
      " 8   Online_Courses_Completed          500 non-null    int64  \n",
      "dtypes: float64(4), int64(3), object(2)\n",
      "memory usage: 35.3+ KB\n"
     ]
    }
   ],
   "source": [
    "data.info()"
   ]
  },
  {
   "cell_type": "code",
   "execution_count": 6,
   "id": "483c17fe",
   "metadata": {},
   "outputs": [
    {
     "data": {
      "text/html": [
       "<div>\n",
       "<style scoped>\n",
       "    .dataframe tbody tr th:only-of-type {\n",
       "        vertical-align: middle;\n",
       "    }\n",
       "\n",
       "    .dataframe tbody tr th {\n",
       "        vertical-align: top;\n",
       "    }\n",
       "\n",
       "    .dataframe thead th {\n",
       "        text-align: right;\n",
       "    }\n",
       "</style>\n",
       "<table border=\"1\" class=\"dataframe\">\n",
       "  <thead>\n",
       "    <tr style=\"text-align: right;\">\n",
       "      <th></th>\n",
       "      <th>Unnamed: 0</th>\n",
       "      <th>Study_Hours_Per_Week</th>\n",
       "      <th>Performance_Score</th>\n",
       "      <th>Projects_Completed</th>\n",
       "      <th>Age</th>\n",
       "      <th>Prior_Programming_Experience_Yrs</th>\n",
       "      <th>Online_Courses_Completed</th>\n",
       "    </tr>\n",
       "  </thead>\n",
       "  <tbody>\n",
       "    <tr>\n",
       "      <th>count</th>\n",
       "      <td>500.000000</td>\n",
       "      <td>474.000000</td>\n",
       "      <td>481.000000</td>\n",
       "      <td>483.000000</td>\n",
       "      <td>500.000000</td>\n",
       "      <td>500.000000</td>\n",
       "      <td>500.000000</td>\n",
       "    </tr>\n",
       "    <tr>\n",
       "      <th>mean</th>\n",
       "      <td>249.500000</td>\n",
       "      <td>31.929978</td>\n",
       "      <td>72.497669</td>\n",
       "      <td>11.014493</td>\n",
       "      <td>26.434000</td>\n",
       "      <td>1.788520</td>\n",
       "      <td>2.938000</td>\n",
       "    </tr>\n",
       "    <tr>\n",
       "      <th>std</th>\n",
       "      <td>144.481833</td>\n",
       "      <td>19.432986</td>\n",
       "      <td>18.055057</td>\n",
       "      <td>7.399520</td>\n",
       "      <td>4.874954</td>\n",
       "      <td>1.867475</td>\n",
       "      <td>1.655184</td>\n",
       "    </tr>\n",
       "    <tr>\n",
       "      <th>min</th>\n",
       "      <td>0.000000</td>\n",
       "      <td>0.000000</td>\n",
       "      <td>-9.276106</td>\n",
       "      <td>1.000000</td>\n",
       "      <td>18.000000</td>\n",
       "      <td>0.002475</td>\n",
       "      <td>0.000000</td>\n",
       "    </tr>\n",
       "    <tr>\n",
       "      <th>25%</th>\n",
       "      <td>124.750000</td>\n",
       "      <td>22.046598</td>\n",
       "      <td>64.687299</td>\n",
       "      <td>7.000000</td>\n",
       "      <td>22.000000</td>\n",
       "      <td>0.495720</td>\n",
       "      <td>2.000000</td>\n",
       "    </tr>\n",
       "    <tr>\n",
       "      <th>50%</th>\n",
       "      <td>249.500000</td>\n",
       "      <td>27.706396</td>\n",
       "      <td>73.583514</td>\n",
       "      <td>10.000000</td>\n",
       "      <td>26.000000</td>\n",
       "      <td>1.227495</td>\n",
       "      <td>3.000000</td>\n",
       "    </tr>\n",
       "    <tr>\n",
       "      <th>75%</th>\n",
       "      <td>374.250000</td>\n",
       "      <td>37.092870</td>\n",
       "      <td>82.721726</td>\n",
       "      <td>12.000000</td>\n",
       "      <td>31.000000</td>\n",
       "      <td>2.423013</td>\n",
       "      <td>4.000000</td>\n",
       "    </tr>\n",
       "    <tr>\n",
       "      <th>max</th>\n",
       "      <td>499.000000</td>\n",
       "      <td>118.414671</td>\n",
       "      <td>118.863496</td>\n",
       "      <td>49.000000</td>\n",
       "      <td>34.000000</td>\n",
       "      <td>11.775799</td>\n",
       "      <td>11.000000</td>\n",
       "    </tr>\n",
       "  </tbody>\n",
       "</table>\n",
       "</div>"
      ],
      "text/plain": [
       "       Unnamed: 0  Study_Hours_Per_Week  Performance_Score  \\\n",
       "count  500.000000            474.000000         481.000000   \n",
       "mean   249.500000             31.929978          72.497669   \n",
       "std    144.481833             19.432986          18.055057   \n",
       "min      0.000000              0.000000          -9.276106   \n",
       "25%    124.750000             22.046598          64.687299   \n",
       "50%    249.500000             27.706396          73.583514   \n",
       "75%    374.250000             37.092870          82.721726   \n",
       "max    499.000000            118.414671         118.863496   \n",
       "\n",
       "       Projects_Completed         Age  Prior_Programming_Experience_Yrs  \\\n",
       "count          483.000000  500.000000                        500.000000   \n",
       "mean            11.014493   26.434000                          1.788520   \n",
       "std              7.399520    4.874954                          1.867475   \n",
       "min              1.000000   18.000000                          0.002475   \n",
       "25%              7.000000   22.000000                          0.495720   \n",
       "50%             10.000000   26.000000                          1.227495   \n",
       "75%             12.000000   31.000000                          2.423013   \n",
       "max             49.000000   34.000000                         11.775799   \n",
       "\n",
       "       Online_Courses_Completed  \n",
       "count                500.000000  \n",
       "mean                   2.938000  \n",
       "std                    1.655184  \n",
       "min                    0.000000  \n",
       "25%                    2.000000  \n",
       "50%                    3.000000  \n",
       "75%                    4.000000  \n",
       "max                   11.000000  "
      ]
     },
     "execution_count": 6,
     "metadata": {},
     "output_type": "execute_result"
    }
   ],
   "source": [
    "data.describe()"
   ]
  },
  {
   "cell_type": "code",
   "execution_count": 7,
   "id": "a4c075ee",
   "metadata": {},
   "outputs": [
    {
     "data": {
      "text/plain": [
       "Index(['Unnamed: 0', 'Student_ID', 'Learning_Track', 'Study_Hours_Per_Week',\n",
       "       'Performance_Score', 'Projects_Completed', 'Age',\n",
       "       'Prior_Programming_Experience_Yrs', 'Online_Courses_Completed'],\n",
       "      dtype='object')"
      ]
     },
     "execution_count": 7,
     "metadata": {},
     "output_type": "execute_result"
    }
   ],
   "source": [
    "data.columns"
   ]
  },
  {
   "cell_type": "code",
   "execution_count": null,
   "id": "36e4e69a",
   "metadata": {},
   "outputs": [],
   "source": [
    "# data.drop('Unnamed: 0', axis=1, inplace= True)"
   ]
  },
  {
   "cell_type": "code",
   "execution_count": 9,
   "id": "aae5b9d5",
   "metadata": {},
   "outputs": [
    {
     "data": {
      "text/plain": [
       "Index(['Unnamed: 0', 'Student_ID', 'Learning_Track', 'Study_Hours_Per_Week',\n",
       "       'Performance_Score', 'Projects_Completed', 'Age',\n",
       "       'Prior_Programming_Experience_Yrs', 'Online_Courses_Completed'],\n",
       "      dtype='object')"
      ]
     },
     "execution_count": 9,
     "metadata": {},
     "output_type": "execute_result"
    }
   ],
   "source": [
    "data.columns"
   ]
  },
  {
   "cell_type": "code",
   "execution_count": 10,
   "id": "eee80ce8",
   "metadata": {},
   "outputs": [
    {
     "data": {
      "text/plain": [
       "Learning_Track\n",
       "Accelerated    207\n",
       "Traditional    293\n",
       "Name: Student_ID, dtype: int64"
      ]
     },
     "execution_count": 10,
     "metadata": {},
     "output_type": "execute_result"
    }
   ],
   "source": [
    "#Number of students in each learning track\n",
    "data.groupby(\"Learning_Track\")['Student_ID'].nunique()"
   ]
  },
  {
   "cell_type": "code",
   "execution_count": 28,
   "id": "442b50d0",
   "metadata": {},
   "outputs": [
    {
     "data": {
      "text/plain": [
       "Student_ID                          0\n",
       "Learning_Track                      0\n",
       "Study_Hours_Per_Week                0\n",
       "Performance_Score                   0\n",
       "Projects_Completed                  0\n",
       "Age                                 0\n",
       "Prior_Programming_Experience_Yrs    0\n",
       "Online_Courses_Completed            0\n",
       "dtype: int64"
      ]
     },
     "execution_count": 28,
     "metadata": {},
     "output_type": "execute_result"
    }
   ],
   "source": [
    "data.isna().sum()"
   ]
  },
  {
   "cell_type": "code",
   "execution_count": 29,
   "id": "9b5a2b53",
   "metadata": {},
   "outputs": [
    {
     "data": {
      "text/plain": [
       "Student_ID                           object\n",
       "Learning_Track                       object\n",
       "Study_Hours_Per_Week                float64\n",
       "Performance_Score                   float64\n",
       "Projects_Completed                  float64\n",
       "Age                                   int64\n",
       "Prior_Programming_Experience_Yrs    float64\n",
       "Online_Courses_Completed              int64\n",
       "dtype: object"
      ]
     },
     "execution_count": 29,
     "metadata": {},
     "output_type": "execute_result"
    }
   ],
   "source": [
    "data.dtypes"
   ]
  },
  {
   "cell_type": "code",
   "execution_count": 13,
   "id": "867fc523",
   "metadata": {},
   "outputs": [
    {
     "name": "stderr",
     "output_type": "stream",
     "text": [
      "C:\\Users\\owner\\AppData\\Local\\Temp\\ipykernel_2068\\765200214.py:1: FutureWarning: A value is trying to be set on a copy of a DataFrame or Series through chained assignment using an inplace method.\n",
      "The behavior will change in pandas 3.0. This inplace method will never work because the intermediate object on which we are setting values always behaves as a copy.\n",
      "\n",
      "For example, when doing 'df[col].method(value, inplace=True)', try using 'df.method({col: value}, inplace=True)' or df[col] = df[col].method(value) instead, to perform the operation inplace on the original object.\n",
      "\n",
      "\n",
      "  data['Study_Hours_Per_Week'].fillna(data['Study_Hours_Per_Week'].mean(), inplace=True )\n"
     ]
    }
   ],
   "source": [
    "data['Study_Hours_Per_Week'].fillna(data['Study_Hours_Per_Week'].mean(), inplace=True )"
   ]
  },
  {
   "cell_type": "code",
   "execution_count": 16,
   "id": "48a7f754",
   "metadata": {},
   "outputs": [
    {
     "name": "stderr",
     "output_type": "stream",
     "text": [
      "C:\\Users\\owner\\AppData\\Local\\Temp\\ipykernel_2068\\23995210.py:1: FutureWarning: A value is trying to be set on a copy of a DataFrame or Series through chained assignment using an inplace method.\n",
      "The behavior will change in pandas 3.0. This inplace method will never work because the intermediate object on which we are setting values always behaves as a copy.\n",
      "\n",
      "For example, when doing 'df[col].method(value, inplace=True)', try using 'df.method({col: value}, inplace=True)' or df[col] = df[col].method(value) instead, to perform the operation inplace on the original object.\n",
      "\n",
      "\n",
      "  data['Performance_Score'].fillna(np.mean(data['Performance_Score']), inplace=True)\n"
     ]
    }
   ],
   "source": [
    "data['Performance_Score'].fillna(np.mean(data['Performance_Score']), inplace=True)\n"
   ]
  },
  {
   "cell_type": "code",
   "execution_count": 18,
   "id": "262dbdd6",
   "metadata": {},
   "outputs": [
    {
     "name": "stderr",
     "output_type": "stream",
     "text": [
      "C:\\Users\\owner\\AppData\\Local\\Temp\\ipykernel_2068\\3197425202.py:1: FutureWarning: A value is trying to be set on a copy of a DataFrame or Series through chained assignment using an inplace method.\n",
      "The behavior will change in pandas 3.0. This inplace method will never work because the intermediate object on which we are setting values always behaves as a copy.\n",
      "\n",
      "For example, when doing 'df[col].method(value, inplace=True)', try using 'df.method({col: value}, inplace=True)' or df[col] = df[col].method(value) instead, to perform the operation inplace on the original object.\n",
      "\n",
      "\n",
      "  data['Projects_Completed'].fillna(np.mean(data['Projects_Completed']), inplace=True)\n"
     ]
    }
   ],
   "source": [
    "data['Projects_Completed'].fillna(np.mean(data['Projects_Completed']), inplace=True)\n"
   ]
  },
  {
   "cell_type": "code",
   "execution_count": 30,
   "id": "f8a24902",
   "metadata": {},
   "outputs": [
    {
     "data": {
      "text/plain": [
       "Student_ID                          0\n",
       "Learning_Track                      0\n",
       "Study_Hours_Per_Week                0\n",
       "Performance_Score                   0\n",
       "Projects_Completed                  0\n",
       "Age                                 0\n",
       "Prior_Programming_Experience_Yrs    0\n",
       "Online_Courses_Completed            0\n",
       "dtype: int64"
      ]
     },
     "execution_count": 30,
     "metadata": {},
     "output_type": "execute_result"
    }
   ],
   "source": [
    "data.isna().sum()"
   ]
  },
  {
   "cell_type": "code",
   "execution_count": 34,
   "id": "af806565",
   "metadata": {},
   "outputs": [
    {
     "data": {
      "text/html": [
       "<div>\n",
       "<style scoped>\n",
       "    .dataframe tbody tr th:only-of-type {\n",
       "        vertical-align: middle;\n",
       "    }\n",
       "\n",
       "    .dataframe tbody tr th {\n",
       "        vertical-align: top;\n",
       "    }\n",
       "\n",
       "    .dataframe thead th {\n",
       "        text-align: right;\n",
       "    }\n",
       "</style>\n",
       "<table border=\"1\" class=\"dataframe\">\n",
       "  <thead>\n",
       "    <tr style=\"text-align: right;\">\n",
       "      <th></th>\n",
       "      <th>Study_Hours_Per_Week</th>\n",
       "      <th>Performance_Score</th>\n",
       "      <th>Projects_Completed</th>\n",
       "      <th>Age</th>\n",
       "      <th>Prior_Programming_Experience_Yrs</th>\n",
       "      <th>Online_Courses_Completed</th>\n",
       "    </tr>\n",
       "  </thead>\n",
       "  <tbody>\n",
       "    <tr>\n",
       "      <th>count</th>\n",
       "      <td>500.000000</td>\n",
       "      <td>500.000000</td>\n",
       "      <td>500.000000</td>\n",
       "      <td>500.000000</td>\n",
       "      <td>500.000000</td>\n",
       "      <td>500.000000</td>\n",
       "    </tr>\n",
       "    <tr>\n",
       "      <th>mean</th>\n",
       "      <td>31.929978</td>\n",
       "      <td>72.497669</td>\n",
       "      <td>11.014493</td>\n",
       "      <td>26.434000</td>\n",
       "      <td>1.788520</td>\n",
       "      <td>2.938000</td>\n",
       "    </tr>\n",
       "    <tr>\n",
       "      <th>std</th>\n",
       "      <td>18.919944</td>\n",
       "      <td>17.707988</td>\n",
       "      <td>7.272384</td>\n",
       "      <td>4.874954</td>\n",
       "      <td>1.867475</td>\n",
       "      <td>1.655184</td>\n",
       "    </tr>\n",
       "    <tr>\n",
       "      <th>min</th>\n",
       "      <td>0.000000</td>\n",
       "      <td>-9.276106</td>\n",
       "      <td>1.000000</td>\n",
       "      <td>18.000000</td>\n",
       "      <td>0.002475</td>\n",
       "      <td>0.000000</td>\n",
       "    </tr>\n",
       "    <tr>\n",
       "      <th>25%</th>\n",
       "      <td>22.400790</td>\n",
       "      <td>65.175823</td>\n",
       "      <td>7.000000</td>\n",
       "      <td>22.000000</td>\n",
       "      <td>0.495720</td>\n",
       "      <td>2.000000</td>\n",
       "    </tr>\n",
       "    <tr>\n",
       "      <th>50%</th>\n",
       "      <td>28.771184</td>\n",
       "      <td>73.029570</td>\n",
       "      <td>10.000000</td>\n",
       "      <td>26.000000</td>\n",
       "      <td>1.227495</td>\n",
       "      <td>3.000000</td>\n",
       "    </tr>\n",
       "    <tr>\n",
       "      <th>75%</th>\n",
       "      <td>36.383680</td>\n",
       "      <td>82.173420</td>\n",
       "      <td>12.000000</td>\n",
       "      <td>31.000000</td>\n",
       "      <td>2.423013</td>\n",
       "      <td>4.000000</td>\n",
       "    </tr>\n",
       "    <tr>\n",
       "      <th>max</th>\n",
       "      <td>118.414671</td>\n",
       "      <td>118.863496</td>\n",
       "      <td>49.000000</td>\n",
       "      <td>34.000000</td>\n",
       "      <td>11.775799</td>\n",
       "      <td>11.000000</td>\n",
       "    </tr>\n",
       "  </tbody>\n",
       "</table>\n",
       "</div>"
      ],
      "text/plain": [
       "       Study_Hours_Per_Week  Performance_Score  Projects_Completed  \\\n",
       "count            500.000000         500.000000          500.000000   \n",
       "mean              31.929978          72.497669           11.014493   \n",
       "std               18.919944          17.707988            7.272384   \n",
       "min                0.000000          -9.276106            1.000000   \n",
       "25%               22.400790          65.175823            7.000000   \n",
       "50%               28.771184          73.029570           10.000000   \n",
       "75%               36.383680          82.173420           12.000000   \n",
       "max              118.414671         118.863496           49.000000   \n",
       "\n",
       "              Age  Prior_Programming_Experience_Yrs  Online_Courses_Completed  \n",
       "count  500.000000                        500.000000                500.000000  \n",
       "mean    26.434000                          1.788520                  2.938000  \n",
       "std      4.874954                          1.867475                  1.655184  \n",
       "min     18.000000                          0.002475                  0.000000  \n",
       "25%     22.000000                          0.495720                  2.000000  \n",
       "50%     26.000000                          1.227495                  3.000000  \n",
       "75%     31.000000                          2.423013                  4.000000  \n",
       "max     34.000000                         11.775799                 11.000000  "
      ]
     },
     "execution_count": 34,
     "metadata": {},
     "output_type": "execute_result"
    }
   ],
   "source": [
    "data.describe()"
   ]
  },
  {
   "cell_type": "code",
   "execution_count": 23,
   "id": "b2aecef0",
   "metadata": {},
   "outputs": [
    {
     "name": "stdout",
     "output_type": "stream",
     "text": [
      "Average study hours: 31.9 hours\n"
     ]
    }
   ],
   "source": [
    "average = np.mean(data['Study_Hours_Per_Week'])\n",
    "print(f'Average study hours: {average:.1f} hours')"
   ]
  },
  {
   "cell_type": "code",
   "execution_count": null,
   "id": "c640d54f",
   "metadata": {},
   "outputs": [
    {
     "ename": "KeyError",
     "evalue": "'Column not found: 90'",
     "output_type": "error",
     "traceback": [
      "\u001b[31m---------------------------------------------------------------------------\u001b[39m",
      "\u001b[31mKeyError\u001b[39m                                  Traceback (most recent call last)",
      "\u001b[36mCell\u001b[39m\u001b[36m \u001b[39m\u001b[32mIn[45]\u001b[39m\u001b[32m, line 1\u001b[39m\n\u001b[32m----> \u001b[39m\u001b[32m1\u001b[39m \u001b[43mdata\u001b[49m\u001b[43m.\u001b[49m\u001b[43mgroupby\u001b[49m\u001b[43m(\u001b[49m\u001b[33;43m'\u001b[39;49m\u001b[33;43mStudent_ID\u001b[39;49m\u001b[33;43m'\u001b[39;49m\u001b[43m)\u001b[49m\u001b[43m[\u001b[49m\u001b[43m(\u001b[49m\u001b[43mdata\u001b[49m\u001b[43m[\u001b[49m\u001b[33;43m'\u001b[39;49m\u001b[33;43mPrior_Programming_Experience_Yrs\u001b[39;49m\u001b[33;43m'\u001b[39;49m\u001b[43m]\u001b[49m\u001b[43m>\u001b[49m\u001b[32;43m3\u001b[39;49m\u001b[43m)\u001b[49m\u001b[43m.\u001b[49m\u001b[43msum\u001b[49m\u001b[43m(\u001b[49m\u001b[43m)\u001b[49m\u001b[43m]\u001b[49m\n",
      "\u001b[36mFile \u001b[39m\u001b[32mc:\\Users\\owner\\OneDrive\\Desktop\\Files-Data_Analysis-\\PandasVirtual\\Lib\\site-packages\\pandas\\core\\groupby\\generic.py:1951\u001b[39m, in \u001b[36mDataFrameGroupBy.__getitem__\u001b[39m\u001b[34m(self, key)\u001b[39m\n\u001b[32m   1944\u001b[39m \u001b[38;5;28;01mif\u001b[39;00m \u001b[38;5;28misinstance\u001b[39m(key, \u001b[38;5;28mtuple\u001b[39m) \u001b[38;5;129;01mand\u001b[39;00m \u001b[38;5;28mlen\u001b[39m(key) > \u001b[32m1\u001b[39m:\n\u001b[32m   1945\u001b[39m     \u001b[38;5;66;03m# if len == 1, then it becomes a SeriesGroupBy and this is actually\u001b[39;00m\n\u001b[32m   1946\u001b[39m     \u001b[38;5;66;03m# valid syntax, so don't raise\u001b[39;00m\n\u001b[32m   1947\u001b[39m     \u001b[38;5;28;01mraise\u001b[39;00m \u001b[38;5;167;01mValueError\u001b[39;00m(\n\u001b[32m   1948\u001b[39m         \u001b[33m\"\u001b[39m\u001b[33mCannot subset columns with a tuple with more than one element. \u001b[39m\u001b[33m\"\u001b[39m\n\u001b[32m   1949\u001b[39m         \u001b[33m\"\u001b[39m\u001b[33mUse a list instead.\u001b[39m\u001b[33m\"\u001b[39m\n\u001b[32m   1950\u001b[39m     )\n\u001b[32m-> \u001b[39m\u001b[32m1951\u001b[39m \u001b[38;5;28;01mreturn\u001b[39;00m \u001b[38;5;28;43msuper\u001b[39;49m\u001b[43m(\u001b[49m\u001b[43m)\u001b[49m\u001b[43m.\u001b[49m\u001b[34;43m__getitem__\u001b[39;49m\u001b[43m(\u001b[49m\u001b[43mkey\u001b[49m\u001b[43m)\u001b[49m\n",
      "\u001b[36mFile \u001b[39m\u001b[32mc:\\Users\\owner\\OneDrive\\Desktop\\Files-Data_Analysis-\\PandasVirtual\\Lib\\site-packages\\pandas\\core\\base.py:245\u001b[39m, in \u001b[36mSelectionMixin.__getitem__\u001b[39m\u001b[34m(self, key)\u001b[39m\n\u001b[32m    243\u001b[39m \u001b[38;5;28;01melse\u001b[39;00m:\n\u001b[32m    244\u001b[39m     \u001b[38;5;28;01mif\u001b[39;00m key \u001b[38;5;129;01mnot\u001b[39;00m \u001b[38;5;129;01min\u001b[39;00m \u001b[38;5;28mself\u001b[39m.obj:\n\u001b[32m--> \u001b[39m\u001b[32m245\u001b[39m         \u001b[38;5;28;01mraise\u001b[39;00m \u001b[38;5;167;01mKeyError\u001b[39;00m(\u001b[33mf\u001b[39m\u001b[33m\"\u001b[39m\u001b[33mColumn not found: \u001b[39m\u001b[38;5;132;01m{\u001b[39;00mkey\u001b[38;5;132;01m}\u001b[39;00m\u001b[33m\"\u001b[39m)\n\u001b[32m    246\u001b[39m     ndim = \u001b[38;5;28mself\u001b[39m.obj[key].ndim\n\u001b[32m    247\u001b[39m     \u001b[38;5;28;01mreturn\u001b[39;00m \u001b[38;5;28mself\u001b[39m._gotitem(key, ndim=ndim)\n",
      "\u001b[31mKeyError\u001b[39m: 'Column not found: 90'"
     ]
    }
   ],
   "source": [
    "# data.groupby('Student_ID')[(data['Prior_Programming_Experience_Yrs']>3).sum()]"
   ]
  }
 ],
 "metadata": {
  "kernelspec": {
   "display_name": "PandasVirtual",
   "language": "python",
   "name": "python3"
  },
  "language_info": {
   "codemirror_mode": {
    "name": "ipython",
    "version": 3
   },
   "file_extension": ".py",
   "mimetype": "text/x-python",
   "name": "python",
   "nbconvert_exporter": "python",
   "pygments_lexer": "ipython3",
   "version": "3.13.6"
  }
 },
 "nbformat": 4,
 "nbformat_minor": 5
}
