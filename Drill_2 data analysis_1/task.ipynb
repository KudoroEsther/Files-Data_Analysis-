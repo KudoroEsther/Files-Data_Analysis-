{
 "cells": [
  {
   "cell_type": "markdown",
   "id": "54a644dc",
   "metadata": {},
   "source": [
    "# Drill 2: Data analysis"
   ]
  },
  {
   "cell_type": "markdown",
   "id": "1f111f1f",
   "metadata": {},
   "source": [
    "## Level 1: Basic Data Exploration (Questions 1-15)\n",
    "\n",
    "1. Load and display the first 10 records of the dataset\n",
    "\n",
    "2. Display the basic information about the dataset using info() method\n",
    "\n",
    "3. Show the statistical summary using describe() for numerical columns\n",
    "\n",
    "4. Count the number of students in each Learning Track\n",
    "\n",
    "5. Check for missing values in each column\n",
    "\n",
    "6. Display the data types of each column\n",
    "\n",
    "7. Calculate the average Study_Hours_Per_Week for the entire dataset\n",
    "\n",
    "8. Find the maximum and minimum Performance_Score\n",
    "\n",
    "9. Count how many students have prior programming experience more than 3 years\n",
    "\n",
    "10. Display unique values in the Learning_Track column\n",
    "\n",
    "11. Calculate the correlation between Study_Hours_Per_Week and Performance_Score\n",
    "\n",
    "12. Show the distribution of Ages using value counts\n",
    "\n",
    "13. Find the most common number of Online_Courses_Completed\n",
    "\n",
    "14. Display students who have completed more than 15 projects\n",
    "\n",
    "15. Calculate the percentage of missing values in each column\n",
    "\n"
   ]
  },
  {
   "cell_type": "markdown",
   "id": "e3245d08",
   "metadata": {},
   "source": [
    "## Level 2: Data Cleaning & Preprocessing (Questions 16-30)\n",
    "\n",
    "16. Handle missing values in Study_Hours_Per_Week by filling with track-specific median\n",
    "\n",
    "17. Clip Performance_Score to realistic range (0-100) using np.clip() \n",
    "\n",
    "18. Remove extreme values from Study_Hours_Per_Week by clipping between 10-60 hours\n",
    "\n",
    "19. Handle Projects_Completed outliers by capping at 1-25 range\n",
    "\n",
    "20. Create a new column 'Experience_Level' based on Prior_Programming_Experience_Yrs (Beginner: 0-1, Intermediate: 1-3, Advanced: 3+ years)\n",
    "\n",
    "21. Standardize the Learning_Track column to ensure consistent capitalization\n",
    "\n",
    "22. Remove duplicate rows if any exist\n",
    "\n",
    "23. Convert data types appropriately (e.g., Projects_Completed to int)\n",
    "\n",
    "24. Handle missing values in Performance_Score using forward fill method\n",
    "\n",
    "25. Create a new feature 'Productivity_Score' as Performance_Score per study hour\n",
    "\n",
    "26. Detect and handle outliers in Age column using IQR method \n",
    "\n",
    "27. Normalize the Online_Courses_Completed column using Min-Max scaling\n",
    "\n",
    "28. Label encode the Learning_Track column for machine learning readiness \n",
    "\n",
    "29. Create a boolean column 'High_Performer' (Performance_Score > 80)\n",
    "\n",
    "30. Validate that all data cleaning operations have been applied correctly\n",
    "\n"
   ]
  },
  {
   "cell_type": "markdown",
   "id": "1b166bbc",
   "metadata": {},
   "source": [
    "## Level 3: Data Analysis & Visualization (Questions 31-40)\n",
    "\n",
    "31. Compare average Performance_Score between Learning Tracks using groupby\n",
    "\n",
    "32. Create a histogram showing distribution of Study_Hours_Per_Week\n",
    "\n",
    "33. Generate a boxplot showing Performance_Score by Learning_Track\n",
    "\n",
    "34. Create a scatter plot between Study_Hours_Per_Week and Performance_Score\n",
    "\n",
    "35. Calculate and visualize correlation matrix heatmap\n",
    "\n",
    "36. Compare Projects_Completed distribution between tracks using violin plots\n",
    "\n",
    "37. Analyze how Prior_Programming_Experience affects Performance_Score\n",
    "\n",
    "38. Create a bar chart showing average performance by Experience_Level\n",
    "\n",
    "39. Generate a pivot table showing mean study hours by track and experience level\n",
    "\n",
    "40. Create a pairplot for all numerical variables\n",
    "\n"
   ]
  }
 ],
 "metadata": {
  "language_info": {
   "name": "python"
  }
 },
 "nbformat": 4,
 "nbformat_minor": 5
}
