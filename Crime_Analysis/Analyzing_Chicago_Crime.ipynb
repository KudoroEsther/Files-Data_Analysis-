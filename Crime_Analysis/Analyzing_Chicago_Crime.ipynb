{
 "cells": [
  {
   "cell_type": "markdown",
   "id": "05e49b74",
   "metadata": {},
   "source": [
    "# Analyzing Chicago Crime"
   ]
  },
  {
   "cell_type": "code",
   "execution_count": 1,
   "id": "c2b438d1",
   "metadata": {},
   "outputs": [],
   "source": [
    "import gdown"
   ]
  },
  {
   "cell_type": "code",
   "execution_count": null,
   "id": "89b6c63d",
   "metadata": {},
   "outputs": [],
   "source": [
    "url = \"https://drive.google.com/file/d/1daS25XdX4s7fn7b2GEEme7iDBeN4c9E_/view?usp=drive_link\"\n",
    "id = \"1daS25XdX4s7fn7b2GEEme7iDBeN4c9E_\""
   ]
  },
  {
   "cell_type": "markdown",
   "id": "ec2bf91c",
   "metadata": {},
   "source": [
    "## Dataset Setup and Loading"
   ]
  },
  {
   "cell_type": "code",
   "execution_count": 2,
   "id": "91f6ee16",
   "metadata": {},
   "outputs": [],
   "source": [
    "#Importing the necessary libraries\n",
    "\n",
    "#libraries for data wrangling\n",
    "import pandas as pd\n",
    "import numpy as np\n",
    "\n",
    "#libraries for visualization\n",
    "import matplotlib.pyplot as plt\n",
    "# import seaborn as sns\n",
    "\n",
    "#libraries for time\n",
    "from datetime import datetime, timedelta\n",
    "\n",
    "#ignore warnings\n",
    "import warnings\n",
    "warnings.filterwarnings('ignore')\n",
    "\n",
    "#set up views\n",
    "pd.set_option('display.max_columns', None)\n",
    "pd.set_option('display.width', 1000)"
   ]
  },
  {
   "cell_type": "code",
   "execution_count": 6,
   "id": "e355076d",
   "metadata": {},
   "outputs": [],
   "source": [
    "#Loading the data\n",
    "\n",
    "#Couldn't load due to low memory\n",
    "data_path = r\"archive.zip\"\n",
    "# df = pd.read_csv(data_path, low_memory=True, compression='zip') #how to load zipped csv files\n",
    "# df.tail()"
   ]
  },
  {
   "cell_type": "code",
   "execution_count": null,
   "id": "49049350",
   "metadata": {},
   "outputs": [],
   "source": [
    "# Writing a function to load the full dataset or just specified samples\n",
    "\n",
    "def load_chicago_crime_data(data_path, sample_size=None):\n",
    "    \"\"\"\n",
    "    Optimized loading function for Chicago crime data\n",
    "    \"\"\"\n",
    "    #Defining data types to reduce memory usage\n",
    "    dtype_dict = {\n",
    "        \"ID\": \"Int32\",\n",
    "        \"Case Number\": \"string\",\n",
    "        \"IUCR\": \"category\",\n",
    "        'Description': 'category',\n",
    "        'Location Description': 'category',\n",
    "        'Arrest': 'bool',\n",
    "        'Domestic': 'bool',\n",
    "        'Beat': 'Int16',\n",
    "        'District': 'Int8',\n",
    "        'Ward': 'Int8',\n",
    "        'Community Area': 'Int8',\n",
    "        'FBI Code': 'category',\n",
    "        'X Coordinate': 'float32',\n",
    "        'Y Coordinate': 'float32',\n",
    "        'Latitude': 'float32',\n",
    "        'Longitude': 'float32'\n",
    "    }\n",
    "\n",
    "    #parse dates during loading\n",
    "    date_cols = [\"Date\", \"Updated On\"]"
   ]
  }
 ],
 "metadata": {
  "kernelspec": {
   "display_name": "Pandass",
   "language": "python",
   "name": "python3"
  },
  "language_info": {
   "codemirror_mode": {
    "name": "ipython",
    "version": 3
   },
   "file_extension": ".py",
   "mimetype": "text/x-python",
   "name": "python",
   "nbconvert_exporter": "python",
   "pygments_lexer": "ipython3",
   "version": "3.13.6"
  }
 },
 "nbformat": 4,
 "nbformat_minor": 5
}
