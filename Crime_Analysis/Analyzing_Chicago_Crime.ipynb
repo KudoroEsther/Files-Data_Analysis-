{
 "cells": [
  {
   "cell_type": "markdown",
   "id": "05e49b74",
   "metadata": {},
   "source": [
    "# Analyzing Chicago Crime"
   ]
  },
  {
   "cell_type": "code",
   "execution_count": 1,
   "id": "c2b438d1",
   "metadata": {},
   "outputs": [],
   "source": [
    "import gdown"
   ]
  },
  {
   "cell_type": "code",
   "execution_count": null,
   "id": "89b6c63d",
   "metadata": {},
   "outputs": [],
   "source": [
    "url = \"https://drive.google.com/file/d/1daS25XdX4s7fn7b2GEEme7iDBeN4c9E_/view?usp=drive_link\"\n",
    "id = \"1daS25XdX4s7fn7b2GEEme7iDBeN4c9E_\""
   ]
  }
 ],
 "metadata": {
  "kernelspec": {
   "display_name": "PandasVirtual",
   "language": "python",
   "name": "python3"
  },
  "language_info": {
   "codemirror_mode": {
    "name": "ipython",
    "version": 3
   },
   "file_extension": ".py",
   "mimetype": "text/x-python",
   "name": "python",
   "nbconvert_exporter": "python",
   "pygments_lexer": "ipython3",
   "version": "3.13.6"
  }
 },
 "nbformat": 4,
 "nbformat_minor": 5
}
