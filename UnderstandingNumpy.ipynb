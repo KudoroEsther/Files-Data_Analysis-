{
 "cells": [
  {
   "cell_type": "markdown",
   "id": "57da2695",
   "metadata": {},
   "source": [
    "# Understanding Numpy"
   ]
  },
  {
   "cell_type": "code",
   "execution_count": 10,
   "id": "28499a12",
   "metadata": {},
   "outputs": [
    {
     "name": "stdout",
     "output_type": "stream",
     "text": [
      "Numpy version: 2.3.2\n"
     ]
    }
   ],
   "source": [
    "#importing all necessary libraries\n",
    "import numpy as np\n",
    "import matplotlib.pyplot as plt\n",
    "import time\n",
    "\n",
    "#Checking numpy version\n",
    "print(f\"Numpy version: {np.__version__}\")\n",
    "\n",
    "#Display settings for cleaner output\n",
    "#the print options make arrays display more readable by limiting decimal places\n",
    "np.set_printoptions(precision=3, suppress=True)"
   ]
  },
  {
   "cell_type": "markdown",
   "id": "aff092b9",
   "metadata": {},
   "source": [
    "### Creating Numpy Arrays"
   ]
  },
  {
   "cell_type": "code",
   "execution_count": 11,
   "id": "3f777df6",
   "metadata": {},
   "outputs": [
    {
     "name": "stdout",
     "output_type": "stream",
     "text": [
      "1D array: [1 2 3 4]\n",
      "2D array:\n",
      " [[1 2]\n",
      " [3 4]]\n",
      "2D array:\n",
      "[[[1 2]\n",
      "  [3 4]]\n",
      "\n",
      " [[5 6]\n",
      "  [7 8]]]\n"
     ]
    }
   ],
   "source": [
    "#CREATING ARRAYS FROM PYTHON LISTS\n",
    "#1D array: a simple sequence of numbers\n",
    "array_1D = np.array([1,2,3,4])\n",
    "\n",
    "#2D array: this a matrix or a table with rows and columns\n",
    "array_2D = np.array([[1,2], [3,4]])\n",
    "\n",
    "#3D array: is like a stack of 2D arrays, they're useful for images, time series, etc.\n",
    "array_3D = np.array([[[1,2], [3,4]],\n",
    "                     [[5,6], [7,8]]])\n",
    "\n",
    "print(f\"1D array: {array_1D}\")\n",
    "print(f\"2D array:\\n {array_2D}\")\n",
    "print(f\"2D array:\\n{array_3D}\")"
   ]
  },
  {
   "cell_type": "markdown",
   "id": "1f049ec7",
   "metadata": {},
   "source": [
    "### Creating special arrays in numpy"
   ]
  },
  {
   "cell_type": "code",
   "execution_count": null,
   "id": "962face6",
   "metadata": {},
   "outputs": [
    {
     "name": "stdout",
     "output_type": "stream",
     "text": [
      "[[0. 0.]\n",
      " [0. 0.]]\n"
     ]
    }
   ],
   "source": [
    "# Creating arrays filled with zeros, this is used for initializin arrays\n",
    "#this creates a 3x4 matrix filled with zeros\n",
    "zeros = np.zeros((3,4))\n",
    "\n",
    "#Creating arrays filled with ones, this is often used as starting points \n",
    "#this creates a 3x4 3D matrix with two layers\n",
    "ones = np.ones((2,3,4))\n",
    "\n",
    "#empty array: this is faster than zeros/ones, it fills a matrix with random values\n",
    "#this fills a 2x2 matrix with random values\n",
    "emptyy = np.empty((2,2))\n",
    "\n",
    "print(emptyy)\n",
    "# print(ones)\n",
    "# print(zeros)\n"
   ]
  },
  {
   "cell_type": "code",
   "execution_count": 24,
   "id": "bb1308e9",
   "metadata": {},
   "outputs": [
    {
     "name": "stdout",
     "output_type": "stream",
     "text": [
      "Range array: [0 2 4 6 8]\n",
      "Linspace array: [0.   0.25 0.5  0.75 1.  ]\n",
      "[ 1.     1.585  2.512  3.981  6.31  10.   ]\n"
     ]
    }
   ],
   "source": [
    "#Range arrays\n",
    "range_arr = np.arange(0,10,2) #start,stop,step\n",
    "print(f\"Range array: {range_arr}\")\n",
    "\n",
    "#Linearly spaced arrays, this divides a range into equal parts\n",
    "#this divides the values between zero and one into 5 equal parts\n",
    "linspace_arr = np.linspace(0,1,5)\n",
    "print(f\"Linspace array: {linspace_arr}\")\n",
    "\n",
    "#Logarithmically spaced arrays, this is useful for scientific data\n",
    "logspace_arr = np.logspace(0, 1, 6)\n",
    "print(logspace_arr)"
   ]
  },
  {
   "cell_type": "code",
   "execution_count": 29,
   "id": "02d3d50d",
   "metadata": {},
   "outputs": [
    {
     "name": "stdout",
     "output_type": "stream",
     "text": [
      "[[1. 0. 0. 0.]\n",
      " [0. 1. 0. 0.]\n",
      " [0. 0. 1. 0.]\n",
      " [0. 0. 0. 1.]]\n",
      "Diagonal matrix: \n",
      "[[1 0 0 0]\n",
      " [0 2 0 0]\n",
      " [0 0 3 0]\n",
      " [0 0 0 4]]\n",
      "Full array (filled with 7): \n",
      "[[7 7 7]\n",
      " [7 7 7]\n",
      " [7 7 7]]\n"
     ]
    }
   ],
   "source": [
    "#Identity matrix: diagnoal of ones, zeros elsewhere. This is essential for linear algebra operations\n",
    "identity = np.eye(4) #this creates a 4x4 identity matrix\n",
    "\n",
    "#Diagonal matrix: this puts values on the diagonal\n",
    "diagonal = np.diag([1,2,3,4])\n",
    "\n",
    "#Array filled with specific values\n",
    "full_arr = np.full((3,3), 7) #fills a 3x3 matrix with 7s\n",
    "print(identity)\n",
    "print(f\"Diagonal matrix: \\n{diagonal}\")\n",
    "print(f\"Full array (filled with 7): \\n{full_arr}\")"
   ]
  }
 ],
 "metadata": {
  "kernelspec": {
   "display_name": "intro_to_numpy (3.13.7)",
   "language": "python",
   "name": "python3"
  },
  "language_info": {
   "codemirror_mode": {
    "name": "ipython",
    "version": 3
   },
   "file_extension": ".py",
   "mimetype": "text/x-python",
   "name": "python",
   "nbconvert_exporter": "python",
   "pygments_lexer": "ipython3",
   "version": "3.13.7"
  }
 },
 "nbformat": 4,
 "nbformat_minor": 5
}
