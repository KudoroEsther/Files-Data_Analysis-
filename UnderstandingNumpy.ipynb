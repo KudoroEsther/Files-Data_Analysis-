{
 "cells": [
  {
   "cell_type": "markdown",
   "id": "57da2695",
   "metadata": {},
   "source": [
    "# Understanding Numpy"
   ]
  },
  {
   "cell_type": "code",
   "execution_count": 2,
   "id": "28499a12",
   "metadata": {},
   "outputs": [
    {
     "name": "stdout",
     "output_type": "stream",
     "text": [
      "Numpy version: 2.3.2\n"
     ]
    }
   ],
   "source": [
    "#importing all necessary libraries\n",
    "import numpy as np\n",
    "import matplotlib.pyplot as plt\n",
    "import time\n",
    "\n",
    "#Checking numpy version\n",
    "print(f\"Numpy version: {np.__version__}\")\n",
    "\n",
    "#Display settings for cleaner output\n",
    "#the print options make arrays display more readable by limiting decimal places\n",
    "np.set_printoptions(precision=3, suppress=True)"
   ]
  },
  {
   "cell_type": "markdown",
   "id": "aff092b9",
   "metadata": {},
   "source": [
    "### Creating Numpy Arrays"
   ]
  },
  {
   "cell_type": "code",
   "execution_count": 11,
   "id": "3f777df6",
   "metadata": {},
   "outputs": [
    {
     "name": "stdout",
     "output_type": "stream",
     "text": [
      "1D array: [1 2 3 4]\n",
      "2D array:\n",
      " [[1 2]\n",
      " [3 4]]\n",
      "2D array:\n",
      "[[[1 2]\n",
      "  [3 4]]\n",
      "\n",
      " [[5 6]\n",
      "  [7 8]]]\n"
     ]
    }
   ],
   "source": [
    "#CREATING ARRAYS FROM PYTHON LISTS\n",
    "#1D array: a simple sequence of numbers\n",
    "array_1D = np.array([1,2,3,4])\n",
    "\n",
    "#2D array: this a matrix or a table with rows and columns\n",
    "array_2D = np.array([[1,2], [3,4]])\n",
    "\n",
    "#3D array: is like a stack of 2D arrays, they're useful for images, time series, etc.\n",
    "array_3D = np.array([[[1,2], [3,4]],\n",
    "                     [[5,6], [7,8]]])\n",
    "\n",
    "print(f\"1D array: {array_1D}\")\n",
    "print(f\"2D array:\\n {array_2D}\")\n",
    "print(f\"2D array:\\n{array_3D}\")"
   ]
  },
  {
   "cell_type": "markdown",
   "id": "1f049ec7",
   "metadata": {},
   "source": [
    "### Creating special arrays in numpy"
   ]
  },
  {
   "cell_type": "code",
   "execution_count": null,
   "id": "962face6",
   "metadata": {},
   "outputs": [
    {
     "name": "stdout",
     "output_type": "stream",
     "text": [
      "[[0. 0.]\n",
      " [0. 0.]]\n"
     ]
    }
   ],
   "source": [
    "# Creating arrays filled with zeros, this is used for initializin arrays\n",
    "#this creates a 3x4 matrix filled with zeros\n",
    "zeros = np.zeros((3,4))\n",
    "\n",
    "#Creating arrays filled with ones, this is often used as starting points \n",
    "#this creates a 3x4 3D matrix with two layers\n",
    "ones = np.ones((2,3,4))\n",
    "\n",
    "#empty array: this is faster than zeros/ones, it fills a matrix with random values\n",
    "#this fills a 2x2 matrix with random values\n",
    "emptyy = np.empty((2,2))\n",
    "\n",
    "print(emptyy)\n",
    "# print(ones)\n",
    "# print(zeros)\n"
   ]
  },
  {
   "cell_type": "code",
   "execution_count": 24,
   "id": "bb1308e9",
   "metadata": {},
   "outputs": [
    {
     "name": "stdout",
     "output_type": "stream",
     "text": [
      "Range array: [0 2 4 6 8]\n",
      "Linspace array: [0.   0.25 0.5  0.75 1.  ]\n",
      "[ 1.     1.585  2.512  3.981  6.31  10.   ]\n"
     ]
    }
   ],
   "source": [
    "#Range arrays\n",
    "range_arr = np.arange(0,10,2) #start,stop,step\n",
    "print(f\"Range array: {range_arr}\")\n",
    "\n",
    "#Linearly spaced arrays, this divides a range into equal parts\n",
    "#this divides the values between zero and one into 5 equal parts\n",
    "linspace_arr = np.linspace(0,1,5)\n",
    "print(f\"Linspace array: {linspace_arr}\")\n",
    "\n",
    "#Logarithmically spaced arrays, this is useful for scientific data\n",
    "logspace_arr = np.logspace(0, 1, 6)\n",
    "print(logspace_arr)"
   ]
  },
  {
   "cell_type": "code",
   "execution_count": 29,
   "id": "02d3d50d",
   "metadata": {},
   "outputs": [
    {
     "name": "stdout",
     "output_type": "stream",
     "text": [
      "[[1. 0. 0. 0.]\n",
      " [0. 1. 0. 0.]\n",
      " [0. 0. 1. 0.]\n",
      " [0. 0. 0. 1.]]\n",
      "Diagonal matrix: \n",
      "[[1 0 0 0]\n",
      " [0 2 0 0]\n",
      " [0 0 3 0]\n",
      " [0 0 0 4]]\n",
      "Full array (filled with 7): \n",
      "[[7 7 7]\n",
      " [7 7 7]\n",
      " [7 7 7]]\n"
     ]
    }
   ],
   "source": [
    "#Identity matrix: diagnoal of ones, zeros elsewhere. This is essential for linear algebra operations\n",
    "identity = np.eye(4) #this creates a 4x4 identity matrix\n",
    "\n",
    "#Diagonal matrix: this puts values on the diagonal\n",
    "diagonal = np.diag([1,2,3,4])\n",
    "\n",
    "#Array filled with specific values\n",
    "full_arr = np.full((3,3), 7) #fills a 3x3 matrix with 7s\n",
    "print(identity)\n",
    "print(f\"Diagonal matrix: \\n{diagonal}\")\n",
    "print(f\"Full array (filled with 7): \\n{full_arr}\")"
   ]
  },
  {
   "cell_type": "markdown",
   "id": "d73f9382",
   "metadata": {},
   "source": [
    "### Numpy Data Types"
   ]
  },
  {
   "cell_type": "code",
   "execution_count": 39,
   "id": "5abcfdda",
   "metadata": {},
   "outputs": [
    {
     "name": "stdout",
     "output_type": "stream",
     "text": [
      "int32\n",
      "Float array dtype: float64\n",
      "Boolean array data type: bool\n",
      "Converted array dtype: float32\n",
      "int32 uses 4 bytes per element\n",
      "float64 uses 8 bytes per element\n"
     ]
    }
   ],
   "source": [
    "#Explicit data types: controls memory usage and precision\n",
    "int_arr = np.array([1,2,3], dtype=np.int32) #this sets the data type to int32\n",
    "float_arr = np.array([1,2,3], dtype=np.float64) #this sets the data type to float64\n",
    "bool_arr = np.array([True, False, True], dtype=np.bool_)\n",
    "\n",
    "#Type conversion\n",
    "converted = int_arr.astype(np.float32) #converts the int data type to float32\n",
    "\n",
    "print(int_arr.dtype)\n",
    "print(f\"Float array dtype: {float_arr.dtype}\")\n",
    "print(f\"Boolean array data type: {bool_arr.dtype}\")\n",
    "print(f\"Converted array dtype: {converted.dtype}\")\n",
    "\n",
    "#Memory usage comparison\n",
    "print(f\"int32 uses {int_arr.itemsize} bytes per element\")\n",
    "print(f\"float64 uses {float_arr.itemsize} bytes per element\")"
   ]
  },
  {
   "cell_type": "markdown",
   "id": "e4cb94f2",
   "metadata": {},
   "source": [
    "### Array Properties and Atrributes"
   ]
  },
  {
   "cell_type": "code",
   "execution_count": 11,
   "id": "7d7e6681",
   "metadata": {},
   "outputs": [
    {
     "name": "stdout",
     "output_type": "stream",
     "text": [
      "Shape: (3, 4, 5)\n",
      "Size 60\n",
      "Ndim: 3\n",
      "Dtype: float64\n",
      "Itemsize: 8\n",
      "Memory usage: 480 bytes.\n",
      "Memory usage: 0.46875 kilobytes.\n"
     ]
    }
   ],
   "source": [
    "#Create  sample 3D array for demonstration\n",
    "#this creates a 3 layered 3D array of 4x5 matrix containing random numbers\n",
    "arr = np.random.randn(3,4,5)\n",
    "\n",
    "#Shape: the dimensions of the array (layers, row, columns)\n",
    "print(f\"Shape: {arr.shape}\")\n",
    "\n",
    "#Size: gives the total number of elements (3x4x5 = 60)\n",
    "print(f\"Size {arr.size}\")\n",
    "\n",
    "#Ndim: Number of dimensions (in this case: 3D)\n",
    "print(f\"Ndim: {arr.ndim}\")\n",
    "\n",
    "#Dtype: Data types of elements\n",
    "print(f\"Dtype: {arr.dtype}\")\n",
    "\n",
    "#Itemsize: fives the memory size of each element in bytes\n",
    "print(f\"Itemsize: {arr.itemsize}\") #each element has 8 bytes\n",
    "\n",
    "#Total memory usage in bytes\n",
    "print(f\"Memory usage: {arr.nbytes} bytes.\")\n",
    "print(f\"Memory usage: {arr.nbytes/1024} kilobytes.\") #converting to KB\n",
    "# print(arr)"
   ]
  },
  {
   "cell_type": "markdown",
   "id": "85f7602f",
   "metadata": {},
   "source": [
    "### Array Indexing and Slicing\n",
    "#### Basic indexing: accessing individual elements"
   ]
  },
  {
   "cell_type": "code",
   "execution_count": 15,
   "id": "b20c37da",
   "metadata": {},
   "outputs": [
    {
     "name": "stdout",
     "output_type": "stream",
     "text": [
      "First element: 10\n",
      "Last element: 50\n",
      "Slice [1:4] [20 30 40]\n",
      "Every 2nd element: [10 30 50]\n"
     ]
    }
   ],
   "source": [
    "#1D array indexing is similar to Python lists\n",
    "arr1D = np.array([10, 20, 30, 40, 50])\n",
    "\n",
    "print(f\"First element: {arr1D[0]}\")\n",
    "print(f\"Last element: {arr1D[-1]}\")\n",
    "print(f\"Slice [1:4] {arr1D[1:4]}\")\n",
    "print(f\"Every 2nd element: {arr1D[::2]}\")"
   ]
  },
  {
   "cell_type": "code",
   "execution_count": 24,
   "id": "a5835b93",
   "metadata": {},
   "outputs": [
    {
     "name": "stdout",
     "output_type": "stream",
     "text": [
      "Element at row1, column2: 7\n",
      "First row: [1 2 3 4]\n",
      "Second column: [ 2  6 10]\n",
      "Subarray (rows 1-2, cols 1-2): \n",
      "[[ 6  7]\n",
      " [10 11]]\n"
     ]
    }
   ],
   "source": [
    "# 2D array indexing: row and column access\n",
    "arr2D = np.array([[1,2,3,4],\n",
    "                  [5,6,7,8],\n",
    "                  [9,10,11,12]])\n",
    "\n",
    "#Accessing specific elements: [row, column]\n",
    "print(f\"Element at row1, column2: {arr2D[1,2]}\") #7\n",
    "\n",
    "#Accessing entire rows or columns\n",
    "print(f\"First row: {arr2D[0, :]}\")\n",
    "print(f\"Second column: {arr2D[:, 1]}\") #prints 2 6 10\n",
    "\n",
    "#Subarry slicing: [row_start:row_end, column_start:column_end]\n",
    "print(f\"Subarray (rows 1-2, cols 1-2): \\n{arr2D[1:3, 1:3]}\")"
   ]
  },
  {
   "cell_type": "markdown",
   "id": "42664567",
   "metadata": {},
   "source": [
    "#### Advanced Indexing: powerful selection methods"
   ]
  },
  {
   "cell_type": "code",
   "execution_count": null,
   "id": "65d4a16a",
   "metadata": {},
   "outputs": [
    {
     "name": "stdout",
     "output_type": "stream",
     "text": [
      "Fancy indexing: [10 30 50]\n",
      "Random order: [50 20 40 20]\n"
     ]
    }
   ],
   "source": [
    "#Fancy indexing: use arrays of indices to select elements\n",
    "arr = np.array([10,20,30,40,50])\n",
    "indices = np.array([0,2,4])\n",
    "print(f\"Fancy indexing: {arr[indices]}\")\n",
    "\n",
    "#this is much more flexible than simple slicing\n",
    "random_indices = np.array([4,1,3,1])\n",
    "print(f\"Random order: {arr[random_indices]}\") #[50, 20, 40, 20]"
   ]
  },
  {
   "cell_type": "code",
   "execution_count": null,
   "id": "412d8778",
   "metadata": {},
   "outputs": [
    {
     "name": "stdout",
     "output_type": "stream",
     "text": [
      " Original 2D array: \n",
      "[[ 0  1  2  3]\n",
      " [ 4  5  6  7]\n",
      " [ 8  9 10 11]]\n",
      "Element at (0,1) and (2,3): [ 1 11]\n",
      "Selected rows: \n",
      "[[0 1 2 3]\n",
      " [4 5 6 7]]\n"
     ]
    }
   ],
   "source": [
    "#2D fancy indexing: select specific row/column combinations\n",
    "#this shapes a 1D array gotten through arange(12) into 3x4\n",
    "arr2D = np.arange(12).reshape(3,4)\n",
    "print(f\" Original 2D array: \\n{arr2D}\")\n",
    "\n",
    "#Select element at (row, col) pairs: (0,1) and (2,3)\n",
    "rows = np.array([0,2])\n",
    "cols = np.array([1,3])\n",
    "#this prints out the elements at row 0 col 2, and row 2 column 3\n",
    "print(f\"Element at (0,1) and (2,3): {arr2D[rows, cols]}\")\n",
    "\n",
    "#Selecting entire rows using fancy indexing\n",
    "selected_rows = arr2D[[0,2], :] #this prints out the contents of row 0 and row 2\n",
    "print(f\"Selected rows: \\n{selected_rows}\")\n"
   ]
  },
  {
   "cell_type": "markdown",
   "id": "f6833373",
   "metadata": {},
   "source": [
    "### Array Reshaping and Manipulation"
   ]
  },
  {
   "cell_type": "code",
   "execution_count": 52,
   "id": "1b5c0adb",
   "metadata": {},
   "outputs": [
    {
     "name": "stdout",
     "output_type": "stream",
     "text": [
      "Original 1D array: [ 0  1  2  3  4  5  6  7  8  9 10 11]\n",
      "Reshaped to 3x4: \n",
      "[[ 0  1  2  3]\n",
      " [ 4  5  6  7]\n",
      " [ 8  9 10 11]]\n",
      "Reshaped to 2x2x3: \n",
      "[[[ 0  1  2]\n",
      "  [ 3  4  5]]\n",
      "\n",
      " [[ 6  7  8]\n",
      "  [ 9 10 11]]]\n",
      "Auto-reshaped to 4x?:\n",
      " [[ 0  1  2]\n",
      " [ 3  4  5]\n",
      " [ 6  7  8]\n",
      " [ 9 10 11]]\n"
     ]
    }
   ],
   "source": [
    "#Reshaping changes how the same data is organized in memorey without changing the actual values\n",
    "\n",
    "#Starting with a 1D array\n",
    "arr = np.arange(12)\n",
    "print(f\"Original 1D array: {arr}\")\n",
    "\n",
    "#Reshaping to a 2D 3x4 array\n",
    "reshaped_2d = arr.reshape(3,4)\n",
    "print(f\"Reshaped to 3x4: \\n{reshaped_2d}\")\n",
    "\n",
    "#Reshaping to 2 layered 3D 2x3 array\n",
    "reshaped_3d = arr.reshape(2,2,3)\n",
    "print(f\"Reshaped to 2x2x3: \\n{reshaped_3d}\")\n",
    "\n",
    "#Using -1 to let NumPy calculate one dimension automatically\n",
    "auto_reshape = arr.reshape(4, -1) #inputted 4 as the number of rows, Numpy calculates the number of columns required\n",
    "print(f\"Auto-reshaped to 4x?:\\n {auto_reshape}\")\n"
   ]
  },
  {
   "cell_type": "code",
   "execution_count": 54,
   "id": "16846e59",
   "metadata": {},
   "outputs": [
    {
     "name": "stdout",
     "output_type": "stream",
     "text": [
      "Flattened (copy): [1 2 3 4 5 6]\n",
      "Ravel (view if possible): [1 2 3 4 5 6]\n"
     ]
    }
   ],
   "source": [
    "#Flattening: converts multi-dimensional arrays to 1D\n",
    "arr2d = np.array([[1,2,3], [4,5,6]])\n",
    "\n",
    "#Flatten() always returns a copy\n",
    "flattened = arr2d.flatten()\n",
    "print(f\"Flattened (copy): {flattened}\")\n",
    "\n",
    "#Ravel() returns a view if possible (this is faster and more efficient)\n",
    "ravel = arr2d.ravel()\n",
    "print(f\"Ravel (view if possible): {ravel}\")"
   ]
  },
  {
   "cell_type": "markdown",
   "id": "deee9416",
   "metadata": {},
   "source": [
    "### Transposing and Swapping Axes"
   ]
  },
  {
   "cell_type": "code",
   "execution_count": 58,
   "id": "a1aeb3ed",
   "metadata": {},
   "outputs": [
    {
     "name": "stdout",
     "output_type": "stream",
     "text": [
      "Original shape: (2, 3)\n",
      "Original: \n",
      "[[1 2 3]\n",
      " [4 5 6]]\n",
      "Transposed shape: (3, 2)\n",
      "Transposed: \n",
      "[[1 4]\n",
      " [2 5]\n",
      " [3 6]]\n",
      "Transpose methods: \n",
      "[[1 4]\n",
      " [2 5]\n",
      " [3 6]]\n"
     ]
    }
   ],
   "source": [
    "#2D tranposition: flips rows and columns\n",
    "arr2d = np.array([[1,2,3], [4,5,6]])\n",
    "print(f\"Original shape: {arr2d.shape}\")\n",
    "print(f\"Original: \\n{arr2d}\")\n",
    "\n",
    "print(f\"Transposed shape: {arr2d.T.shape}\")\n",
    "print(f\"Transposed: \\n{arr2d.T}\")\n",
    "\n",
    "#Alternative transpose methods\n",
    "print(f\"Transpose methods: \\n{arr2d.transpose()}\")"
   ]
  },
  {
   "cell_type": "code",
   "execution_count": null,
   "id": "73046386",
   "metadata": {},
   "outputs": [
    {
     "name": "stdout",
     "output_type": "stream",
     "text": [
      "[[[ 0  1  2  3]\n",
      "  [ 4  5  6  7]\n",
      "  [ 8  9 10 11]]\n",
      "\n",
      " [[12 13 14 15]\n",
      "  [16 17 18 19]\n",
      "  [20 21 22 23]]]\n",
      "(2, 3, 4)\n",
      "Transposed 3D: \n",
      "(4, 2, 3)\n"
     ]
    }
   ],
   "source": [
    "#Higher dimensional transposition\n",
    "arr3d = np.arange(24).reshape(2,3,4)\n",
    "print(arr3d)\n",
    "print(arr3d.shape)\n",
    "\n",
    "#Specifying new axis order : (axis0, axis1, axis3) → (axis2, axis0, axis1)\n",
    "transposed_3d = arr3d.transpose(2,0,1) #this becomes 4 layers, 2 rows, and 3 columns\n",
    "print(f\"Transposed 3D: \\n{transposed_3d.shape}\")\n",
    "\n",
    "#Moved axis \n"
   ]
  }
 ],
 "metadata": {
  "kernelspec": {
   "display_name": "intro_to_numpy (3.13.7)",
   "language": "python",
   "name": "python3"
  },
  "language_info": {
   "codemirror_mode": {
    "name": "ipython",
    "version": 3
   },
   "file_extension": ".py",
   "mimetype": "text/x-python",
   "name": "python",
   "nbconvert_exporter": "python",
   "pygments_lexer": "ipython3",
   "version": "3.13.7"
  }
 },
 "nbformat": 4,
 "nbformat_minor": 5
}
