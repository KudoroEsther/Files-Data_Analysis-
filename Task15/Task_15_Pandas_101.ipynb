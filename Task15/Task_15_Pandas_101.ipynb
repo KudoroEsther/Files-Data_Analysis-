{
 "cells": [
  {
   "cell_type": "code",
   "execution_count": 2,
   "id": "11431396",
   "metadata": {},
   "outputs": [],
   "source": [
    "import pandas as pd\n",
    "import os"
   ]
  },
  {
   "cell_type": "code",
   "execution_count": 3,
   "id": "1dee3e66",
   "metadata": {},
   "outputs": [
    {
     "data": {
      "text/html": [
       "<div>\n",
       "<style scoped>\n",
       "    .dataframe tbody tr th:only-of-type {\n",
       "        vertical-align: middle;\n",
       "    }\n",
       "\n",
       "    .dataframe tbody tr th {\n",
       "        vertical-align: top;\n",
       "    }\n",
       "\n",
       "    .dataframe thead th {\n",
       "        text-align: right;\n",
       "    }\n",
       "</style>\n",
       "<table border=\"1\" class=\"dataframe\">\n",
       "  <thead>\n",
       "    <tr style=\"text-align: right;\">\n",
       "      <th></th>\n",
       "      <th>Sales Person</th>\n",
       "      <th>Geography</th>\n",
       "      <th>Product</th>\n",
       "      <th>Date</th>\n",
       "      <th>Amount</th>\n",
       "      <th>Boxes</th>\n",
       "    </tr>\n",
       "  </thead>\n",
       "  <tbody>\n",
       "    <tr>\n",
       "      <th>0</th>\n",
       "      <td>Barr Faughny</td>\n",
       "      <td>New Zealand</td>\n",
       "      <td>Raspberry Choco</td>\n",
       "      <td>2021-01-01</td>\n",
       "      <td>8414</td>\n",
       "      <td>495</td>\n",
       "    </tr>\n",
       "    <tr>\n",
       "      <th>1</th>\n",
       "      <td>Dennison Crosswaite</td>\n",
       "      <td>Canada</td>\n",
       "      <td>White Choc</td>\n",
       "      <td>2021-01-01</td>\n",
       "      <td>532</td>\n",
       "      <td>54</td>\n",
       "    </tr>\n",
       "    <tr>\n",
       "      <th>2</th>\n",
       "      <td>Karlen McCaffrey</td>\n",
       "      <td>USA</td>\n",
       "      <td>99% Dark &amp; Pure</td>\n",
       "      <td>2021-01-01</td>\n",
       "      <td>5376</td>\n",
       "      <td>269</td>\n",
       "    </tr>\n",
       "    <tr>\n",
       "      <th>3</th>\n",
       "      <td>Barr Faughny</td>\n",
       "      <td>New Zealand</td>\n",
       "      <td>Baker's Choco Chips</td>\n",
       "      <td>2021-01-01</td>\n",
       "      <td>259</td>\n",
       "      <td>22</td>\n",
       "    </tr>\n",
       "    <tr>\n",
       "      <th>4</th>\n",
       "      <td>Beverie Moffet</td>\n",
       "      <td>USA</td>\n",
       "      <td>Manuka Honey Choco</td>\n",
       "      <td>2021-01-01</td>\n",
       "      <td>5530</td>\n",
       "      <td>179</td>\n",
       "    </tr>\n",
       "  </tbody>\n",
       "</table>\n",
       "</div>"
      ],
      "text/plain": [
       "          Sales Person      Geography              Product       Date  Amount  \\\n",
       "0         Barr Faughny    New Zealand      Raspberry Choco 2021-01-01    8414   \n",
       "1  Dennison Crosswaite         Canada           White Choc 2021-01-01     532   \n",
       "2     Karlen McCaffrey            USA      99% Dark & Pure 2021-01-01    5376   \n",
       "3         Barr Faughny    New Zealand  Baker's Choco Chips 2021-01-01     259   \n",
       "4       Beverie Moffet            USA   Manuka Honey Choco 2021-01-01    5530   \n",
       "\n",
       "   Boxes  \n",
       "0    495  \n",
       "1     54  \n",
       "2    269  \n",
       "3     22  \n",
       "4    179  "
      ]
     },
     "execution_count": 3,
     "metadata": {},
     "output_type": "execute_result"
    }
   ],
   "source": [
    "sales = pd.read_excel(\"Sales Data.xlsx\")\n",
    "sales.head()"
   ]
  },
  {
   "cell_type": "code",
   "execution_count": 4,
   "id": "3108e6db",
   "metadata": {},
   "outputs": [
    {
     "data": {
      "text/plain": [
       "Sales Person    0\n",
       "Geography       0\n",
       "Product         0\n",
       "Date            0\n",
       "Amount          0\n",
       "Boxes           0\n",
       "dtype: int64"
      ]
     },
     "execution_count": 4,
     "metadata": {},
     "output_type": "execute_result"
    }
   ],
   "source": [
    "sales.isna().sum()"
   ]
  },
  {
   "cell_type": "code",
   "execution_count": 5,
   "id": "c42768e9",
   "metadata": {},
   "outputs": [
    {
     "data": {
      "text/plain": [
       "(3791, 6)"
      ]
     },
     "execution_count": 5,
     "metadata": {},
     "output_type": "execute_result"
    }
   ],
   "source": [
    "sales.shape"
   ]
  },
  {
   "cell_type": "code",
   "execution_count": null,
   "id": "48b54b49",
   "metadata": {},
   "outputs": [
    {
     "data": {
      "text/html": [
       "<div>\n",
       "<style scoped>\n",
       "    .dataframe tbody tr th:only-of-type {\n",
       "        vertical-align: middle;\n",
       "    }\n",
       "\n",
       "    .dataframe tbody tr th {\n",
       "        vertical-align: top;\n",
       "    }\n",
       "\n",
       "    .dataframe thead th {\n",
       "        text-align: right;\n",
       "    }\n",
       "</style>\n",
       "<table border=\"1\" class=\"dataframe\">\n",
       "  <thead>\n",
       "    <tr style=\"text-align: right;\">\n",
       "      <th></th>\n",
       "      <th>Sales Person</th>\n",
       "      <th>Geography</th>\n",
       "      <th>Product</th>\n",
       "      <th>Date</th>\n",
       "      <th>Amount</th>\n",
       "      <th>Boxes</th>\n",
       "    </tr>\n",
       "  </thead>\n",
       "  <tbody>\n",
       "    <tr>\n",
       "      <th>0</th>\n",
       "      <td>Barr Faughny</td>\n",
       "      <td>New Zealand</td>\n",
       "      <td>Raspberry Choco</td>\n",
       "      <td>2021-01-01</td>\n",
       "      <td>8414</td>\n",
       "      <td>495</td>\n",
       "    </tr>\n",
       "    <tr>\n",
       "      <th>2</th>\n",
       "      <td>Karlen McCaffrey</td>\n",
       "      <td>USA</td>\n",
       "      <td>99% Dark &amp; Pure</td>\n",
       "      <td>2021-01-01</td>\n",
       "      <td>5376</td>\n",
       "      <td>269</td>\n",
       "    </tr>\n",
       "    <tr>\n",
       "      <th>4</th>\n",
       "      <td>Beverie Moffet</td>\n",
       "      <td>USA</td>\n",
       "      <td>Manuka Honey Choco</td>\n",
       "      <td>2021-01-01</td>\n",
       "      <td>5530</td>\n",
       "      <td>179</td>\n",
       "    </tr>\n",
       "    <tr>\n",
       "      <th>6</th>\n",
       "      <td>Oby Sorrel</td>\n",
       "      <td>UK</td>\n",
       "      <td>Raspberry Choco</td>\n",
       "      <td>2021-01-01</td>\n",
       "      <td>1057</td>\n",
       "      <td>71</td>\n",
       "    </tr>\n",
       "  </tbody>\n",
       "</table>\n",
       "</div>"
      ],
      "text/plain": [
       "       Sales Person      Geography             Product       Date  Amount  \\\n",
       "0      Barr Faughny    New Zealand     Raspberry Choco 2021-01-01    8414   \n",
       "2  Karlen McCaffrey            USA     99% Dark & Pure 2021-01-01    5376   \n",
       "4    Beverie Moffet            USA  Manuka Honey Choco 2021-01-01    5530   \n",
       "6        Oby Sorrel             UK     Raspberry Choco 2021-01-01    1057   \n",
       "\n",
       "   Boxes  \n",
       "0    495  \n",
       "2    269  \n",
       "4    179  \n",
       "6     71  "
      ]
     },
     "execution_count": 6,
     "metadata": {},
     "output_type": "execute_result"
    }
   ],
   "source": [
    "#Using loc\n",
    "[0,2,4,6]\n",
    "#extracts rows with the specified index numbers. Loc works with both integers and string\n",
    "sales.loc[[0,2,4,6]]\n"
   ]
  },
  {
   "cell_type": "code",
   "execution_count": null,
   "id": "de059185",
   "metadata": {},
   "outputs": [
    {
     "data": {
      "text/html": [
       "<div>\n",
       "<style scoped>\n",
       "    .dataframe tbody tr th:only-of-type {\n",
       "        vertical-align: middle;\n",
       "    }\n",
       "\n",
       "    .dataframe tbody tr th {\n",
       "        vertical-align: top;\n",
       "    }\n",
       "\n",
       "    .dataframe thead th {\n",
       "        text-align: right;\n",
       "    }\n",
       "</style>\n",
       "<table border=\"1\" class=\"dataframe\">\n",
       "  <thead>\n",
       "    <tr style=\"text-align: right;\">\n",
       "      <th></th>\n",
       "      <th>Sales Person</th>\n",
       "      <th>Geography</th>\n",
       "      <th>Product</th>\n",
       "      <th>Date</th>\n",
       "      <th>Amount</th>\n",
       "      <th>Boxes</th>\n",
       "    </tr>\n",
       "  </thead>\n",
       "  <tbody>\n",
       "    <tr>\n",
       "      <th>0</th>\n",
       "      <td>Barr Faughny</td>\n",
       "      <td>New Zealand</td>\n",
       "      <td>Raspberry Choco</td>\n",
       "      <td>2021-01-01</td>\n",
       "      <td>8414</td>\n",
       "      <td>495</td>\n",
       "    </tr>\n",
       "    <tr>\n",
       "      <th>2</th>\n",
       "      <td>Karlen McCaffrey</td>\n",
       "      <td>USA</td>\n",
       "      <td>99% Dark &amp; Pure</td>\n",
       "      <td>2021-01-01</td>\n",
       "      <td>5376</td>\n",
       "      <td>269</td>\n",
       "    </tr>\n",
       "    <tr>\n",
       "      <th>4</th>\n",
       "      <td>Beverie Moffet</td>\n",
       "      <td>USA</td>\n",
       "      <td>Manuka Honey Choco</td>\n",
       "      <td>2021-01-01</td>\n",
       "      <td>5530</td>\n",
       "      <td>179</td>\n",
       "    </tr>\n",
       "    <tr>\n",
       "      <th>6</th>\n",
       "      <td>Oby Sorrel</td>\n",
       "      <td>UK</td>\n",
       "      <td>Raspberry Choco</td>\n",
       "      <td>2021-01-01</td>\n",
       "      <td>1057</td>\n",
       "      <td>71</td>\n",
       "    </tr>\n",
       "  </tbody>\n",
       "</table>\n",
       "</div>"
      ],
      "text/plain": [
       "       Sales Person      Geography             Product       Date  Amount  \\\n",
       "0      Barr Faughny    New Zealand     Raspberry Choco 2021-01-01    8414   \n",
       "2  Karlen McCaffrey            USA     99% Dark & Pure 2021-01-01    5376   \n",
       "4    Beverie Moffet            USA  Manuka Honey Choco 2021-01-01    5530   \n",
       "6        Oby Sorrel             UK     Raspberry Choco 2021-01-01    1057   \n",
       "\n",
       "   Boxes  \n",
       "0    495  \n",
       "2    269  \n",
       "4    179  \n",
       "6     71  "
      ]
     },
     "execution_count": 7,
     "metadata": {},
     "output_type": "execute_result"
    }
   ],
   "source": [
    "#Using iloc\n",
    "#iloc works with only integers\n",
    "sales.iloc[[0,2,4,6]]"
   ]
  },
  {
   "cell_type": "code",
   "execution_count": 8,
   "id": "a5ada412",
   "metadata": {},
   "outputs": [
    {
     "data": {
      "text/plain": [
       "Index(['Sales Person', 'Geography', 'Product', 'Date', 'Amount', 'Boxes'], dtype='object')"
      ]
     },
     "execution_count": 8,
     "metadata": {},
     "output_type": "execute_result"
    }
   ],
   "source": [
    "sales.columns"
   ]
  },
  {
   "cell_type": "code",
   "execution_count": null,
   "id": "af92bf66",
   "metadata": {},
   "outputs": [
    {
     "data": {
      "text/html": [
       "<div>\n",
       "<style scoped>\n",
       "    .dataframe tbody tr th:only-of-type {\n",
       "        vertical-align: middle;\n",
       "    }\n",
       "\n",
       "    .dataframe tbody tr th {\n",
       "        vertical-align: top;\n",
       "    }\n",
       "\n",
       "    .dataframe thead th {\n",
       "        text-align: right;\n",
       "    }\n",
       "</style>\n",
       "<table border=\"1\" class=\"dataframe\">\n",
       "  <thead>\n",
       "    <tr style=\"text-align: right;\">\n",
       "      <th></th>\n",
       "      <th>Sales Person</th>\n",
       "      <th>Product</th>\n",
       "      <th>Amount</th>\n",
       "    </tr>\n",
       "  </thead>\n",
       "  <tbody>\n",
       "    <tr>\n",
       "      <th>0</th>\n",
       "      <td>Barr Faughny</td>\n",
       "      <td>Raspberry Choco</td>\n",
       "      <td>8414</td>\n",
       "    </tr>\n",
       "    <tr>\n",
       "      <th>2</th>\n",
       "      <td>Karlen McCaffrey</td>\n",
       "      <td>99% Dark &amp; Pure</td>\n",
       "      <td>5376</td>\n",
       "    </tr>\n",
       "    <tr>\n",
       "      <th>4</th>\n",
       "      <td>Beverie Moffet</td>\n",
       "      <td>Manuka Honey Choco</td>\n",
       "      <td>5530</td>\n",
       "    </tr>\n",
       "    <tr>\n",
       "      <th>7</th>\n",
       "      <td>Dotty Strutley</td>\n",
       "      <td>Organic Choco Syrup</td>\n",
       "      <td>1036</td>\n",
       "    </tr>\n",
       "  </tbody>\n",
       "</table>\n",
       "</div>"
      ],
      "text/plain": [
       "       Sales Person              Product  Amount\n",
       "0      Barr Faughny      Raspberry Choco    8414\n",
       "2  Karlen McCaffrey      99% Dark & Pure    5376\n",
       "4    Beverie Moffet   Manuka Honey Choco    5530\n",
       "7    Dotty Strutley  Organic Choco Syrup    1036"
      ]
     },
     "execution_count": 9,
     "metadata": {},
     "output_type": "execute_result"
    }
   ],
   "source": [
    "#indexing columns\n",
    "#this prints out the rows, columns based on the specified row indexes and column names\n",
    "sales.loc[[0,2,4,7], [\"Sales Person\", \"Product\", \"Amount\"]]"
   ]
  }
 ],
 "metadata": {
  "kernelspec": {
   "display_name": "Pandass",
   "language": "python",
   "name": "python3"
  },
  "language_info": {
   "codemirror_mode": {
    "name": "ipython",
    "version": 3
   },
   "file_extension": ".py",
   "mimetype": "text/x-python",
   "name": "python",
   "nbconvert_exporter": "python",
   "pygments_lexer": "ipython3",
   "version": "3.13.6"
  }
 },
 "nbformat": 4,
 "nbformat_minor": 5
}
