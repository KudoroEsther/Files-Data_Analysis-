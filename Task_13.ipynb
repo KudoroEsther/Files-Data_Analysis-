{
 "cells": [
  {
   "cell_type": "markdown",
   "id": "d8fd5a8a",
   "metadata": {},
   "source": [
    "# Task 13"
   ]
  },
  {
   "cell_type": "code",
   "execution_count": 15,
   "id": "85098a04",
   "metadata": {},
   "outputs": [],
   "source": [
    "import numpy as np\n",
    "import matplotlib.pyplot as plt\n",
    "import time\n",
    "\n",
    "np.set_printoptions(precision=3, suppress=True)"
   ]
  },
  {
   "cell_type": "markdown",
   "id": "5e8a607f",
   "metadata": {},
   "source": [
    "### Question 1"
   ]
  },
  {
   "cell_type": "markdown",
   "id": "7d2253c3",
   "metadata": {},
   "source": [
    "1. Create a 6x6 NumPy array with random integers between 1 and 50. Display the array."
   ]
  },
  {
   "cell_type": "code",
   "execution_count": 16,
   "id": "58f320d6",
   "metadata": {},
   "outputs": [
    {
     "name": "stdout",
     "output_type": "stream",
     "text": [
      "Random numbers between 1 and 50:\n",
      "[[46 20  4 13  1 21]\n",
      " [18 40  1  7  1 32]\n",
      " [ 2  6 42 15 19 31]\n",
      " [13 45  1 11 31  6]\n",
      " [44 37  1 34 13 35]\n",
      " [38 20  2  2 35  1]]\n"
     ]
    }
   ],
   "source": [
    "#A 6X6 Numpy array\n",
    "\n",
    "arr = np.random.randint(50, size=(6,6))\n",
    "print(f\"Random numbers between 1 and 50:\\n{arr}\")\n"
   ]
  },
  {
   "cell_type": "markdown",
   "id": "6ccf6a2a",
   "metadata": {},
   "source": [
    "### Question 2"
   ]
  },
  {
   "cell_type": "markdown",
   "id": "577bf278",
   "metadata": {},
   "source": [
    "\n",
    "2. Extract the following from the array you created in Question 1: The first two rows. The last three columns. All even numbers in the array.\n"
   ]
  },
  {
   "cell_type": "code",
   "execution_count": 17,
   "id": "a57bebf6",
   "metadata": {},
   "outputs": [
    {
     "name": "stdout",
     "output_type": "stream",
     "text": [
      "First 2 rows: \n",
      "[[46 20  4 13  1 21]\n",
      " [18 40  1  7  1 32]]\n",
      "\n",
      "Last three columns: \n",
      "[[13  1 21]\n",
      " [ 7  1 32]\n",
      " [15 19 31]\n",
      " [11 31  6]\n",
      " [34 13 35]\n",
      " [ 2 35  1]]\n",
      "\n",
      "Even numbers in the array: \n",
      "[46 20  4 18 40 32  2  6 42  6 44 34 38 20  2  2]\n"
     ]
    }
   ],
   "source": [
    "print(f\"First 2 rows: \\n{arr[0:2, :]}\")\n",
    "print(f\"\\nLast three columns: \\n{arr[:, 3:]}\")\n",
    "print(f\"\\nEven numbers in the array: \\n{arr[arr%2 == 0]}\")\n"
   ]
  },
  {
   "cell_type": "markdown",
   "id": "324c541a",
   "metadata": {},
   "source": [
    "### Question 3"
   ]
  },
  {
   "cell_type": "markdown",
   "id": "ed1ea0e5",
   "metadata": {},
   "source": [
    "3. Perform the following array transformations: Reshape the array into a 3D (3, 2, 6) array. Flatten the reshaped array back to 1D."
   ]
  },
  {
   "cell_type": "code",
   "execution_count": 18,
   "id": "78a80c6d",
   "metadata": {},
   "outputs": [
    {
     "name": "stdout",
     "output_type": "stream",
     "text": [
      "Reshaped into 3D:\n",
      "[[[46 20  4 13  1 21]\n",
      "  [18 40  1  7  1 32]]\n",
      "\n",
      " [[ 2  6 42 15 19 31]\n",
      "  [13 45  1 11 31  6]]\n",
      "\n",
      " [[44 37  1 34 13 35]\n",
      "  [38 20  2  2 35  1]]]\n",
      "\n",
      "Flattened: \n",
      "[46 20  4 13  1 21 18 40  1  7  1 32  2  6 42 15 19 31 13 45  1 11 31  6\n",
      " 44 37  1 34 13 35 38 20  2  2 35  1]\n"
     ]
    }
   ],
   "source": [
    "#Reshaping into 3D\n",
    "print(f\"Reshaped into 3D:\\n{arr.reshape(3,2,6)}\")\n",
    "\n",
    "#Flattening into 1D\n",
    "flat = arr.flatten()\n",
    "print(f\"\\nFlattened: \\n{flat}\")"
   ]
  },
  {
   "cell_type": "markdown",
   "id": "01822a20",
   "metadata": {},
   "source": [
    "### Question 4"
   ]
  },
  {
   "cell_type": "markdown",
   "id": "0132698a",
   "metadata": {},
   "source": [
    "4. Generate a 4x4 identity matrix and replace the diagonal with numbers from 10 to 40, with a step of 10."
   ]
  },
  {
   "cell_type": "code",
   "execution_count": 19,
   "id": "02047c81",
   "metadata": {},
   "outputs": [
    {
     "name": "stdout",
     "output_type": "stream",
     "text": [
      "[[10.  0.  0.  0.]\n",
      " [ 0. 20.  0.  0.]\n",
      " [ 0.  0. 30.  0.]\n",
      " [ 0.  0.  0. 40.]]\n"
     ]
    }
   ],
   "source": [
    "identity = np.eye(4)\n",
    "\n",
    "np.fill_diagonal(identity, (np.arange(10,50,10)))\n",
    "print(identity)\n"
   ]
  },
  {
   "cell_type": "markdown",
   "id": "35ab9a73",
   "metadata": {},
   "source": [
    "### Question 5"
   ]
  },
  {
   "cell_type": "markdown",
   "id": "520e6a0e",
   "metadata": {},
   "source": [
    "5. Perform matrix multiplication between: A 3x4 matrix of random integers (1-10) A 4x3 matrix of random integers (1-10)"
   ]
  },
  {
   "cell_type": "code",
   "execution_count": 20,
   "id": "5fc3ede5",
   "metadata": {},
   "outputs": [
    {
     "name": "stdout",
     "output_type": "stream",
     "text": [
      "\n",
      "3x4 array: \n",
      "[[9 6 7 5]\n",
      " [3 1 3 7]\n",
      " [4 8 6 1]]\n",
      "\n",
      "4x3 array: \n",
      "[[9 5 1]\n",
      " [9 7 6]\n",
      " [4 7 8]\n",
      " [8 5 2]]\n",
      "\n",
      "Multiplication: \n",
      "[[203 161 111]\n",
      " [104  78  47]\n",
      " [140 123 102]]\n"
     ]
    }
   ],
   "source": [
    "#Matrix multiplication\n",
    "mat1 = np.random.randint(1,10, size=(3,4))\n",
    "mat2 = np.random.randint(1,10, size=(4,3))\n",
    "mult = np.dot(mat1,mat2)\n",
    "\n",
    "print(f\"\\n3x4 array: \\n{mat1}\")\n",
    "print(f\"\\n4x3 array: \\n{mat2}\")\n",
    "print(f\"\\nMultiplication: \\n{mult}\")"
   ]
  },
  {
   "cell_type": "markdown",
   "id": "6f6bbe2a",
   "metadata": {},
   "source": [
    "### Question 6"
   ]
  },
  {
   "cell_type": "markdown",
   "id": "4ddb1414",
   "metadata": {},
   "source": [
    "6. Create a function that takes a 2D NumPy array as input and returns a new array where: All even numbers are squared. All odd numbers are replaced by -1."
   ]
  },
  {
   "cell_type": "code",
   "execution_count": null,
   "id": "e2ca30e5",
   "metadata": {},
   "outputs": [],
   "source": [
    "def array_manipulator(arr2d):\n",
    "    #this reshapes the inputted 1D array into a 2 by x array\n",
    "    array = np.array(arr2d).reshape(2,-1)\n",
    "\n",
    "    #this checks for even numbers and replaces it with the square of that even number or it replaces the odd numbers with -1\n",
    "    output = np.where(array %2 == 0, array**2, -1 )\n",
    "    return f\"Latest array: \\n{output}\"\n",
    "\n",
    "list_array = []\n",
    "for i in range(4):\n",
    "    arr2 = int(input(\"Enter four numbers: \"))\n",
    "    list_array.append(arr2)\n",
    "\n",
    "print(list_array)\n",
    "print(array_manipulator(list_array))\n",
    "    "
   ]
  },
  {
   "cell_type": "code",
   "execution_count": null,
   "id": "e0ddb999",
   "metadata": {},
   "outputs": [],
   "source": []
  }
 ],
 "metadata": {
  "kernelspec": {
   "display_name": "intro_to_numpy (3.13.7)",
   "language": "python",
   "name": "python3"
  },
  "language_info": {
   "codemirror_mode": {
    "name": "ipython",
    "version": 3
   },
   "file_extension": ".py",
   "mimetype": "text/x-python",
   "name": "python",
   "nbconvert_exporter": "python",
   "pygments_lexer": "ipython3",
   "version": "3.13.7"
  }
 },
 "nbformat": 4,
 "nbformat_minor": 5
}
